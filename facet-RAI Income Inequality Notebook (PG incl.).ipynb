{
 "cells": [
  {
   "cell_type": "markdown",
   "metadata": {},
   "source": [
    "### Imports"
   ]
  },
  {
   "cell_type": "code",
   "execution_count": 1,
   "metadata": {},
   "outputs": [],
   "source": [
    "# Import analysis libraries\n",
    "import time\n",
    "import warnings\n",
    "warnings.filterwarnings(\"ignore\")\n",
    "import pandas as pd\n",
    "import numpy as np\n",
    "import matplotlib.pyplot as plt\n",
    "from sklearn import preprocessing\n",
    "from sklearn.model_selection import GridSearchCV\n",
    "from sklearn.ensemble import RandomForestClassifier\n",
    "\n",
    "from sklearn.metrics import log_loss\n",
    "from sklearn.tree import DecisionTreeClassifier\n",
    "from sklearn.preprocessing import LabelEncoder\n",
    "\n",
    "# from notebooks/ directory\n",
    "import sys, os\n",
    "\n",
    "# ADDITIONS:\n",
    "from src.RAI import DataBiasChecker, ModelBiasRanker, ModelBiasHandler"
   ]
  },
  {
   "cell_type": "markdown",
   "metadata": {},
   "source": [
    "### Read data"
   ]
  },
  {
   "cell_type": "code",
   "execution_count": 2,
   "metadata": {},
   "outputs": [],
   "source": [
    "## Download input file from BCG Egnyte - RAI folder\n",
    "## https://bcg01.egnyte.com/navigate/folder/881ba5c2-8f6e-4eb6-b940-848faa78dee9\n",
    "model_input_path = './data/usa_IPUMS_2022.csv.gz'\n",
    "model_input = pd.read_csv(model_input_path, compression='gzip', header=0, sep=',', quotechar='\"', error_bad_lines=False)\n"
   ]
  },
  {
   "cell_type": "code",
   "execution_count": 3,
   "metadata": {},
   "outputs": [
    {
     "data": {
      "text/plain": [
       "2019    3239553\n",
       "2018    3214539\n",
       "2017    3190040\n",
       "2016    3156487\n",
       "2015    3147005\n",
       "Name: YEAR, dtype: int64"
      ]
     },
     "execution_count": 3,
     "metadata": {},
     "output_type": "execute_result"
    }
   ],
   "source": [
    "model_input.YEAR.value_counts()"
   ]
  },
  {
   "cell_type": "code",
   "execution_count": 4,
   "metadata": {},
   "outputs": [
    {
     "data": {
      "text/plain": [
       "Index(['YEAR', 'SAMPLE', 'SERIAL', 'CBSERIAL', 'NUMPREC', 'SUBSAMP', 'HHWT',\n",
       "       'HHTYPE', 'CBHHTYPE', 'CLUSTER', 'ADJUST', 'CPI99', 'REGION',\n",
       "       'STATEICP', 'METRO', 'MET2013', 'METPOP10', 'CITY', 'STRATA', 'GQ',\n",
       "       'OWNERSHP', 'OWNERSHPD', 'MORTGAGE', 'MORTAMT1', 'MORTAMT2', 'RENT',\n",
       "       'HHINCOME', 'VALUEH', 'COUPLETYPE', 'SSMC', 'NFAMS', 'NSUBFAM',\n",
       "       'NCOUPLES', 'NMOTHERS', 'NFATHERS', 'MULTGEN', 'MULTGEND', 'CBNSUBFAM',\n",
       "       'RESPMODE', 'PERNUM', 'PERWT', 'RELATE', 'RELATED', 'SEX', 'AGE',\n",
       "       'MARST', 'MARRNO', 'RACE', 'RACED', 'HISPAN', 'HISPAND', 'CITIZEN',\n",
       "       'YRSUSA1', 'SPEAKENG', 'SCHOOL', 'EDUC', 'EDUCD', 'GRADEATT',\n",
       "       'GRADEATTD', 'SCHLTYPE', 'INCTOT', 'FTOTINC', 'INCWAGE', 'INCSS',\n",
       "       'POVERTY', 'OCCSCORE', 'SEI', 'HWSEI'],\n",
       "      dtype='object')"
      ]
     },
     "execution_count": 4,
     "metadata": {},
     "output_type": "execute_result"
    }
   ],
   "source": [
    "pd.set_option('display.max_columns', None)\n",
    "\n",
    "model_input.columns"
   ]
  },
  {
   "cell_type": "markdown",
   "metadata": {},
   "source": [
    "### Filter down to working age (18-80) records for which we have income"
   ]
  },
  {
   "cell_type": "code",
   "execution_count": 5,
   "metadata": {},
   "outputs": [
    {
     "name": "stdout",
     "output_type": "stream",
     "text": [
      "(15947624, 68)\n",
      "(13285667, 68)\n"
     ]
    },
    {
     "data": {
      "text/plain": [
       "<matplotlib.axes._subplots.AxesSubplot at 0x7fcb5900de10>"
      ]
     },
     "execution_count": 5,
     "metadata": {},
     "output_type": "execute_result"
    },
    {
     "data": {
      "image/png": "[encoded data removed]",
      "text/plain": [
       "<Figure size 432x288 with 1 Axes>"
      ]
     },
     "metadata": {
      "needs_background": "light"
     },
     "output_type": "display_data"
    }
   ],
   "source": [
    "# Remove Missing values\n",
    "# model_input.INCTOT.max()\n",
    "# 9999999\n",
    "print(model_input.shape)\n",
    "model_input = model_input[model_input['INCTOT'] != 9999999]\n",
    "print(model_input.shape)\n",
    "model_input.INCTOT.hist(bins = 50)"
   ]
  },
  {
   "cell_type": "code",
   "execution_count": 6,
   "metadata": {},
   "outputs": [
    {
     "name": "stdout",
     "output_type": "stream",
     "text": [
      "(13285667, 68)\n",
      "(11704918, 68)\n"
     ]
    },
    {
     "data": {
      "text/plain": [
       "<matplotlib.axes._subplots.AxesSubplot at 0x7fcb5810a450>"
      ]
     },
     "execution_count": 6,
     "metadata": {},
     "output_type": "execute_result"
    },
    {
     "data": {
      "image/png": "[encoded data removed]",
      "text/plain": [
       "<Figure size 432x288 with 1 Axes>"
      ]
     },
     "metadata": {
      "needs_background": "light"
     },
     "output_type": "display_data"
    }
   ],
   "source": [
    "print(model_input.shape)\n",
    "model_input = model_input[model_input['AGE'] > 18]\n",
    "model_input = model_input[model_input['AGE'] < 80]\n",
    "print(model_input.shape)\n",
    "model_input.AGE.hist(bins = 61)"
   ]
  },
  {
   "cell_type": "markdown",
   "metadata": {},
   "source": [
    "### Create a binary target variables"
   ]
  },
  {
   "cell_type": "code",
   "execution_count": 7,
   "metadata": {},
   "outputs": [
    {
     "data": {
      "text/plain": [
       "0    0.983825\n",
       "1    0.016175\n",
       "Name: high_income, dtype: float64"
      ]
     },
     "execution_count": 7,
     "metadata": {},
     "output_type": "execute_result"
    }
   ],
   "source": [
    "model_input['high_income'] = np.where(model_input.INCTOT > 250000,1,0)\n",
    "model_input['high_income'].value_counts(normalize=True)"
   ]
  },
  {
   "cell_type": "markdown",
   "metadata": {},
   "source": [
    "### Quick check if there is gender bias"
   ]
  },
  {
   "cell_type": "code",
   "execution_count": 8,
   "metadata": {},
   "outputs": [
    {
     "data": {
      "text/html": [
       "<div>\n",
       "<style scoped>\n",
       "    .dataframe tbody tr th:only-of-type {\n",
       "        vertical-align: middle;\n",
       "    }\n",
       "\n",
       "    .dataframe tbody tr th {\n",
       "        vertical-align: top;\n",
       "    }\n",
       "\n",
       "    .dataframe thead th {\n",
       "        text-align: right;\n",
       "    }\n",
       "</style>\n",
       "<table border=\"1\" class=\"dataframe\">\n",
       "  <thead>\n",
       "    <tr style=\"text-align: right;\">\n",
       "      <th></th>\n",
       "      <th></th>\n",
       "      <th>INCTOT</th>\n",
       "    </tr>\n",
       "    <tr>\n",
       "      <th>YEAR</th>\n",
       "      <th>SEX</th>\n",
       "      <th></th>\n",
       "    </tr>\n",
       "  </thead>\n",
       "  <tbody>\n",
       "    <tr>\n",
       "      <th rowspan=\"2\" valign=\"top\">2015</th>\n",
       "      <th>1</th>\n",
       "      <td>34000</td>\n",
       "    </tr>\n",
       "    <tr>\n",
       "      <th>2</th>\n",
       "      <td>20000</td>\n",
       "    </tr>\n",
       "    <tr>\n",
       "      <th rowspan=\"2\" valign=\"top\">2016</th>\n",
       "      <th>1</th>\n",
       "      <td>35000</td>\n",
       "    </tr>\n",
       "    <tr>\n",
       "      <th>2</th>\n",
       "      <td>20000</td>\n",
       "    </tr>\n",
       "    <tr>\n",
       "      <th rowspan=\"2\" valign=\"top\">2017</th>\n",
       "      <th>1</th>\n",
       "      <td>35900</td>\n",
       "    </tr>\n",
       "    <tr>\n",
       "      <th>2</th>\n",
       "      <td>21000</td>\n",
       "    </tr>\n",
       "    <tr>\n",
       "      <th rowspan=\"2\" valign=\"top\">2018</th>\n",
       "      <th>1</th>\n",
       "      <td>37000</td>\n",
       "    </tr>\n",
       "    <tr>\n",
       "      <th>2</th>\n",
       "      <td>22000</td>\n",
       "    </tr>\n",
       "    <tr>\n",
       "      <th rowspan=\"2\" valign=\"top\">2019</th>\n",
       "      <th>1</th>\n",
       "      <td>40000</td>\n",
       "    </tr>\n",
       "    <tr>\n",
       "      <th>2</th>\n",
       "      <td>24000</td>\n",
       "    </tr>\n",
       "  </tbody>\n",
       "</table>\n",
       "</div>"
      ],
      "text/plain": [
       "          INCTOT\n",
       "YEAR SEX        \n",
       "2015 1     34000\n",
       "     2     20000\n",
       "2016 1     35000\n",
       "     2     20000\n",
       "2017 1     35900\n",
       "     2     21000\n",
       "2018 1     37000\n",
       "     2     22000\n",
       "2019 1     40000\n",
       "     2     24000"
      ]
     },
     "execution_count": 8,
     "metadata": {},
     "output_type": "execute_result"
    }
   ],
   "source": [
    "pd.set_option('display.float_format', lambda x: '%.3f' % x)\n",
    "\n",
    "year_sex = model_input[['YEAR', 'SEX','INCTOT']]\n",
    "year_sex = year_sex.groupby(['YEAR', 'SEX']).median()\n",
    "year_sex"
   ]
  },
  {
   "cell_type": "code",
   "execution_count": 9,
   "metadata": {},
   "outputs": [],
   "source": [
    "### Variables of interest\n",
    "\n",
    "# SEX\tAGE\tMARST\tRACE\n",
    "# SPEAKENG\tSCHOOL\tEDUC\tEDUCD\tGRADEATT\tGRADEATTD\tSCHLTYPE\t\n",
    "# INCTOT\tFTOTINC\tINCWAGE\n",
    "# POVERTY\n",
    "# CBHHTYPE\n",
    "# RENT MORTGAGE\n",
    "# VALUEH"
   ]
  },
  {
   "cell_type": "markdown",
   "metadata": {},
   "source": [
    "### Input parameters"
   ]
  },
  {
   "cell_type": "code",
   "execution_count": 10,
   "metadata": {},
   "outputs": [],
   "source": [
    "# set parameters for bias check\n",
    "dependent = 'high_income'  # dependent variable we measure\n",
    "protected_group = 'SEX'  # protected group for which we compare outcomes\n",
    "outcome_advantage = 1\n",
    "pg_disadvantage = 0 ## this is the class we want to test for whether an advantage exists\n",
    "dependent_bin = 'high_income_target'\n",
    "thresh_min = .6\n",
    "thresh_max = 1\n",
    "\n",
    "# set additional parameters for the toy model [skip if you have your own model]\n",
    "target_rate = .98  # target_rate = 1 - desired (target) positive rate, i.e., outome rate: percentage of the population that classified as predicted outcome 1.\n",
    "test_size = .4\n",
    "random_state = 777\n",
    "n_estimators = 400\n",
    "bias_detect_thresh = .2\n",
    "data_name = 'income_dataset'"
   ]
  },
  {
   "cell_type": "markdown",
   "metadata": {},
   "source": [
    "### RAI Framework"
   ]
  },
  {
   "cell_type": "code",
   "execution_count": 11,
   "metadata": {},
   "outputs": [],
   "source": [
    "model_sample = model_input.sample(n=20000)"
   ]
  },
  {
   "cell_type": "code",
   "execution_count": 12,
   "metadata": {},
   "outputs": [],
   "source": [
    "# Create IDs to number individuals\n",
    "pg_array = model_sample[protected_group]\n",
    "\n",
    "# Select dependent and PG -- measure historical bias\n",
    "# Encode chose parameter for disadvantaged class as binary variable\n",
    "model_sample[dependent_bin] = model_sample[dependent]\n",
    "\n",
    "# Encode chose parameter for disadvantaged class as binary variable\n",
    "# model_sample[protected_group] = model_sample[protected_group]\n",
    "\n",
    "##### Run functions to create dummies for categorical variables and normalize numeric\n",
    "num_vars = ['RENT','MORTGAGE', 'AGE']\n",
    "\n",
    "cat_vars = ['EDUC','MARST','RACE', 'SEX']\n"
   ]
  },
  {
   "cell_type": "code",
   "execution_count": 13,
   "metadata": {},
   "outputs": [
    {
     "data": {
      "text/plain": [
       "2    10095\n",
       "1     9905\n",
       "Name: SEX, dtype: int64"
      ]
     },
     "execution_count": 13,
     "metadata": {},
     "output_type": "execute_result"
    }
   ],
   "source": [
    "model_sample.SEX.value_counts()"
   ]
  },
  {
   "cell_type": "code",
   "execution_count": 14,
   "metadata": {},
   "outputs": [],
   "source": [
    "def normalize_num(df, num_cols):\n",
    "    \"\"\"\n",
    "    This function normalizes numeric variables\n",
    "\n",
    "    Args:\n",
    "        df: pandas df with numeric columns to normalize\n",
    "        num_cols: list of numeric column names\n",
    "\n",
    "    Result:\n",
    "        Returns same dataframe with normalized data\n",
    "    \"\"\"\n",
    "\n",
    "    x = df[num_cols].values  # returns a numpy array\n",
    "    min_max_scaler = preprocessing.MinMaxScaler()\n",
    "    x_scaled = min_max_scaler.fit_transform(x)\n",
    "    df_num = pd.DataFrame(x_scaled)\n",
    "    df_num.columns = num_cols\n",
    "    df_num = df_num.reset_index(drop=True)\n",
    "\n",
    "    df_drop = df.drop(num_cols, axis=1)\n",
    "    df_drop = df_drop.reset_index(drop=True)\n",
    "    df_final = pd.concat([df_drop, df_num], axis=1)\n",
    "\n",
    "    return df_final"
   ]
  },
  {
   "cell_type": "code",
   "execution_count": 17,
   "metadata": {},
   "outputs": [
    {
     "data": {
      "text/plain": [
       "(20000, 70)"
      ]
     },
     "execution_count": 17,
     "metadata": {},
     "output_type": "execute_result"
    }
   ],
   "source": [
    "model_sample.shape"
   ]
  },
  {
   "cell_type": "code",
   "execution_count": 18,
   "metadata": {},
   "outputs": [
    {
     "name": "stdout",
     "output_type": "stream",
     "text": [
      "Model data shape:  (20000, 33)\n"
     ]
    }
   ],
   "source": [
    "# This is an internal function which one-hot encodes all categorical and normalizes all numeric variables\n",
    "model_data_norm = normalize_num(model_sample, num_vars)\n",
    "model_data_cat = pd.get_dummies(model_sample[cat_vars], columns=cat_vars)\n",
    "model_data_num = model_data_norm[num_vars]\n",
    "\n",
    "# temp fix issue with multiple indices, creating more rows\n",
    "model_data_num.index = model_sample.index\n",
    "model_data_norm.index = model_sample.index\n",
    "model_data_cat.index = model_sample.index\n",
    "\n",
    "# Join\n",
    "model_data_norm['ID'] = model_data_norm.index\n",
    "model_data = pd.concat([model_data_norm[[dependent_bin, \"ID\"]], model_data_cat, model_data_num], axis=1)\n",
    "# model_data = pd.DataFrame(np.hstack([model_data_norm[[dependent_bin, \"ID\"]], model_data_cat, model_data_num]))\n",
    "\n",
    "# Print shape of final machine-learning ready data frame\n",
    "print(\"Model data shape: \", model_data.shape)"
   ]
  },
  {
   "cell_type": "code",
   "execution_count": 19,
   "metadata": {},
   "outputs": [
    {
     "data": {
      "text/plain": [
       "Index(['high_income_target', 'ID', 'EDUC_0', 'EDUC_1', 'EDUC_2', 'EDUC_3',\n",
       "       'EDUC_4', 'EDUC_5', 'EDUC_6', 'EDUC_7', 'EDUC_8', 'EDUC_10', 'EDUC_11',\n",
       "       'MARST_1', 'MARST_2', 'MARST_3', 'MARST_4', 'MARST_5', 'MARST_6',\n",
       "       'RACE_1', 'RACE_2', 'RACE_3', 'RACE_4', 'RACE_5', 'RACE_6', 'RACE_7',\n",
       "       'RACE_8', 'RACE_9', 'SEX_1', 'SEX_2', 'RENT', 'MORTGAGE', 'AGE'],\n",
       "      dtype='object')"
      ]
     },
     "execution_count": 19,
     "metadata": {},
     "output_type": "execute_result"
    }
   ],
   "source": [
    "model_data.columns"
   ]
  },
  {
   "cell_type": "markdown",
   "metadata": {},
   "source": [
    "### 01 - Bias Index Check"
   ]
  },
  {
   "cell_type": "code",
   "execution_count": 20,
   "metadata": {},
   "outputs": [],
   "source": [
    "bias_checker = DataBiasChecker(pvalue_threshold=0.1, \n",
    "                               test_type=\"z-test\",\n",
    "                               is_2_sided=False)"
   ]
  },
  {
   "cell_type": "code",
   "execution_count": 21,
   "metadata": {},
   "outputs": [
    {
     "data": {
      "text/plain": [
       "<src.RAI._data_bias_check.DataBiasChecker at 0x7fcbb0038d90>"
      ]
     },
     "execution_count": 21,
     "metadata": {},
     "output_type": "execute_result"
    }
   ],
   "source": [
    "pg = model_sample[protected_group]\n",
    "y = model_data[dependent_bin]\n",
    "\n",
    "bias_checker.fit(pg, y)"
   ]
  },
  {
   "cell_type": "code",
   "execution_count": 22,
   "metadata": {},
   "outputs": [
    {
     "data": {
      "text/plain": [
       "True"
      ]
     },
     "execution_count": 22,
     "metadata": {},
     "output_type": "execute_result"
    }
   ],
   "source": [
    "bias_checker.biased_"
   ]
  },
  {
   "cell_type": "code",
   "execution_count": 23,
   "metadata": {},
   "outputs": [
    {
     "data": {
      "text/plain": [
       "3.2740193704060747e-25"
      ]
     },
     "execution_count": 23,
     "metadata": {},
     "output_type": "execute_result"
    }
   ],
   "source": [
    "bias_checker.p_value_"
   ]
  },
  {
   "cell_type": "code",
   "execution_count": 24,
   "metadata": {},
   "outputs": [
    {
     "data": {
      "text/html": [
       "<div>\n",
       "<style scoped>\n",
       "    .dataframe tbody tr th:only-of-type {\n",
       "        vertical-align: middle;\n",
       "    }\n",
       "\n",
       "    .dataframe tbody tr th {\n",
       "        vertical-align: top;\n",
       "    }\n",
       "\n",
       "    .dataframe thead th {\n",
       "        text-align: right;\n",
       "    }\n",
       "</style>\n",
       "<table border=\"1\" class=\"dataframe\">\n",
       "  <thead>\n",
       "    <tr style=\"text-align: right;\">\n",
       "      <th>high_income_target</th>\n",
       "      <th>0</th>\n",
       "      <th>1</th>\n",
       "    </tr>\n",
       "    <tr>\n",
       "      <th>SEX</th>\n",
       "      <th></th>\n",
       "      <th></th>\n",
       "    </tr>\n",
       "  </thead>\n",
       "  <tbody>\n",
       "    <tr>\n",
       "      <th>1</th>\n",
       "      <td>0.973</td>\n",
       "      <td>0.027</td>\n",
       "    </tr>\n",
       "    <tr>\n",
       "      <th>2</th>\n",
       "      <td>0.992</td>\n",
       "      <td>0.008</td>\n",
       "    </tr>\n",
       "  </tbody>\n",
       "</table>\n",
       "</div>"
      ],
      "text/plain": [
       "high_income_target     0     1\n",
       "SEX                           \n",
       "1                  0.973 0.027\n",
       "2                  0.992 0.008"
      ]
     },
     "execution_count": 24,
     "metadata": {},
     "output_type": "execute_result"
    }
   ],
   "source": [
    "bias_checker.historic_crosstab_"
   ]
  },
  {
   "cell_type": "code",
   "execution_count": 25,
   "metadata": {},
   "outputs": [
    {
     "data": {
      "text/plain": [
       "0.2925023596587139"
      ]
     },
     "execution_count": 25,
     "metadata": {},
     "output_type": "execute_result"
    }
   ],
   "source": [
    "# Historical bias index\n",
    "bias_checker.historic_crosstab_[1][2]/bias_checker.historic_crosstab_[1][1]\n",
    "# 0.384"
   ]
  },
  {
   "cell_type": "markdown",
   "metadata": {},
   "source": [
    "### 03 - Fairness Scenarios"
   ]
  },
  {
   "cell_type": "code",
   "execution_count": 26,
   "metadata": {},
   "outputs": [],
   "source": [
    "model_data = model_data.fillna(0)"
   ]
  },
  {
   "cell_type": "code",
   "execution_count": 27,
   "metadata": {},
   "outputs": [
    {
     "name": "stdout",
     "output_type": "stream",
     "text": [
      "Fitting 5 folds for each of 12 candidates, totalling 60 fits\n"
     ]
    },
    {
     "name": "stderr",
     "output_type": "stream",
     "text": [
      "[Parallel(n_jobs=-1)]: Using backend LokyBackend with 12 concurrent workers.\n",
      "[Parallel(n_jobs=-1)]: Done   8 tasks      | elapsed:    4.5s\n",
      "[Parallel(n_jobs=-1)]: Done  58 out of  60 | elapsed:   24.4s remaining:    0.8s\n",
      "[Parallel(n_jobs=-1)]: Done  60 out of  60 | elapsed:   24.5s finished\n"
     ]
    },
    {
     "name": "stdout",
     "output_type": "stream",
     "text": [
      "{'max_depth': 4, 'n_estimators': 400}\n"
     ]
    }
   ],
   "source": [
    "X_train = model_data.drop(labels=[dependent_bin], axis=1)\n",
    "X_train = X_train.drop(labels=['ID'], axis=1)\n",
    "\n",
    "y_train = model_data[dependent_bin]\n",
    "pg_train = model_sample[protected_group]\n",
    "\n",
    "grid = {\"n_estimators\": [100, 200, 400],\n",
    "        \"max_depth\": [4, 6, 8, 10]}\n",
    "rf_clf = RandomForestClassifier(class_weight=\"balanced\", random_state=42)\n",
    "clf_cv = GridSearchCV(rf_clf, grid, cv=5, scoring=\"roc_auc\", refit=True, verbose=3, n_jobs=-1)\n",
    "clf_cv.fit(X_train, y_train)\n",
    "\n",
    "best_estimator = clf_cv.best_estimator_\n",
    "best_params = clf_cv.best_params_\n",
    "print(best_params)\n",
    "\n",
    "# best_estimator = RandomForestClassifier(max_depth=10, n_estimators=400, class_weight=\"balanced\", random_state=42)\n",
    "# best_estimator.fit(X_train, y_train)"
   ]
  },
  {
   "cell_type": "code",
   "execution_count": 28,
   "metadata": {},
   "outputs": [],
   "source": [
    "bias_ranker = ModelBiasRanker(best_estimator,\n",
    "                              pos_rate=0.1,\n",
    "                              bias_tolerance=0.2)"
   ]
  },
  {
   "cell_type": "code",
   "execution_count": 29,
   "metadata": {},
   "outputs": [
    {
     "data": {
      "text/plain": [
       "2    10095\n",
       "1     9905\n",
       "Name: SEX, dtype: int64"
      ]
     },
     "execution_count": 29,
     "metadata": {},
     "output_type": "execute_result"
    }
   ],
   "source": [
    "pg_train.value_counts()"
   ]
  },
  {
   "cell_type": "code",
   "execution_count": 30,
   "metadata": {},
   "outputs": [
    {
     "data": {
      "text/plain": [
       "<src.RAI._model_bias_ranker.ModelBiasRanker at 0x7fcbb003bf90>"
      ]
     },
     "execution_count": 30,
     "metadata": {},
     "output_type": "execute_result"
    }
   ],
   "source": [
    "bias_ranker.fit(X_train, y_train, pg_train)"
   ]
  },
  {
   "cell_type": "code",
   "execution_count": 31,
   "metadata": {},
   "outputs": [
    {
     "data": {
      "text/html": [
       "<div>\n",
       "<style scoped>\n",
       "    .dataframe tbody tr th:only-of-type {\n",
       "        vertical-align: middle;\n",
       "    }\n",
       "\n",
       "    .dataframe tbody tr th {\n",
       "        vertical-align: top;\n",
       "    }\n",
       "\n",
       "    .dataframe thead th {\n",
       "        text-align: right;\n",
       "    }\n",
       "</style>\n",
       "<table border=\"1\" class=\"dataframe\">\n",
       "  <thead>\n",
       "    <tr style=\"text-align: right;\">\n",
       "      <th></th>\n",
       "      <th>Bias Test</th>\n",
       "      <th>Bias Index</th>\n",
       "      <th>Accuracy</th>\n",
       "      <th>TP</th>\n",
       "      <th>FN</th>\n",
       "      <th>TN</th>\n",
       "      <th>FP</th>\n",
       "      <th>Non PG Positive Rate</th>\n",
       "      <th>PG Positive Rate</th>\n",
       "    </tr>\n",
       "  </thead>\n",
       "  <tbody>\n",
       "    <tr>\n",
       "      <th>Naive</th>\n",
       "      <td>Fail</td>\n",
       "      <td>4.083</td>\n",
       "      <td>0.781</td>\n",
       "      <td>0.060</td>\n",
       "      <td>0.940</td>\n",
       "      <td>0.995</td>\n",
       "      <td>0.005</td>\n",
       "      <td>0.091</td>\n",
       "      <td>0.370</td>\n",
       "    </tr>\n",
       "    <tr>\n",
       "      <th>Threshold Best</th>\n",
       "      <td>Fail</td>\n",
       "      <td>5.914</td>\n",
       "      <td>0.901</td>\n",
       "      <td>0.100</td>\n",
       "      <td>0.900</td>\n",
       "      <td>0.992</td>\n",
       "      <td>0.008</td>\n",
       "      <td>0.030</td>\n",
       "      <td>0.175</td>\n",
       "    </tr>\n",
       "    <tr>\n",
       "      <th>Historic Parity</th>\n",
       "      <td>Fail</td>\n",
       "      <td>3.353</td>\n",
       "      <td>0.901</td>\n",
       "      <td>0.096</td>\n",
       "      <td>0.904</td>\n",
       "      <td>0.992</td>\n",
       "      <td>0.008</td>\n",
       "      <td>0.047</td>\n",
       "      <td>0.157</td>\n",
       "    </tr>\n",
       "    <tr>\n",
       "      <th>Demographic Parity</th>\n",
       "      <td>Pass</td>\n",
       "      <td>1.067</td>\n",
       "      <td>0.897</td>\n",
       "      <td>0.083</td>\n",
       "      <td>0.917</td>\n",
       "      <td>0.990</td>\n",
       "      <td>0.010</td>\n",
       "      <td>0.100</td>\n",
       "      <td>0.107</td>\n",
       "    </tr>\n",
       "  </tbody>\n",
       "</table>\n",
       "</div>"
      ],
      "text/plain": [
       "                   Bias Test Bias Index Accuracy    TP    FN    TN    FP  \\\n",
       "Naive                   Fail      4.083    0.781 0.060 0.940 0.995 0.005   \n",
       "Threshold Best          Fail      5.914    0.901 0.100 0.900 0.992 0.008   \n",
       "Historic Parity         Fail      3.353    0.901 0.096 0.904 0.992 0.008   \n",
       "Demographic Parity      Pass      1.067    0.897 0.083 0.917 0.990 0.010   \n",
       "\n",
       "                   Non PG Positive Rate PG Positive Rate  \n",
       "Naive                             0.091            0.370  \n",
       "Threshold Best                    0.030            0.175  \n",
       "Historic Parity                   0.047            0.157  \n",
       "Demographic Parity                0.100            0.107  "
      ]
     },
     "execution_count": 31,
     "metadata": {},
     "output_type": "execute_result"
    }
   ],
   "source": [
    "bias_ranker.results_"
   ]
  },
  {
   "cell_type": "code",
   "execution_count": 32,
   "metadata": {},
   "outputs": [],
   "source": [
    "bias_handler = ModelBiasHandler(best_estimator,\n",
    "                                pos_rate=0.1,\n",
    "                                bias_tolerance=0.2,\n",
    "                                method=\"demog_parity\")"
   ]
  },
  {
   "cell_type": "code",
   "execution_count": 33,
   "metadata": {
    "scrolled": false
   },
   "outputs": [
    {
     "data": {
      "text/plain": [
       "<src.RAI._model_bias_explain.ModelBiasHandler at 0x7fcb580fd390>"
      ]
     },
     "execution_count": 33,
     "metadata": {},
     "output_type": "execute_result"
    }
   ],
   "source": [
    "bias_handler.fit(X_train, y_train, pg_train)"
   ]
  },
  {
   "cell_type": "code",
   "execution_count": 34,
   "metadata": {},
   "outputs": [
    {
     "data": {
      "text/plain": [
       "'Pass'"
      ]
     },
     "execution_count": 34,
     "metadata": {},
     "output_type": "execute_result"
    }
   ],
   "source": [
    "bias_handler.bias_test_"
   ]
  },
  {
   "cell_type": "code",
   "execution_count": 35,
   "metadata": {},
   "outputs": [
    {
     "data": {
      "text/plain": [
       "1.066609523143127"
      ]
     },
     "execution_count": 35,
     "metadata": {},
     "output_type": "execute_result"
    }
   ],
   "source": [
    "bias_handler.bias_index_"
   ]
  },
  {
   "cell_type": "code",
   "execution_count": 36,
   "metadata": {},
   "outputs": [
    {
     "data": {
      "text/plain": [
       "0.89665"
      ]
     },
     "execution_count": 36,
     "metadata": {},
     "output_type": "execute_result"
    }
   ],
   "source": [
    "bias_handler.acc_"
   ]
  },
  {
   "cell_type": "code",
   "execution_count": 37,
   "metadata": {},
   "outputs": [
    {
     "data": {
      "text/plain": [
       "0.08321238509917755"
      ]
     },
     "execution_count": 37,
     "metadata": {},
     "output_type": "execute_result"
    }
   ],
   "source": [
    "bias_handler.TP_"
   ]
  },
  {
   "cell_type": "code",
   "execution_count": 38,
   "metadata": {},
   "outputs": [
    {
     "data": {
      "text/plain": [
       "0.9167876149008225"
      ]
     },
     "execution_count": 38,
     "metadata": {},
     "output_type": "execute_result"
    }
   ],
   "source": [
    "bias_handler.FN_"
   ]
  },
  {
   "cell_type": "code",
   "execution_count": 39,
   "metadata": {},
   "outputs": [
    {
     "data": {
      "text/plain": [
       "0.9904087436569453"
      ]
     },
     "execution_count": 39,
     "metadata": {},
     "output_type": "execute_result"
    }
   ],
   "source": [
    "bias_handler.TN_"
   ]
  },
  {
   "cell_type": "code",
   "execution_count": 40,
   "metadata": {},
   "outputs": [
    {
     "data": {
      "text/plain": [
       "0.009591256343054704"
      ]
     },
     "execution_count": 40,
     "metadata": {},
     "output_type": "execute_result"
    }
   ],
   "source": [
    "bias_handler.FP_"
   ]
  },
  {
   "cell_type": "code",
   "execution_count": 41,
   "metadata": {},
   "outputs": [
    {
     "data": {
      "text/plain": [
       "0.10004952947003468"
      ]
     },
     "execution_count": 41,
     "metadata": {},
     "output_type": "execute_result"
    }
   ],
   "source": [
    "bias_handler.non_pg_rate_"
   ]
  },
  {
   "cell_type": "code",
   "execution_count": 42,
   "metadata": {},
   "outputs": [
    {
     "data": {
      "text/plain": [
       "0.10671378091872791"
      ]
     },
     "execution_count": 42,
     "metadata": {},
     "output_type": "execute_result"
    }
   ],
   "source": [
    "bias_handler.pg_rate_"
   ]
  },
  {
   "cell_type": "code",
   "execution_count": 43,
   "metadata": {},
   "outputs": [
    {
     "data": {
      "text/plain": [
       "array([0, 0, 0, ..., 0, 0, 0])"
      ]
     },
     "execution_count": 43,
     "metadata": {},
     "output_type": "execute_result"
    }
   ],
   "source": [
    "bias_handler.predict(X_train, pg_train)"
   ]
  },
  {
   "cell_type": "code",
   "execution_count": 44,
   "metadata": {},
   "outputs": [
    {
     "data": {
      "text/plain": [
       "0.6771827115166471"
      ]
     },
     "execution_count": 44,
     "metadata": {},
     "output_type": "execute_result"
    }
   ],
   "source": [
    "bias_handler.thresh_pg_"
   ]
  },
  {
   "cell_type": "code",
   "execution_count": 45,
   "metadata": {},
   "outputs": [
    {
     "data": {
      "text/plain": [
       "0.44224253193965113"
      ]
     },
     "execution_count": 45,
     "metadata": {},
     "output_type": "execute_result"
    }
   ],
   "source": [
    "bias_handler.thresh_non_pg_"
   ]
  },
  {
   "cell_type": "code",
   "execution_count": 46,
   "metadata": {},
   "outputs": [],
   "source": [
    "# Steps Ahead:\n",
    "# - unit tests\n",
    "# - exception handling"
   ]
  },
  {
   "cell_type": "markdown",
   "metadata": {},
   "source": [
    "### Explanatory Analysis - Shap plots"
   ]
  },
  {
   "cell_type": "code",
   "execution_count": 47,
   "metadata": {},
   "outputs": [
    {
     "name": "stdout",
     "output_type": "stream",
     "text": [
      "Training until validation scores don't improve for 100 rounds\n",
      "[100]\tvalid_0's binary_logloss: 0.0737344\n",
      "Early stopping, best iteration is:\n",
      "[44]\tvalid_0's binary_logloss: 0.0731249\n"
     ]
    },
    {
     "data": {
      "text/plain": [
       "LGBMClassifier(max_depth=3, n_estimators=1000, objective='binary')"
      ]
     },
     "execution_count": 47,
     "metadata": {},
     "output_type": "execute_result"
    }
   ],
   "source": [
    "from seaborn import load_dataset\n",
    "from sklearn.model_selection import train_test_split\n",
    "from lightgbm import LGBMClassifier\n",
    "import shap\n",
    "\n",
    "\n",
    "X = model_data.drop(labels=[dependent_bin], axis=1)\n",
    "X = X.drop(labels=['ID'], axis=1)\n",
    "\n",
    "y = model_data[dependent_bin]\n",
    "\n",
    "features = X.columns\n",
    "cat_features = []\n",
    "for cat in X.select_dtypes(exclude=\"number\"):\n",
    "    cat_features.append(cat)\n",
    "#   think about meaningful ordering instead\n",
    "    X[cat] = X[cat].astype(\"category\").cat.codes.astype(\"category\")\n",
    "\n",
    "X_train, X_val, y_train, y_val = train_test_split(X,y,train_size=.8, random_state=42)\n",
    "\n",
    "clf = LGBMClassifier(max_depth=3, n_estimators=1000, objective=\"binary\")\n",
    "clf.fit(X_train,y_train, eval_set=(X_val,y_val), early_stopping_rounds=100, verbose=100) "
   ]
  },
  {
   "cell_type": "code",
   "execution_count": 48,
   "metadata": {},
   "outputs": [
    {
     "data": {
      "text/plain": [
       "Index(['EDUC_0', 'EDUC_1', 'EDUC_2', 'EDUC_3', 'EDUC_4', 'EDUC_5', 'EDUC_6',\n",
       "       'EDUC_7', 'EDUC_8', 'EDUC_10', 'EDUC_11', 'MARST_1', 'MARST_2',\n",
       "       'MARST_3', 'MARST_4', 'MARST_5', 'MARST_6', 'RACE_1', 'RACE_2',\n",
       "       'RACE_3', 'RACE_4', 'RACE_5', 'RACE_6', 'RACE_7', 'RACE_8', 'RACE_9',\n",
       "       'SEX_1', 'SEX_2', 'RENT', 'MORTGAGE', 'AGE'],\n",
       "      dtype='object')"
      ]
     },
     "execution_count": 48,
     "metadata": {},
     "output_type": "execute_result"
    }
   ],
   "source": [
    "X.columns"
   ]
  },
  {
   "cell_type": "code",
   "execution_count": 49,
   "metadata": {},
   "outputs": [
    {
     "name": "stderr",
     "output_type": "stream",
     "text": [
      "LightGBM binary classifier with TreeExplainer shap values output has changed to a list of ndarray\n"
     ]
    }
   ],
   "source": [
    "explainer = shap.TreeExplainer(clf)\n",
    "shap_values = explainer.shap_values(X_train)\n",
    "sv = np.array(shap_values)\n",
    "y = clf.predict(X_train).astype(\"bool\")\n",
    "# shap values for high income\n",
    "sv_target = sv[:,y,:]\n",
    "# shap values for not high income\n",
    "sv_nontarget = sv[:,~y,:]"
   ]
  },
  {
   "cell_type": "code",
   "execution_count": 50,
   "metadata": {},
   "outputs": [
    {
     "data": {
      "image/png": "[encoded data removed]",
      "text/plain": [
       "<Figure size 576x684 with 2 Axes>"
      ]
     },
     "metadata": {
      "needs_background": "light"
     },
     "output_type": "display_data"
    }
   ],
   "source": [
    "# Variable importance plot - how to read\n",
    "# Age = normalized age, higher = higher chance of high income\n",
    "# Sex = categorical variable, male = higher chance of high income\n",
    "# Educ 11 = 5+ years of college = higher chance of high income\n",
    "# Mortgage = higher = higher chance of high income\n",
    "shap.summary_plot(shap_values[1], X_train.astype(\"float\"))"
   ]
  },
  {
   "cell_type": "code",
   "execution_count": 51,
   "metadata": {},
   "outputs": [
    {
     "data": {
      "image/png": "[encoded data removed]",
      "text/plain": [
       "<Figure size 1440x576 with 2 Axes>"
      ]
     },
     "metadata": {
      "needs_background": "light"
     },
     "output_type": "display_data"
    }
   ],
   "source": [
    "shap_2 = shap.dependence_plot(\"AGE\", shap_values[1], X_train, show = False)\n",
    "shap_2\n",
    "fig = plt.gcf()\n",
    "fig.set_figheight(8)\n",
    "fig.set_figwidth(20)\n",
    "ax = plt.gca()\n",
    "ax.set_xlabel(r'Normalized age (0 = 18, 1 = 80)', fontsize=16)\n",
    "ax.set_ylabel('Influence on High Income Model', fontsize=16)\n",
    "plt.show()"
   ]
  },
  {
   "cell_type": "code",
   "execution_count": 52,
   "metadata": {},
   "outputs": [
    {
     "data": {
      "image/png": "[encoded data removed]",
      "text/plain": [
       "<Figure size 1296x576 with 1 Axes>"
      ]
     },
     "metadata": {
      "needs_background": "light"
     },
     "output_type": "display_data"
    }
   ],
   "source": [
    "# Distribution of full population - model_input n = 5 MM / year, model_sample n = 20k\n",
    "model_input.AGE.hist(bins = 61)\n",
    "fig = plt.gcf()\n",
    "fig.set_figheight(8)\n",
    "fig.set_figwidth(18)"
   ]
  }
 ],
 "metadata": {
  "kernelspec": {
   "display_name": "Python 3",
   "language": "python",
   "name": "python3"
  },
  "language_info": {
   "codemirror_mode": {
    "name": "ipython",
    "version": 3
   },
   "file_extension": ".py",
   "mimetype": "text/x-python",
   "name": "python",
   "nbconvert_exporter": "python",
   "pygments_lexer": "ipython3",
   "version": "3.7.7"
  }
 },
 "nbformat": 4,
 "nbformat_minor": 4
}
