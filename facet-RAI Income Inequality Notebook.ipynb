{
 "cells": [
  {
   "cell_type": "markdown",
   "metadata": {},
   "source": [
    "### Imports"
   ]
  },
  {
   "cell_type": "code",
   "execution_count": 3,
   "metadata": {},
   "outputs": [
    {
     "ename": "ImportError",
     "evalue": "cannot import name 'LGMBClassifierDF' from 'sklearndf.classification.extra' (/Users/drobkovgleb/miniconda3/lib/python3.7/site-packages/sklearndf/classification/extra/__init__.py)",
     "output_type": "error",
     "traceback": [
      "\u001B[0;31m---------------------------------------------------------------------------\u001B[0m",
      "\u001B[0;31mImportError\u001B[0m                               Traceback (most recent call last)",
      "\u001B[0;32m<ipython-input-3-fbf5b3cda91c>\u001B[0m in \u001B[0;36m<module>\u001B[0;34m\u001B[0m\n\u001B[1;32m      9\u001B[0m \u001B[0;32mfrom\u001B[0m \u001B[0msklearn\u001B[0m\u001B[0;34m.\u001B[0m\u001B[0mmodel_selection\u001B[0m \u001B[0;32mimport\u001B[0m \u001B[0mGridSearchCV\u001B[0m\u001B[0;34m\u001B[0m\u001B[0;34m\u001B[0m\u001B[0m\n\u001B[1;32m     10\u001B[0m \u001B[0;32mfrom\u001B[0m \u001B[0msklearn\u001B[0m\u001B[0;34m.\u001B[0m\u001B[0mensemble\u001B[0m \u001B[0;32mimport\u001B[0m \u001B[0mRandomForestClassifier\u001B[0m\u001B[0;34m\u001B[0m\u001B[0;34m\u001B[0m\u001B[0m\n\u001B[0;32m---> 11\u001B[0;31m \u001B[0;32mfrom\u001B[0m \u001B[0msklearndf\u001B[0m\u001B[0;34m.\u001B[0m\u001B[0mclassification\u001B[0m\u001B[0;34m.\u001B[0m\u001B[0mextra\u001B[0m \u001B[0;32mimport\u001B[0m \u001B[0mLGMBClassifierDF\u001B[0m\u001B[0;34m\u001B[0m\u001B[0;34m\u001B[0m\u001B[0m\n\u001B[0m\u001B[1;32m     12\u001B[0m \u001B[0;34m\u001B[0m\u001B[0m\n\u001B[1;32m     13\u001B[0m \u001B[0;32mfrom\u001B[0m \u001B[0msklearn\u001B[0m\u001B[0;34m.\u001B[0m\u001B[0mmetrics\u001B[0m \u001B[0;32mimport\u001B[0m \u001B[0mlog_loss\u001B[0m\u001B[0;34m\u001B[0m\u001B[0;34m\u001B[0m\u001B[0m\n",
      "\u001B[0;31mImportError\u001B[0m: cannot import name 'LGMBClassifierDF' from 'sklearndf.classification.extra' (/Users/drobkovgleb/miniconda3/lib/python3.7/site-packages/sklearndf/classification/extra/__init__.py)"
     ]
    }
   ],
   "source": [
    "# Import analysis libraries\n",
    "import time\n",
    "import warnings\n",
    "warnings.filterwarnings(\"ignore\")\n",
    "import pandas as pd\n",
    "import numpy as np\n",
    "import matplotlib.pyplot as plt\n",
    "from sklearn import preprocessing\n",
    "from sklearn.model_selection import GridSearchCV\n",
    "from sklearn.ensemble import RandomForestClassifier\n",
    "\n",
    "from sklearn.metrics import log_loss\n",
    "from sklearn.tree import DecisionTreeClassifier\n",
    "from sklearn.preprocessing import LabelEncoder\n",
    "\n",
    "# from notebooks/ directory\n",
    "import sys, os\n",
    "\n",
    "# ADDITIONS:\n",
    "from src.RAI import DataBiasChecker, ModelBiasRanker, ModelBiasHandler"
   ]
  },
  {
   "cell_type": "markdown",
   "metadata": {},
   "source": [
    "### Input parameters"
   ]
  },
  {
   "cell_type": "code",
   "execution_count": 4,
   "metadata": {},
   "outputs": [],
   "source": [
    "# set parameters for bias check\n",
    "model_input_path = './data/adult.csv'\n",
    "dependent = 'rich'  # dependent variable we measure\n",
    "protected_group = 'race'  # protected group for which we compare outcomes\n",
    "outcome_advantage = \" >50K\"\n",
    "pg_disadvantage = \" Black\" ## this is the class we want to test for whether an advantage exists\n",
    "dependent_bin = 'rich_outcome'\n",
    "thresh_min = .6\n",
    "thresh_max = 1\n",
    "\n",
    "# set additional parameters for the toy model [skip if you have your own model]\n",
    "target_rate = .84  # target_rate = 1 - desired (target) positive rate, i.e., outome rate: percentage of the population that classified as predicted outcome 1.\n",
    "test_size = .4\n",
    "random_state = 777\n",
    "n_estimators = 400\n",
    "bias_detect_thresh = .2\n",
    "data_name = 'adult_dataset'"
   ]
  },
  {
   "cell_type": "markdown",
   "metadata": {},
   "source": [
    "### Read data"
   ]
  },
  {
   "cell_type": "code",
   "execution_count": 5,
   "metadata": {},
   "outputs": [],
   "source": [
    "47 +\n",
    "7# Read in data\n",
    "model_input = pd.read_csv(model_input_path)\n",
    "\n",
    "# Create IDs to number individuals\n",
    "pg_array = model_input[protected_group]\n",
    "\n",
    "# Select dependent and PG -- measure historical bias\n",
    "# Encode chose parameter for disadvantaged class as binary variable\n",
    "model_input[dependent_bin] = model_input[dependent].apply(lambda x: 1 if x == outcome_advantage else 0)\n",
    "\n",
    "# Encode chose parameter for disadvantaged class as binary variable\n",
    "model_input[protected_group] = model_input[protected_group].apply(lambda x: 1 if x == pg_disadvantage else 0)\n",
    "\n",
    "##### Run functions to create dummies for categorical variables and normalize numeric\n",
    "num_vars = ['age', 'fnlwgt', 'education-num', 'race', 'capital-gain', 'capital-loss',\n",
    "            'hours-per-week']\n",
    "\n",
    "cat_vars = ['workclass', 'education', 'marital-status', 'occupation',\n",
    "            'relationship', 'sex', 'native-country']\n"
   ]
  },
  {
   "cell_type": "code",
   "execution_count": 6,
   "metadata": {},
   "outputs": [],
   "source": [
    "def normalize_num(df, num_cols):\n",
    "    \"\"\"\n",
    "    This function normalizes numeric variables\n",
    "\n",
    "    Args:\n",
    "        df: pandas df with numeric columns to normalize\n",
    "        num_cols: list of numeric column names\n",
    "\n",
    "    Result:\n",
    "        Returns same dataframe with normalized data\n",
    "    \"\"\"\n",
    "\n",
    "    x = df[num_cols].values  # returns a numpy array\n",
    "    min_max_scaler = preprocessing.MinMaxScaler()\n",
    "    x_scaled = min_max_scaler.fit_transform(x)\n",
    "    df_num = pd.DataFrame(x_scaled)\n",
    "    df_num.columns = num_cols\n",
    "    df_num = df_num.reset_index(drop=True)\n",
    "\n",
    "    df_drop = df.drop(num_cols, axis=1)\n",
    "    df_drop = df_drop.reset_index(drop=True)\n",
    "    df_final = pd.concat([df_drop, df_num], axis=1)\n",
    "\n",
    "    return df_final"
   ]
  },
  {
   "cell_type": "code",
   "execution_count": 7,
   "metadata": {},
   "outputs": [
    {
     "name": "stdout",
     "output_type": "stream",
     "text": [
      "Model data shape:  (32561, 106)\n"
     ]
    }
   ],
   "source": [
    "# This is an internal function which one-hot encodes all categorical and normalizes all numeric variables\n",
    "model_data_norm = normalize_num(model_input, num_vars)\n",
    "model_data_cat = pd.get_dummies(model_input[cat_vars], columns=cat_vars)\n",
    "model_data_num = model_data_norm[num_vars]\n",
    "model_data = pd.concat([model_data_norm[[dependent_bin, \"ID\"]], model_data_cat, model_data_num], axis=1)\n",
    "\n",
    "# Print shape of final machine-learning ready data frame\n",
    "print(\"Model data shape: \", model_data.shape)"
   ]
  },
  {
   "cell_type": "code",
   "execution_count": 8,
   "metadata": {},
   "outputs": [
    {
     "data": {
      "text/html": [
       "<div>\n",
       "<style scoped>\n",
       "    .dataframe tbody tr th:only-of-type {\n",
       "        vertical-align: middle;\n",
       "    }\n",
       "\n",
       "    .dataframe tbody tr th {\n",
       "        vertical-align: top;\n",
       "    }\n",
       "\n",
       "    .dataframe thead th {\n",
       "        text-align: right;\n",
       "    }\n",
       "</style>\n",
       "<table border=\"1\" class=\"dataframe\">\n",
       "  <thead>\n",
       "    <tr style=\"text-align: right;\">\n",
       "      <th></th>\n",
       "      <th>rich_outcome</th>\n",
       "      <th>ID</th>\n",
       "      <th>workclass_ ?</th>\n",
       "      <th>workclass_ Federal-gov</th>\n",
       "      <th>workclass_ Local-gov</th>\n",
       "      <th>workclass_ Never-worked</th>\n",
       "      <th>workclass_ Private</th>\n",
       "      <th>workclass_ Self-emp-inc</th>\n",
       "      <th>workclass_ Self-emp-not-inc</th>\n",
       "      <th>workclass_ State-gov</th>\n",
       "      <th>...</th>\n",
       "      <th>native-country_ United-States</th>\n",
       "      <th>native-country_ Vietnam</th>\n",
       "      <th>native-country_ Yugoslavia</th>\n",
       "      <th>age</th>\n",
       "      <th>fnlwgt</th>\n",
       "      <th>education-num</th>\n",
       "      <th>race</th>\n",
       "      <th>capital-gain</th>\n",
       "      <th>capital-loss</th>\n",
       "      <th>hours-per-week</th>\n",
       "    </tr>\n",
       "  </thead>\n",
       "  <tbody>\n",
       "    <tr>\n",
       "      <th>0</th>\n",
       "      <td>0</td>\n",
       "      <td>0</td>\n",
       "      <td>0</td>\n",
       "      <td>0</td>\n",
       "      <td>0</td>\n",
       "      <td>0</td>\n",
       "      <td>0</td>\n",
       "      <td>0</td>\n",
       "      <td>0</td>\n",
       "      <td>1</td>\n",
       "      <td>...</td>\n",
       "      <td>1</td>\n",
       "      <td>0</td>\n",
       "      <td>0</td>\n",
       "      <td>0.301370</td>\n",
       "      <td>0.044302</td>\n",
       "      <td>0.800000</td>\n",
       "      <td>0.0</td>\n",
       "      <td>0.02174</td>\n",
       "      <td>0.0</td>\n",
       "      <td>0.397959</td>\n",
       "    </tr>\n",
       "    <tr>\n",
       "      <th>1</th>\n",
       "      <td>0</td>\n",
       "      <td>1</td>\n",
       "      <td>0</td>\n",
       "      <td>0</td>\n",
       "      <td>0</td>\n",
       "      <td>0</td>\n",
       "      <td>0</td>\n",
       "      <td>0</td>\n",
       "      <td>1</td>\n",
       "      <td>0</td>\n",
       "      <td>...</td>\n",
       "      <td>1</td>\n",
       "      <td>0</td>\n",
       "      <td>0</td>\n",
       "      <td>0.452055</td>\n",
       "      <td>0.048238</td>\n",
       "      <td>0.800000</td>\n",
       "      <td>0.0</td>\n",
       "      <td>0.00000</td>\n",
       "      <td>0.0</td>\n",
       "      <td>0.122449</td>\n",
       "    </tr>\n",
       "    <tr>\n",
       "      <th>2</th>\n",
       "      <td>0</td>\n",
       "      <td>2</td>\n",
       "      <td>0</td>\n",
       "      <td>0</td>\n",
       "      <td>0</td>\n",
       "      <td>0</td>\n",
       "      <td>1</td>\n",
       "      <td>0</td>\n",
       "      <td>0</td>\n",
       "      <td>0</td>\n",
       "      <td>...</td>\n",
       "      <td>1</td>\n",
       "      <td>0</td>\n",
       "      <td>0</td>\n",
       "      <td>0.287671</td>\n",
       "      <td>0.138113</td>\n",
       "      <td>0.533333</td>\n",
       "      <td>0.0</td>\n",
       "      <td>0.00000</td>\n",
       "      <td>0.0</td>\n",
       "      <td>0.397959</td>\n",
       "    </tr>\n",
       "    <tr>\n",
       "      <th>3</th>\n",
       "      <td>0</td>\n",
       "      <td>3</td>\n",
       "      <td>0</td>\n",
       "      <td>0</td>\n",
       "      <td>0</td>\n",
       "      <td>0</td>\n",
       "      <td>1</td>\n",
       "      <td>0</td>\n",
       "      <td>0</td>\n",
       "      <td>0</td>\n",
       "      <td>...</td>\n",
       "      <td>1</td>\n",
       "      <td>0</td>\n",
       "      <td>0</td>\n",
       "      <td>0.493151</td>\n",
       "      <td>0.151068</td>\n",
       "      <td>0.400000</td>\n",
       "      <td>1.0</td>\n",
       "      <td>0.00000</td>\n",
       "      <td>0.0</td>\n",
       "      <td>0.397959</td>\n",
       "    </tr>\n",
       "    <tr>\n",
       "      <th>4</th>\n",
       "      <td>0</td>\n",
       "      <td>4</td>\n",
       "      <td>0</td>\n",
       "      <td>0</td>\n",
       "      <td>0</td>\n",
       "      <td>0</td>\n",
       "      <td>1</td>\n",
       "      <td>0</td>\n",
       "      <td>0</td>\n",
       "      <td>0</td>\n",
       "      <td>...</td>\n",
       "      <td>0</td>\n",
       "      <td>0</td>\n",
       "      <td>0</td>\n",
       "      <td>0.150685</td>\n",
       "      <td>0.221488</td>\n",
       "      <td>0.800000</td>\n",
       "      <td>1.0</td>\n",
       "      <td>0.00000</td>\n",
       "      <td>0.0</td>\n",
       "      <td>0.397959</td>\n",
       "    </tr>\n",
       "  </tbody>\n",
       "</table>\n",
       "<p>5 rows × 106 columns</p>\n",
       "</div>"
      ],
      "text/plain": [
       "   rich_outcome  ID  workclass_ ?  workclass_ Federal-gov  \\\n",
       "0             0   0             0                       0   \n",
       "1             0   1             0                       0   \n",
       "2             0   2             0                       0   \n",
       "3             0   3             0                       0   \n",
       "4             0   4             0                       0   \n",
       "\n",
       "   workclass_ Local-gov  workclass_ Never-worked  workclass_ Private  \\\n",
       "0                     0                        0                   0   \n",
       "1                     0                        0                   0   \n",
       "2                     0                        0                   1   \n",
       "3                     0                        0                   1   \n",
       "4                     0                        0                   1   \n",
       "\n",
       "   workclass_ Self-emp-inc  workclass_ Self-emp-not-inc  workclass_ State-gov  \\\n",
       "0                        0                            0                     1   \n",
       "1                        0                            1                     0   \n",
       "2                        0                            0                     0   \n",
       "3                        0                            0                     0   \n",
       "4                        0                            0                     0   \n",
       "\n",
       "   ...  native-country_ United-States  native-country_ Vietnam  \\\n",
       "0  ...                              1                        0   \n",
       "1  ...                              1                        0   \n",
       "2  ...                              1                        0   \n",
       "3  ...                              1                        0   \n",
       "4  ...                              0                        0   \n",
       "\n",
       "   native-country_ Yugoslavia       age    fnlwgt  education-num  race  \\\n",
       "0                           0  0.301370  0.044302       0.800000   0.0   \n",
       "1                           0  0.452055  0.048238       0.800000   0.0   \n",
       "2                           0  0.287671  0.138113       0.533333   0.0   \n",
       "3                           0  0.493151  0.151068       0.400000   1.0   \n",
       "4                           0  0.150685  0.221488       0.800000   1.0   \n",
       "\n",
       "   capital-gain  capital-loss  hours-per-week  \n",
       "0       0.02174           0.0        0.397959  \n",
       "1       0.00000           0.0        0.122449  \n",
       "2       0.00000           0.0        0.397959  \n",
       "3       0.00000           0.0        0.397959  \n",
       "4       0.00000           0.0        0.397959  \n",
       "\n",
       "[5 rows x 106 columns]"
      ]
     },
     "execution_count": 8,
     "metadata": {},
     "output_type": "execute_result"
    }
   ],
   "source": [
    "model_data.head()"
   ]
  },
  {
   "cell_type": "markdown",
   "metadata": {},
   "source": [
    "### 01 - Bias Index Check"
   ]
  },
  {
   "cell_type": "code",
   "execution_count": 9,
   "metadata": {},
   "outputs": [],
   "source": [
    "bias_checker = DataBiasChecker(pvalue_threshold=0.1, \n",
    "                               test_type=\"z-test\",\n",
    "                               is_2_sided=False)"
   ]
  },
  {
   "cell_type": "code",
   "execution_count": 10,
   "metadata": {},
   "outputs": [
    {
     "data": {
      "text/plain": [
       "<src.RAI._data_bias_check.DataBiasChecker at 0x7f9f00033d90>"
      ]
     },
     "execution_count": 10,
     "metadata": {},
     "output_type": "execute_result"
    }
   ],
   "source": [
    "pg = model_input[protected_group]\n",
    "y = model_input[\"rich_outcome\"]\n",
    "\n",
    "bias_checker.fit(pg, y)"
   ]
  },
  {
   "cell_type": "code",
   "execution_count": 11,
   "metadata": {},
   "outputs": [
    {
     "data": {
      "text/plain": [
       "True"
      ]
     },
     "execution_count": 11,
     "metadata": {},
     "output_type": "execute_result"
    }
   ],
   "source": [
    "bias_checker.biased_"
   ]
  },
  {
   "cell_type": "code",
   "execution_count": 12,
   "metadata": {},
   "outputs": [
    {
     "data": {
      "text/plain": [
       "1.1361393491156106e-58"
      ]
     },
     "execution_count": 12,
     "metadata": {},
     "output_type": "execute_result"
    }
   ],
   "source": [
    "bias_checker.p_value_"
   ]
  },
  {
   "cell_type": "code",
   "execution_count": 13,
   "metadata": {},
   "outputs": [
    {
     "data": {
      "text/html": [
       "<div>\n",
       "<style scoped>\n",
       "    .dataframe tbody tr th:only-of-type {\n",
       "        vertical-align: middle;\n",
       "    }\n",
       "\n",
       "    .dataframe tbody tr th {\n",
       "        vertical-align: top;\n",
       "    }\n",
       "\n",
       "    .dataframe thead th {\n",
       "        text-align: right;\n",
       "    }\n",
       "</style>\n",
       "<table border=\"1\" class=\"dataframe\">\n",
       "  <thead>\n",
       "    <tr style=\"text-align: right;\">\n",
       "      <th>rich_outcome</th>\n",
       "      <th>0</th>\n",
       "      <th>1</th>\n",
       "    </tr>\n",
       "    <tr>\n",
       "      <th>race</th>\n",
       "      <th></th>\n",
       "      <th></th>\n",
       "    </tr>\n",
       "  </thead>\n",
       "  <tbody>\n",
       "    <tr>\n",
       "      <th>0</th>\n",
       "      <td>0.746781</td>\n",
       "      <td>0.253219</td>\n",
       "    </tr>\n",
       "    <tr>\n",
       "      <th>1</th>\n",
       "      <td>0.876120</td>\n",
       "      <td>0.123880</td>\n",
       "    </tr>\n",
       "  </tbody>\n",
       "</table>\n",
       "</div>"
      ],
      "text/plain": [
       "rich_outcome         0         1\n",
       "race                            \n",
       "0             0.746781  0.253219\n",
       "1             0.876120  0.123880"
      ]
     },
     "execution_count": 13,
     "metadata": {},
     "output_type": "execute_result"
    }
   ],
   "source": [
    "bias_checker.historic_crosstab_"
   ]
  },
  {
   "cell_type": "markdown",
   "metadata": {},
   "source": [
    "### 03 - Fairness Scenarios"
   ]
  },
  {
   "cell_type": "code",
   "execution_count": 14,
   "metadata": {},
   "outputs": [
    {
     "name": "stdout",
     "output_type": "stream",
     "text": [
      "Fitting 5 folds for each of 12 candidates, totalling 60 fits\n"
     ]
    },
    {
     "name": "stderr",
     "output_type": "stream",
     "text": [
      "[Parallel(n_jobs=-1)]: Using backend LokyBackend with 12 concurrent workers.\n",
      "[Parallel(n_jobs=-1)]: Done   8 tasks      | elapsed:    8.3s\n",
      "[Parallel(n_jobs=-1)]: Done  58 out of  60 | elapsed:  1.1min remaining:    2.2s\n",
      "[Parallel(n_jobs=-1)]: Done  60 out of  60 | elapsed:  1.1min finished\n"
     ]
    },
    {
     "name": "stdout",
     "output_type": "stream",
     "text": [
      "{'max_depth': 10, 'n_estimators': 400}\n"
     ]
    }
   ],
   "source": [
    "X_train = model_data.drop(labels=[\"rich_outcome\"], axis=1)\n",
    "y_train = model_data[\"rich_outcome\"]\n",
    "pg_train = model_data[protected_group]\n",
    "\n",
    "grid = {\"n_estimators\": [100, 200, 400],\n",
    "        \"max_depth\": [4, 6, 8, 10]}\n",
    "rf_clf = RandomForestClassifier(class_weight=\"balanced\", random_state=42)\n",
    "clf_cv = GridSearchCV(rf_clf, grid, cv=5, scoring=\"roc_auc\", refit=True, verbose=3, n_jobs=-1)\n",
    "clf_cv.fit(X_train, y_train)\n",
    "\n",
    "best_estimator = clf_cv.best_estimator_\n",
    "best_params = clf_cv.best_params_\n",
    "print(best_params)\n",
    "\n",
    "# best_estimator = RandomForestClassifier(max_depth=10, n_estimators=400, class_weight=\"balanced\", random_state=42)\n",
    "# best_estimator.fit(X_train, y_train)"
   ]
  },
  {
   "cell_type": "code",
   "execution_count": 15,
   "metadata": {},
   "outputs": [],
   "source": [
    "bias_ranker = ModelBiasRanker(best_estimator,\n",
    "                              pos_rate=0.1,\n",
    "                              bias_tolerance=0.2)"
   ]
  },
  {
   "cell_type": "code",
   "execution_count": 16,
   "metadata": {},
   "outputs": [
    {
     "data": {
      "text/plain": [
       "<src.RAI._model_bias_ranker.ModelBiasRanker at 0x7f9f38048fd0>"
      ]
     },
     "execution_count": 16,
     "metadata": {},
     "output_type": "execute_result"
    }
   ],
   "source": [
    "bias_ranker.fit(X_train, y_train, pg_train)"
   ]
  },
  {
   "cell_type": "code",
   "execution_count": 17,
   "metadata": {},
   "outputs": [
    {
     "data": {
      "text/html": [
       "<div>\n",
       "<style scoped>\n",
       "    .dataframe tbody tr th:only-of-type {\n",
       "        vertical-align: middle;\n",
       "    }\n",
       "\n",
       "    .dataframe tbody tr th {\n",
       "        vertical-align: top;\n",
       "    }\n",
       "\n",
       "    .dataframe thead th {\n",
       "        text-align: right;\n",
       "    }\n",
       "</style>\n",
       "<table border=\"1\" class=\"dataframe\">\n",
       "  <thead>\n",
       "    <tr style=\"text-align: right;\">\n",
       "      <th></th>\n",
       "      <th>Bias Test</th>\n",
       "      <th>Bias Index</th>\n",
       "      <th>Accuracy</th>\n",
       "      <th>TP</th>\n",
       "      <th>FN</th>\n",
       "      <th>TN</th>\n",
       "      <th>FP</th>\n",
       "      <th>Non PG Positive Rate</th>\n",
       "      <th>PG Positive Rate</th>\n",
       "    </tr>\n",
       "  </thead>\n",
       "  <tbody>\n",
       "    <tr>\n",
       "      <th>Naive</th>\n",
       "      <td>Fail</td>\n",
       "      <td>0.4997</td>\n",
       "      <td>0.8023</td>\n",
       "      <td>0.5549</td>\n",
       "      <td>0.4451</td>\n",
       "      <td>0.9618</td>\n",
       "      <td>0.0382</td>\n",
       "      <td>0.4119</td>\n",
       "      <td>0.2058</td>\n",
       "    </tr>\n",
       "    <tr>\n",
       "      <th>Threshold Best</th>\n",
       "      <td>Fail</td>\n",
       "      <td>0.3232</td>\n",
       "      <td>0.8376</td>\n",
       "      <td>0.8919</td>\n",
       "      <td>0.1081</td>\n",
       "      <td>0.8316</td>\n",
       "      <td>0.1684</td>\n",
       "      <td>0.107</td>\n",
       "      <td>0.0346</td>\n",
       "    </tr>\n",
       "    <tr>\n",
       "      <th>Historic Parity</th>\n",
       "      <td>Fail</td>\n",
       "      <td>0.49</td>\n",
       "      <td>0.8375</td>\n",
       "      <td>0.8913</td>\n",
       "      <td>0.1087</td>\n",
       "      <td>0.8315</td>\n",
       "      <td>0.1685</td>\n",
       "      <td>0.1052</td>\n",
       "      <td>0.0515</td>\n",
       "    </tr>\n",
       "    <tr>\n",
       "      <th>Demographic Parity</th>\n",
       "      <td>Pass</td>\n",
       "      <td>1.0018</td>\n",
       "      <td>0.8366</td>\n",
       "      <td>0.8867</td>\n",
       "      <td>0.1133</td>\n",
       "      <td>0.831</td>\n",
       "      <td>0.169</td>\n",
       "      <td>0.1</td>\n",
       "      <td>0.1002</td>\n",
       "    </tr>\n",
       "  </tbody>\n",
       "</table>\n",
       "</div>"
      ],
      "text/plain": [
       "                   Bias Test Bias Index Accuracy      TP      FN      TN  \\\n",
       "Naive                   Fail     0.4997   0.8023  0.5549  0.4451  0.9618   \n",
       "Threshold Best          Fail     0.3232   0.8376  0.8919  0.1081  0.8316   \n",
       "Historic Parity         Fail       0.49   0.8375  0.8913  0.1087  0.8315   \n",
       "Demographic Parity      Pass     1.0018   0.8366  0.8867  0.1133   0.831   \n",
       "\n",
       "                        FP Non PG Positive Rate PG Positive Rate  \n",
       "Naive               0.0382               0.4119           0.2058  \n",
       "Threshold Best      0.1684                0.107           0.0346  \n",
       "Historic Parity     0.1685               0.1052           0.0515  \n",
       "Demographic Parity   0.169                  0.1           0.1002  "
      ]
     },
     "execution_count": 17,
     "metadata": {},
     "output_type": "execute_result"
    }
   ],
   "source": [
    "bias_ranker.results_"
   ]
  },
  {
   "cell_type": "code",
   "execution_count": 18,
   "metadata": {},
   "outputs": [],
   "source": [
    "bias_handler = ModelBiasHandler(best_estimator,\n",
    "                                pos_rate=0.1,\n",
    "                                bias_tolerance=0.2,\n",
    "                                method=\"demog_parity\")"
   ]
  },
  {
   "cell_type": "code",
   "execution_count": 19,
   "metadata": {
    "scrolled": false
   },
   "outputs": [
    {
     "data": {
      "text/plain": [
       "<src.RAI._model_bias_explain.ModelBiasHandler at 0x7f9f90d3f7d0>"
      ]
     },
     "execution_count": 19,
     "metadata": {},
     "output_type": "execute_result"
    }
   ],
   "source": [
    "bias_handler.fit(X_train, y_train, pg_train)"
   ]
  },
  {
   "cell_type": "code",
   "execution_count": 20,
   "metadata": {},
   "outputs": [
    {
     "data": {
      "text/plain": [
       "'Pass'"
      ]
     },
     "execution_count": 20,
     "metadata": {},
     "output_type": "execute_result"
    }
   ],
   "source": [
    "bias_handler.bias_test_"
   ]
  },
  {
   "cell_type": "code",
   "execution_count": 21,
   "metadata": {},
   "outputs": [
    {
     "data": {
      "text/plain": [
       "1.0018185167079552"
      ]
     },
     "execution_count": 21,
     "metadata": {},
     "output_type": "execute_result"
    }
   ],
   "source": [
    "bias_handler.bias_index_"
   ]
  },
  {
   "cell_type": "code",
   "execution_count": 22,
   "metadata": {},
   "outputs": [
    {
     "data": {
      "text/plain": [
       "0.8365529314210252"
      ]
     },
     "execution_count": 22,
     "metadata": {},
     "output_type": "execute_result"
    }
   ],
   "source": [
    "bias_handler.acc_"
   ]
  },
  {
   "cell_type": "code",
   "execution_count": 23,
   "metadata": {},
   "outputs": [
    {
     "data": {
      "text/plain": [
       "0.8867055572612834"
      ]
     },
     "execution_count": 23,
     "metadata": {},
     "output_type": "execute_result"
    }
   ],
   "source": [
    "bias_handler.TP_"
   ]
  },
  {
   "cell_type": "code",
   "execution_count": 24,
   "metadata": {},
   "outputs": [
    {
     "data": {
      "text/plain": [
       "0.11329444273871661"
      ]
     },
     "execution_count": 24,
     "metadata": {},
     "output_type": "execute_result"
    }
   ],
   "source": [
    "bias_handler.FN_"
   ]
  },
  {
   "cell_type": "code",
   "execution_count": 25,
   "metadata": {},
   "outputs": [
    {
     "data": {
      "text/plain": [
       "0.8309787059787059"
      ]
     },
     "execution_count": 25,
     "metadata": {},
     "output_type": "execute_result"
    }
   ],
   "source": [
    "bias_handler.TN_"
   ]
  },
  {
   "cell_type": "code",
   "execution_count": 26,
   "metadata": {},
   "outputs": [
    {
     "data": {
      "text/plain": [
       "0.169021294021294"
      ]
     },
     "execution_count": 26,
     "metadata": {},
     "output_type": "execute_result"
    }
   ],
   "source": [
    "bias_handler.FP_"
   ]
  },
  {
   "cell_type": "code",
   "execution_count": 27,
   "metadata": {},
   "outputs": [
    {
     "data": {
      "text/plain": [
       "0.10001019125590244"
      ]
     },
     "execution_count": 27,
     "metadata": {},
     "output_type": "execute_result"
    }
   ],
   "source": [
    "bias_handler.non_pg_rate_"
   ]
  },
  {
   "cell_type": "code",
   "execution_count": 28,
   "metadata": {},
   "outputs": [
    {
     "data": {
      "text/plain": [
       "0.1001920614596671"
      ]
     },
     "execution_count": 28,
     "metadata": {},
     "output_type": "execute_result"
    }
   ],
   "source": [
    "bias_handler.pg_rate_"
   ]
  },
  {
   "cell_type": "code",
   "execution_count": 29,
   "metadata": {},
   "outputs": [
    {
     "data": {
      "text/plain": [
       "array([0, 0, 0, ..., 0, 0, 1])"
      ]
     },
     "execution_count": 29,
     "metadata": {},
     "output_type": "execute_result"
    }
   ],
   "source": [
    "bias_handler.predict(X_train, pg_train)"
   ]
  },
  {
   "cell_type": "code",
   "execution_count": 30,
   "metadata": {},
   "outputs": [
    {
     "data": {
      "text/plain": [
       "0.6603530294609407"
      ]
     },
     "execution_count": 30,
     "metadata": {},
     "output_type": "execute_result"
    }
   ],
   "source": [
    "bias_handler.thresh_pg_"
   ]
  },
  {
   "cell_type": "code",
   "execution_count": 31,
   "metadata": {},
   "outputs": [
    {
     "data": {
      "text/plain": [
       "0.8343797758352146"
      ]
     },
     "execution_count": 31,
     "metadata": {},
     "output_type": "execute_result"
    }
   ],
   "source": [
    "bias_handler.thresh_non_pg_"
   ]
  },
  {
   "cell_type": "code",
   "execution_count": 32,
   "metadata": {},
   "outputs": [],
   "source": [
    "# Steps Ahead:\n",
    "# - unit tests\n",
    "# - exception handling"
   ]
  }
 ],
 "metadata": {
  "kernelspec": {
   "display_name": "Python 3",
   "language": "python",
   "name": "python3"
  },
  "language_info": {
   "codemirror_mode": {
    "name": "ipython",
    "version": 3
   },
   "file_extension": ".py",
   "mimetype": "text/x-python",
   "name": "python",
   "nbconvert_exporter": "python",
   "pygments_lexer": "ipython3",
   "version": "3.7.7"
  }
 },
 "nbformat": 4,
 "nbformat_minor": 4
}