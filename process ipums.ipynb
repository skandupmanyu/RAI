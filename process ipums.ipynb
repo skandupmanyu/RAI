{
 "cells": [
  {
   "cell_type": "code",
   "execution_count": 1,
   "metadata": {},
   "outputs": [],
   "source": [
    "import time\n",
    "import warnings\n",
    "warnings.filterwarnings(\"ignore\")\n",
    "import pandas as pd\n",
    "import numpy as np\n",
    "import matplotlib.pyplot as plt\n",
    "from sklearn import preprocessing\n",
    "from sklearn.model_selection import GridSearchCV\n",
    "from sklearn.ensemble import RandomForestClassifier\n",
    "\n",
    "from sklearn.metrics import log_loss\n",
    "from sklearn.tree import DecisionTreeClassifier\n",
    "from sklearn.preprocessing import LabelEncoder\n",
    "from sklearn import datasets, metrics, model_selection, svm\n",
    "\n",
    "\n",
    "# from notebooks/ directory\n",
    "import sys, os\n",
    "\n",
    "# ADDITIONS:\n",
    "from src.RAI import DataBiasChecker, ModelBiasRanker, ModelBiasHandler\n"
   ]
  },
  {
   "cell_type": "code",
   "execution_count": 55,
   "metadata": {},
   "outputs": [
    {
     "name": "stdout",
     "output_type": "stream",
     "text": [
      "CPU times: user 38.6 s, sys: 13.9 s, total: 52.6 s\n",
      "Wall time: 52.6 s\n"
     ]
    }
   ],
   "source": [
    "%%time\n",
    "model_input_path = './data/raw/usa_IPUMS_2022.csv.gz'\n",
    "ipums_select = pd.read_csv(model_input_path, compression='gzip', header=0, sep=',', quotechar='\"', error_bad_lines=False,\n",
    "                       usecols = ['INCTOT','MET2013','SEX','AGE',\n",
    "                                  'RACE','HISPAN','EDUC', 'MARST','YEAR'])\n"
   ]
  },
  {
   "cell_type": "code",
   "execution_count": 56,
   "metadata": {},
   "outputs": [
    {
     "data": {
      "text/plain": [
       "1    12235684\n",
       "2     1582218\n",
       "6      614521\n",
       "7      593293\n",
       "8      431413\n",
       "4      216873\n",
       "3      174676\n",
       "9       58519\n",
       "5       40427\n",
       "Name: RACE, dtype: int64"
      ]
     },
     "execution_count": 56,
     "metadata": {},
     "output_type": "execute_result"
    }
   ],
   "source": [
    "ipums_select.RACE.value_counts()"
   ]
  },
  {
   "cell_type": "code",
   "execution_count": 57,
   "metadata": {},
   "outputs": [],
   "source": [
    "ipums_select['MARST'] = (ipums_select['MARST'].isin([1,2])).astype('int')\n",
    "filt = ipums_select['MARST'] == 1\n",
    "ipums_select.loc[filt, 'MARST'] = 'married'\n",
    "ipums_select.loc[~filt, 'MARST'] = 'not_married'"
   ]
  },
  {
   "cell_type": "code",
   "execution_count": 58,
   "metadata": {},
   "outputs": [],
   "source": [
    "ipums_select['EDUC'] = (ipums_select['EDUC'].isin([10,11])).astype('int')\n",
    "filt = ipums_select['EDUC'] == 1\n",
    "ipums_select.loc[filt, 'EDUC'] = 'college'\n",
    "ipums_select.loc[~filt, 'EDUC'] = 'no_college'"
   ]
  },
  {
   "cell_type": "code",
   "execution_count": 59,
   "metadata": {},
   "outputs": [],
   "source": [
    "ipums_select['SEX'] = (ipums_select['SEX'].isin([1])).astype('int')\n",
    "filt = ipums_select['SEX'] == 1\n",
    "ipums_select.loc[filt, 'SEX'] = 'Male'\n",
    "ipums_select.loc[~filt, 'SEX'] = 'Female'"
   ]
  },
  {
   "cell_type": "code",
   "execution_count": 60,
   "metadata": {},
   "outputs": [],
   "source": [
    "# ipums_select.drop(['YEAR','SERIAL','CBSERIAL','NUMPREC','SUBSAMP','HHWT','HHTYPE','MET2013','MORTGAGE','RENT','HISPAN','INCTOT'],axis=1, inplace=True)"
   ]
  },
  {
   "cell_type": "code",
   "execution_count": 61,
   "metadata": {},
   "outputs": [
    {
     "data": {
      "text/html": [
       "<div>\n",
       "<style scoped>\n",
       "    .dataframe tbody tr th:only-of-type {\n",
       "        vertical-align: middle;\n",
       "    }\n",
       "\n",
       "    .dataframe tbody tr th {\n",
       "        vertical-align: top;\n",
       "    }\n",
       "\n",
       "    .dataframe thead th {\n",
       "        text-align: right;\n",
       "    }\n",
       "</style>\n",
       "<table border=\"1\" class=\"dataframe\">\n",
       "  <thead>\n",
       "    <tr style=\"text-align: right;\">\n",
       "      <th></th>\n",
       "      <th>YEAR</th>\n",
       "      <th>MET2013</th>\n",
       "      <th>sex</th>\n",
       "      <th>age</th>\n",
       "      <th>marital-status</th>\n",
       "      <th>race</th>\n",
       "      <th>HISPAN</th>\n",
       "      <th>education</th>\n",
       "      <th>INCTOT</th>\n",
       "    </tr>\n",
       "  </thead>\n",
       "  <tbody>\n",
       "    <tr>\n",
       "      <th>0</th>\n",
       "      <td>2015</td>\n",
       "      <td>33660</td>\n",
       "      <td>Male</td>\n",
       "      <td>56</td>\n",
       "      <td>married</td>\n",
       "      <td>2</td>\n",
       "      <td>0</td>\n",
       "      <td>no_college</td>\n",
       "      <td>3450</td>\n",
       "    </tr>\n",
       "    <tr>\n",
       "      <th>1</th>\n",
       "      <td>2015</td>\n",
       "      <td>33660</td>\n",
       "      <td>Female</td>\n",
       "      <td>61</td>\n",
       "      <td>married</td>\n",
       "      <td>2</td>\n",
       "      <td>0</td>\n",
       "      <td>no_college</td>\n",
       "      <td>14000</td>\n",
       "    </tr>\n",
       "    <tr>\n",
       "      <th>2</th>\n",
       "      <td>2015</td>\n",
       "      <td>33660</td>\n",
       "      <td>Female</td>\n",
       "      <td>8</td>\n",
       "      <td>not_married</td>\n",
       "      <td>2</td>\n",
       "      <td>0</td>\n",
       "      <td>no_college</td>\n",
       "      <td>9999999</td>\n",
       "    </tr>\n",
       "    <tr>\n",
       "      <th>3</th>\n",
       "      <td>2015</td>\n",
       "      <td>33660</td>\n",
       "      <td>Male</td>\n",
       "      <td>61</td>\n",
       "      <td>not_married</td>\n",
       "      <td>2</td>\n",
       "      <td>0</td>\n",
       "      <td>no_college</td>\n",
       "      <td>35000</td>\n",
       "    </tr>\n",
       "    <tr>\n",
       "      <th>4</th>\n",
       "      <td>2015</td>\n",
       "      <td>0</td>\n",
       "      <td>Female</td>\n",
       "      <td>52</td>\n",
       "      <td>not_married</td>\n",
       "      <td>8</td>\n",
       "      <td>0</td>\n",
       "      <td>no_college</td>\n",
       "      <td>8800</td>\n",
       "    </tr>\n",
       "    <tr>\n",
       "      <th>...</th>\n",
       "      <td>...</td>\n",
       "      <td>...</td>\n",
       "      <td>...</td>\n",
       "      <td>...</td>\n",
       "      <td>...</td>\n",
       "      <td>...</td>\n",
       "      <td>...</td>\n",
       "      <td>...</td>\n",
       "      <td>...</td>\n",
       "    </tr>\n",
       "    <tr>\n",
       "      <th>15947619</th>\n",
       "      <td>2019</td>\n",
       "      <td>0</td>\n",
       "      <td>Female</td>\n",
       "      <td>63</td>\n",
       "      <td>not_married</td>\n",
       "      <td>1</td>\n",
       "      <td>0</td>\n",
       "      <td>no_college</td>\n",
       "      <td>117000</td>\n",
       "    </tr>\n",
       "    <tr>\n",
       "      <th>15947620</th>\n",
       "      <td>2019</td>\n",
       "      <td>0</td>\n",
       "      <td>Male</td>\n",
       "      <td>45</td>\n",
       "      <td>not_married</td>\n",
       "      <td>1</td>\n",
       "      <td>0</td>\n",
       "      <td>no_college</td>\n",
       "      <td>14000</td>\n",
       "    </tr>\n",
       "    <tr>\n",
       "      <th>15947621</th>\n",
       "      <td>2019</td>\n",
       "      <td>0</td>\n",
       "      <td>Female</td>\n",
       "      <td>85</td>\n",
       "      <td>not_married</td>\n",
       "      <td>1</td>\n",
       "      <td>0</td>\n",
       "      <td>no_college</td>\n",
       "      <td>18500</td>\n",
       "    </tr>\n",
       "    <tr>\n",
       "      <th>15947622</th>\n",
       "      <td>2019</td>\n",
       "      <td>0</td>\n",
       "      <td>Female</td>\n",
       "      <td>67</td>\n",
       "      <td>married</td>\n",
       "      <td>1</td>\n",
       "      <td>0</td>\n",
       "      <td>college</td>\n",
       "      <td>49900</td>\n",
       "    </tr>\n",
       "    <tr>\n",
       "      <th>15947623</th>\n",
       "      <td>2019</td>\n",
       "      <td>0</td>\n",
       "      <td>Male</td>\n",
       "      <td>67</td>\n",
       "      <td>married</td>\n",
       "      <td>1</td>\n",
       "      <td>0</td>\n",
       "      <td>no_college</td>\n",
       "      <td>8900</td>\n",
       "    </tr>\n",
       "  </tbody>\n",
       "</table>\n",
       "<p>15947624 rows × 9 columns</p>\n",
       "</div>"
      ],
      "text/plain": [
       "          YEAR  MET2013     sex  age marital-status  race  HISPAN   education  \\\n",
       "0         2015    33660    Male   56        married     2       0  no_college   \n",
       "1         2015    33660  Female   61        married     2       0  no_college   \n",
       "2         2015    33660  Female    8    not_married     2       0  no_college   \n",
       "3         2015    33660    Male   61    not_married     2       0  no_college   \n",
       "4         2015        0  Female   52    not_married     8       0  no_college   \n",
       "...        ...      ...     ...  ...            ...   ...     ...         ...   \n",
       "15947619  2019        0  Female   63    not_married     1       0  no_college   \n",
       "15947620  2019        0    Male   45    not_married     1       0  no_college   \n",
       "15947621  2019        0  Female   85    not_married     1       0  no_college   \n",
       "15947622  2019        0  Female   67        married     1       0     college   \n",
       "15947623  2019        0    Male   67        married     1       0  no_college   \n",
       "\n",
       "           INCTOT  \n",
       "0            3450  \n",
       "1           14000  \n",
       "2         9999999  \n",
       "3           35000  \n",
       "4            8800  \n",
       "...           ...  \n",
       "15947619   117000  \n",
       "15947620    14000  \n",
       "15947621    18500  \n",
       "15947622    49900  \n",
       "15947623     8900  \n",
       "\n",
       "[15947624 rows x 9 columns]"
      ]
     },
     "execution_count": 61,
     "metadata": {},
     "output_type": "execute_result"
    }
   ],
   "source": [
    "ip = ipums_select.copy().rename({\"EDUC\":'education',\n",
    "            \"MARST\":'marital-status',\n",
    "            \"SEX\":'sex',\n",
    "            \"AGE\":'age',\n",
    "            \"RACE\":'race'}, axis=1)\n",
    "ip"
   ]
  },
  {
   "cell_type": "code",
   "execution_count": 62,
   "metadata": {},
   "outputs": [],
   "source": [
    "black = ip.loc[ip.race ==2,:].reset_index(drop=True).loc[:50000,:]\n",
    "white = ip.loc[ip.race ==1,:].reset_index(drop=True).loc[:16796,:]\n",
    "asian = ip.loc[(ip.race ==4)|(ip.race ==5)|(ip.race ==6),:].reset_index(drop=True).loc[:16600,:]\n",
    "american_indian = ip.loc[ip.race ==3,:].reset_index(drop=True).loc[:16600,:]"
   ]
  },
  {
   "cell_type": "code",
   "execution_count": 63,
   "metadata": {},
   "outputs": [],
   "source": [
    "merge = pd.concat([black, white,asian,american_indian], axis=0)\n",
    "# mask = merge.race == 2\n",
    "# merge.loc[mask, 'black'] = 1\n",
    "# merge.loc[~mask, 'black'] = 0"
   ]
  },
  {
   "cell_type": "code",
   "execution_count": 64,
   "metadata": {},
   "outputs": [],
   "source": [
    "merge = merge.sample(frac=1)"
   ]
  },
  {
   "cell_type": "code",
   "execution_count": 65,
   "metadata": {},
   "outputs": [
    {
     "data": {
      "text/plain": [
       "2    50001\n",
       "1    16797\n",
       "3    16601\n",
       "6    11438\n",
       "4     4240\n",
       "5      923\n",
       "Name: race, dtype: int64"
      ]
     },
     "execution_count": 65,
     "metadata": {},
     "output_type": "execute_result"
    }
   ],
   "source": [
    "merge.race.value_counts()"
   ]
  },
  {
   "cell_type": "code",
   "execution_count": 66,
   "metadata": {},
   "outputs": [
    {
     "data": {
      "text/html": [
       "<div>\n",
       "<style scoped>\n",
       "    .dataframe tbody tr th:only-of-type {\n",
       "        vertical-align: middle;\n",
       "    }\n",
       "\n",
       "    .dataframe tbody tr th {\n",
       "        vertical-align: top;\n",
       "    }\n",
       "\n",
       "    .dataframe thead th {\n",
       "        text-align: right;\n",
       "    }\n",
       "</style>\n",
       "<table border=\"1\" class=\"dataframe\">\n",
       "  <thead>\n",
       "    <tr style=\"text-align: right;\">\n",
       "      <th></th>\n",
       "      <th>YEAR</th>\n",
       "      <th>MET2013</th>\n",
       "      <th>sex</th>\n",
       "      <th>age</th>\n",
       "      <th>marital-status</th>\n",
       "      <th>race</th>\n",
       "      <th>HISPAN</th>\n",
       "      <th>education</th>\n",
       "      <th>INCTOT</th>\n",
       "    </tr>\n",
       "  </thead>\n",
       "  <tbody>\n",
       "    <tr>\n",
       "      <th>11463</th>\n",
       "      <td>2015</td>\n",
       "      <td>35300</td>\n",
       "      <td>Female</td>\n",
       "      <td>32</td>\n",
       "      <td>not_married</td>\n",
       "      <td>3</td>\n",
       "      <td>2</td>\n",
       "      <td>no_college</td>\n",
       "      <td>11100</td>\n",
       "    </tr>\n",
       "    <tr>\n",
       "      <th>37144</th>\n",
       "      <td>2015</td>\n",
       "      <td>19740</td>\n",
       "      <td>Male</td>\n",
       "      <td>35</td>\n",
       "      <td>married</td>\n",
       "      <td>2</td>\n",
       "      <td>0</td>\n",
       "      <td>no_college</td>\n",
       "      <td>40000</td>\n",
       "    </tr>\n",
       "    <tr>\n",
       "      <th>10579</th>\n",
       "      <td>2015</td>\n",
       "      <td>0</td>\n",
       "      <td>Female</td>\n",
       "      <td>38</td>\n",
       "      <td>married</td>\n",
       "      <td>3</td>\n",
       "      <td>0</td>\n",
       "      <td>no_college</td>\n",
       "      <td>28000</td>\n",
       "    </tr>\n",
       "    <tr>\n",
       "      <th>2342</th>\n",
       "      <td>2015</td>\n",
       "      <td>0</td>\n",
       "      <td>Male</td>\n",
       "      <td>19</td>\n",
       "      <td>not_married</td>\n",
       "      <td>1</td>\n",
       "      <td>0</td>\n",
       "      <td>no_college</td>\n",
       "      <td>0</td>\n",
       "    </tr>\n",
       "    <tr>\n",
       "      <th>9585</th>\n",
       "      <td>2015</td>\n",
       "      <td>0</td>\n",
       "      <td>Female</td>\n",
       "      <td>77</td>\n",
       "      <td>not_married</td>\n",
       "      <td>1</td>\n",
       "      <td>0</td>\n",
       "      <td>no_college</td>\n",
       "      <td>12200</td>\n",
       "    </tr>\n",
       "    <tr>\n",
       "      <th>...</th>\n",
       "      <td>...</td>\n",
       "      <td>...</td>\n",
       "      <td>...</td>\n",
       "      <td>...</td>\n",
       "      <td>...</td>\n",
       "      <td>...</td>\n",
       "      <td>...</td>\n",
       "      <td>...</td>\n",
       "      <td>...</td>\n",
       "    </tr>\n",
       "    <tr>\n",
       "      <th>14984</th>\n",
       "      <td>2015</td>\n",
       "      <td>19820</td>\n",
       "      <td>Male</td>\n",
       "      <td>63</td>\n",
       "      <td>married</td>\n",
       "      <td>3</td>\n",
       "      <td>4</td>\n",
       "      <td>college</td>\n",
       "      <td>8000</td>\n",
       "    </tr>\n",
       "    <tr>\n",
       "      <th>12362</th>\n",
       "      <td>2015</td>\n",
       "      <td>38060</td>\n",
       "      <td>Male</td>\n",
       "      <td>19</td>\n",
       "      <td>not_married</td>\n",
       "      <td>2</td>\n",
       "      <td>0</td>\n",
       "      <td>no_college</td>\n",
       "      <td>1000</td>\n",
       "    </tr>\n",
       "    <tr>\n",
       "      <th>24353</th>\n",
       "      <td>2015</td>\n",
       "      <td>37100</td>\n",
       "      <td>Female</td>\n",
       "      <td>18</td>\n",
       "      <td>not_married</td>\n",
       "      <td>2</td>\n",
       "      <td>0</td>\n",
       "      <td>no_college</td>\n",
       "      <td>0</td>\n",
       "    </tr>\n",
       "    <tr>\n",
       "      <th>5509</th>\n",
       "      <td>2015</td>\n",
       "      <td>0</td>\n",
       "      <td>Female</td>\n",
       "      <td>73</td>\n",
       "      <td>not_married</td>\n",
       "      <td>1</td>\n",
       "      <td>0</td>\n",
       "      <td>no_college</td>\n",
       "      <td>12300</td>\n",
       "    </tr>\n",
       "    <tr>\n",
       "      <th>7676</th>\n",
       "      <td>2015</td>\n",
       "      <td>19300</td>\n",
       "      <td>Female</td>\n",
       "      <td>33</td>\n",
       "      <td>married</td>\n",
       "      <td>1</td>\n",
       "      <td>0</td>\n",
       "      <td>college</td>\n",
       "      <td>62000</td>\n",
       "    </tr>\n",
       "  </tbody>\n",
       "</table>\n",
       "<p>100000 rows × 9 columns</p>\n",
       "</div>"
      ],
      "text/plain": [
       "       YEAR  MET2013     sex  age marital-status  race  HISPAN   education  \\\n",
       "11463  2015    35300  Female   32    not_married     3       2  no_college   \n",
       "37144  2015    19740    Male   35        married     2       0  no_college   \n",
       "10579  2015        0  Female   38        married     3       0  no_college   \n",
       "2342   2015        0    Male   19    not_married     1       0  no_college   \n",
       "9585   2015        0  Female   77    not_married     1       0  no_college   \n",
       "...     ...      ...     ...  ...            ...   ...     ...         ...   \n",
       "14984  2015    19820    Male   63        married     3       4     college   \n",
       "12362  2015    38060    Male   19    not_married     2       0  no_college   \n",
       "24353  2015    37100  Female   18    not_married     2       0  no_college   \n",
       "5509   2015        0  Female   73    not_married     1       0  no_college   \n",
       "7676   2015    19300  Female   33        married     1       0     college   \n",
       "\n",
       "       INCTOT  \n",
       "11463   11100  \n",
       "37144   40000  \n",
       "10579   28000  \n",
       "2342        0  \n",
       "9585    12200  \n",
       "...       ...  \n",
       "14984    8000  \n",
       "12362    1000  \n",
       "24353       0  \n",
       "5509    12300  \n",
       "7676    62000  \n",
       "\n",
       "[100000 rows x 9 columns]"
      ]
     },
     "execution_count": 66,
     "metadata": {},
     "output_type": "execute_result"
    }
   ],
   "source": [
    "merge"
   ]
  },
  {
   "cell_type": "code",
   "execution_count": 68,
   "metadata": {},
   "outputs": [],
   "source": [
    "merge.to_csv('./data/raw/ipums_standard_black.csv', index=False)"
   ]
  },
  {
   "cell_type": "code",
   "execution_count": null,
   "metadata": {},
   "outputs": [],
   "source": []
  },
  {
   "cell_type": "code",
   "execution_count": null,
   "metadata": {},
   "outputs": [],
   "source": []
  },
  {
   "cell_type": "code",
   "execution_count": 117,
   "metadata": {},
   "outputs": [],
   "source": [
    "import joblib\n",
    "import pandas as pd\n",
    "from sklearn import preprocessing\n",
    "model = joblib.load('./data/artefacts/proxy_model_black_income_ipums_standard/model')"
   ]
  },
  {
   "cell_type": "code",
   "execution_count": 118,
   "metadata": {},
   "outputs": [
    {
     "data": {
      "text/plain": [
       "['education_college',\n",
       " 'education_no_college',\n",
       " 'marital-status_married',\n",
       " 'marital-status_not_married',\n",
       " 'sex_Female',\n",
       " 'sex_Male',\n",
       " 'age']"
      ]
     },
     "execution_count": 118,
     "metadata": {},
     "output_type": "execute_result"
    }
   ],
   "source": [
    "model.feature_name_"
   ]
  },
  {
   "cell_type": "code",
   "execution_count": 219,
   "metadata": {},
   "outputs": [
    {
     "data": {
      "text/html": [
       "<div>\n",
       "<style scoped>\n",
       "    .dataframe tbody tr th:only-of-type {\n",
       "        vertical-align: middle;\n",
       "    }\n",
       "\n",
       "    .dataframe tbody tr th {\n",
       "        vertical-align: top;\n",
       "    }\n",
       "\n",
       "    .dataframe thead th {\n",
       "        text-align: right;\n",
       "    }\n",
       "</style>\n",
       "<table border=\"1\" class=\"dataframe\">\n",
       "  <thead>\n",
       "    <tr style=\"text-align: right;\">\n",
       "      <th></th>\n",
       "      <th>black</th>\n",
       "      <th>rich</th>\n",
       "      <th>education_college</th>\n",
       "      <th>education_no_college</th>\n",
       "      <th>marital-status_married</th>\n",
       "      <th>marital-status_not_married</th>\n",
       "      <th>sex_Female</th>\n",
       "      <th>sex_Male</th>\n",
       "      <th>age</th>\n",
       "    </tr>\n",
       "  </thead>\n",
       "  <tbody>\n",
       "    <tr>\n",
       "      <th>0</th>\n",
       "      <td>0</td>\n",
       "      <td>1</td>\n",
       "      <td>1</td>\n",
       "      <td>0</td>\n",
       "      <td>0</td>\n",
       "      <td>1</td>\n",
       "      <td>0</td>\n",
       "      <td>1</td>\n",
       "      <td>0.301370</td>\n",
       "    </tr>\n",
       "    <tr>\n",
       "      <th>1</th>\n",
       "      <td>0</td>\n",
       "      <td>1</td>\n",
       "      <td>1</td>\n",
       "      <td>0</td>\n",
       "      <td>1</td>\n",
       "      <td>0</td>\n",
       "      <td>0</td>\n",
       "      <td>1</td>\n",
       "      <td>0.452055</td>\n",
       "    </tr>\n",
       "    <tr>\n",
       "      <th>2</th>\n",
       "      <td>0</td>\n",
       "      <td>1</td>\n",
       "      <td>0</td>\n",
       "      <td>1</td>\n",
       "      <td>0</td>\n",
       "      <td>1</td>\n",
       "      <td>0</td>\n",
       "      <td>1</td>\n",
       "      <td>0.287671</td>\n",
       "    </tr>\n",
       "    <tr>\n",
       "      <th>3</th>\n",
       "      <td>1</td>\n",
       "      <td>1</td>\n",
       "      <td>0</td>\n",
       "      <td>1</td>\n",
       "      <td>1</td>\n",
       "      <td>0</td>\n",
       "      <td>0</td>\n",
       "      <td>1</td>\n",
       "      <td>0.493151</td>\n",
       "    </tr>\n",
       "    <tr>\n",
       "      <th>4</th>\n",
       "      <td>1</td>\n",
       "      <td>1</td>\n",
       "      <td>1</td>\n",
       "      <td>0</td>\n",
       "      <td>1</td>\n",
       "      <td>0</td>\n",
       "      <td>1</td>\n",
       "      <td>0</td>\n",
       "      <td>0.150685</td>\n",
       "    </tr>\n",
       "    <tr>\n",
       "      <th>...</th>\n",
       "      <td>...</td>\n",
       "      <td>...</td>\n",
       "      <td>...</td>\n",
       "      <td>...</td>\n",
       "      <td>...</td>\n",
       "      <td>...</td>\n",
       "      <td>...</td>\n",
       "      <td>...</td>\n",
       "      <td>...</td>\n",
       "    </tr>\n",
       "    <tr>\n",
       "      <th>32556</th>\n",
       "      <td>0</td>\n",
       "      <td>1</td>\n",
       "      <td>0</td>\n",
       "      <td>1</td>\n",
       "      <td>1</td>\n",
       "      <td>0</td>\n",
       "      <td>1</td>\n",
       "      <td>0</td>\n",
       "      <td>0.136986</td>\n",
       "    </tr>\n",
       "    <tr>\n",
       "      <th>32557</th>\n",
       "      <td>0</td>\n",
       "      <td>0</td>\n",
       "      <td>0</td>\n",
       "      <td>1</td>\n",
       "      <td>1</td>\n",
       "      <td>0</td>\n",
       "      <td>0</td>\n",
       "      <td>1</td>\n",
       "      <td>0.315068</td>\n",
       "    </tr>\n",
       "    <tr>\n",
       "      <th>32558</th>\n",
       "      <td>0</td>\n",
       "      <td>1</td>\n",
       "      <td>0</td>\n",
       "      <td>1</td>\n",
       "      <td>0</td>\n",
       "      <td>1</td>\n",
       "      <td>1</td>\n",
       "      <td>0</td>\n",
       "      <td>0.561644</td>\n",
       "    </tr>\n",
       "    <tr>\n",
       "      <th>32559</th>\n",
       "      <td>0</td>\n",
       "      <td>1</td>\n",
       "      <td>0</td>\n",
       "      <td>1</td>\n",
       "      <td>0</td>\n",
       "      <td>1</td>\n",
       "      <td>0</td>\n",
       "      <td>1</td>\n",
       "      <td>0.068493</td>\n",
       "    </tr>\n",
       "    <tr>\n",
       "      <th>32560</th>\n",
       "      <td>0</td>\n",
       "      <td>0</td>\n",
       "      <td>0</td>\n",
       "      <td>1</td>\n",
       "      <td>1</td>\n",
       "      <td>0</td>\n",
       "      <td>1</td>\n",
       "      <td>0</td>\n",
       "      <td>0.479452</td>\n",
       "    </tr>\n",
       "  </tbody>\n",
       "</table>\n",
       "<p>32561 rows × 9 columns</p>\n",
       "</div>"
      ],
      "text/plain": [
       "       black  rich  education_college  education_no_college  \\\n",
       "0          0     1                  1                     0   \n",
       "1          0     1                  1                     0   \n",
       "2          0     1                  0                     1   \n",
       "3          1     1                  0                     1   \n",
       "4          1     1                  1                     0   \n",
       "...      ...   ...                ...                   ...   \n",
       "32556      0     1                  0                     1   \n",
       "32557      0     0                  0                     1   \n",
       "32558      0     1                  0                     1   \n",
       "32559      0     1                  0                     1   \n",
       "32560      0     0                  0                     1   \n",
       "\n",
       "       marital-status_married  marital-status_not_married  sex_Female  \\\n",
       "0                           0                           1           0   \n",
       "1                           1                           0           0   \n",
       "2                           0                           1           0   \n",
       "3                           1                           0           0   \n",
       "4                           1                           0           1   \n",
       "...                       ...                         ...         ...   \n",
       "32556                       1                           0           1   \n",
       "32557                       1                           0           0   \n",
       "32558                       0                           1           1   \n",
       "32559                       0                           1           0   \n",
       "32560                       1                           0           1   \n",
       "\n",
       "       sex_Male       age  \n",
       "0             1  0.301370  \n",
       "1             1  0.452055  \n",
       "2             1  0.287671  \n",
       "3             1  0.493151  \n",
       "4             0  0.150685  \n",
       "...         ...       ...  \n",
       "32556         0  0.136986  \n",
       "32557         1  0.315068  \n",
       "32558         0  0.561644  \n",
       "32559         1  0.068493  \n",
       "32560         0  0.479452  \n",
       "\n",
       "[32561 rows x 9 columns]"
      ]
     },
     "execution_count": 219,
     "metadata": {},
     "output_type": "execute_result"
    }
   ],
   "source": [
    "adult = pd.read_csv('./data/intermediate/proxy_model_race_income_adult_standard/dataset.csv')\n",
    "adult"
   ]
  },
  {
   "cell_type": "code",
   "execution_count": 212,
   "metadata": {},
   "outputs": [],
   "source": [
    "adult = pd.read_csv('./data/raw/adult_standard.csv')\n",
    "X = adult[['education','marital-status','sex','age']]"
   ]
  },
  {
   "cell_type": "code",
   "execution_count": 210,
   "metadata": {},
   "outputs": [],
   "source": [
    "# X.to_json('./data/input/adult.json')"
   ]
  },
  {
   "cell_type": "code",
   "execution_count": 221,
   "metadata": {},
   "outputs": [],
   "source": [
    "X = adult.drop(['black','rich'], axis=1)"
   ]
  },
  {
   "cell_type": "code",
   "execution_count": 222,
   "metadata": {},
   "outputs": [],
   "source": [
    "pred_proba = model.predict_proba(X)[::,1]"
   ]
  },
  {
   "cell_type": "code",
   "execution_count": 223,
   "metadata": {},
   "outputs": [
    {
     "data": {
      "text/plain": [
       "array([0.52038146, 0.35541449, 0.60388763, ..., 0.62741719, 0.57579467,\n",
       "       0.39116335])"
      ]
     },
     "execution_count": 223,
     "metadata": {},
     "output_type": "execute_result"
    }
   ],
   "source": [
    "pred_proba "
   ]
  },
  {
   "cell_type": "code",
   "execution_count": 224,
   "metadata": {},
   "outputs": [
    {
     "data": {
      "text/plain": [
       "(0.18129779796403822, 0.6550181634413215)"
      ]
     },
     "execution_count": 224,
     "metadata": {},
     "output_type": "execute_result"
    }
   ],
   "source": [
    "min(pred_proba), max(pred_proba)"
   ]
  },
  {
   "cell_type": "code",
   "execution_count": 225,
   "metadata": {},
   "outputs": [
    {
     "name": "stdout",
     "output_type": "stream",
     "text": [
      "0.0959429992936335\n",
      "0.6279886306673219\n"
     ]
    }
   ],
   "source": [
    "pg_rate = adult['black'].value_counts(normalize=True)[1]\n",
    "print(pg_rate)\n",
    "pg_rate_thresh = np.percentile(pred_proba, 100 * (1 - pg_rate))\n",
    "print(pg_rate_thresh)"
   ]
  },
  {
   "cell_type": "code",
   "execution_count": 230,
   "metadata": {},
   "outputs": [
    {
     "data": {
      "text/plain": [
       "32561"
      ]
     },
     "execution_count": 230,
     "metadata": {},
     "output_type": "execute_result"
    }
   ],
   "source": [
    "len(pred_proba)"
   ]
  },
  {
   "cell_type": "code",
   "execution_count": 236,
   "metadata": {},
   "outputs": [
    {
     "data": {
      "text/plain": [
       "0.6279886306673219"
      ]
     },
     "execution_count": 236,
     "metadata": {},
     "output_type": "execute_result"
    }
   ],
   "source": [
    "np.percentile(pred_proba, 90)"
   ]
  },
  {
   "cell_type": "code",
   "execution_count": 248,
   "metadata": {},
   "outputs": [
    {
     "data": {
      "text/plain": [
       "3514"
      ]
     },
     "execution_count": 248,
     "metadata": {},
     "output_type": "execute_result"
    }
   ],
   "source": [
    "(pred_proba >= np.percentile(pred_proba, 90)).sum()"
   ]
  },
  {
   "cell_type": "code",
   "execution_count": 246,
   "metadata": {},
   "outputs": [
    {
     "data": {
      "text/plain": [
       "2623"
      ]
     },
     "execution_count": 246,
     "metadata": {},
     "output_type": "execute_result"
    }
   ],
   "source": [
    "(pred_proba >= pg_rate_thresh).sum()"
   ]
  },
  {
   "cell_type": "code",
   "execution_count": 228,
   "metadata": {},
   "outputs": [],
   "source": [
    "adult['black_proxy'] = (pred_proba > pg_rate_thresh).astype(int)"
   ]
  },
  {
   "cell_type": "code",
   "execution_count": 229,
   "metadata": {},
   "outputs": [
    {
     "data": {
      "text/html": [
       "<div>\n",
       "<style scoped>\n",
       "    .dataframe tbody tr th:only-of-type {\n",
       "        vertical-align: middle;\n",
       "    }\n",
       "\n",
       "    .dataframe tbody tr th {\n",
       "        vertical-align: top;\n",
       "    }\n",
       "\n",
       "    .dataframe thead th {\n",
       "        text-align: right;\n",
       "    }\n",
       "</style>\n",
       "<table border=\"1\" class=\"dataframe\">\n",
       "  <thead>\n",
       "    <tr style=\"text-align: right;\">\n",
       "      <th>black_proxy</th>\n",
       "      <th>0</th>\n",
       "      <th>1</th>\n",
       "    </tr>\n",
       "    <tr>\n",
       "      <th>black</th>\n",
       "      <th></th>\n",
       "      <th></th>\n",
       "    </tr>\n",
       "  </thead>\n",
       "  <tbody>\n",
       "    <tr>\n",
       "      <th>0</th>\n",
       "      <td>27274</td>\n",
       "      <td>2163</td>\n",
       "    </tr>\n",
       "    <tr>\n",
       "      <th>1</th>\n",
       "      <td>2664</td>\n",
       "      <td>460</td>\n",
       "    </tr>\n",
       "  </tbody>\n",
       "</table>\n",
       "</div>"
      ],
      "text/plain": [
       "black_proxy      0     1\n",
       "black                   \n",
       "0            27274  2163\n",
       "1             2664   460"
      ]
     },
     "execution_count": 229,
     "metadata": {},
     "output_type": "execute_result"
    }
   ],
   "source": [
    "crosstab_accuracy = pd.crosstab(adult['black'],adult['black_proxy'])\n",
    "crosstab_accuracy"
   ]
  },
  {
   "cell_type": "code",
   "execution_count": 159,
   "metadata": {},
   "outputs": [],
   "source": [
    "pred = pd.read_json('./data/artefacts/proxy_model_black_income_ipums_standard/prediction.json')"
   ]
  },
  {
   "cell_type": "code",
   "execution_count": 160,
   "metadata": {},
   "outputs": [
    {
     "data": {
      "text/plain": [
       "(32561, 32561)"
      ]
     },
     "execution_count": 160,
     "metadata": {},
     "output_type": "execute_result"
    }
   ],
   "source": [
    "len(pred), len(adult)"
   ]
  },
  {
   "cell_type": "code",
   "execution_count": 198,
   "metadata": {},
   "outputs": [
    {
     "data": {
      "text/html": [
       "<div>\n",
       "<style scoped>\n",
       "    .dataframe tbody tr th:only-of-type {\n",
       "        vertical-align: middle;\n",
       "    }\n",
       "\n",
       "    .dataframe tbody tr th {\n",
       "        vertical-align: top;\n",
       "    }\n",
       "\n",
       "    .dataframe thead th {\n",
       "        text-align: right;\n",
       "    }\n",
       "</style>\n",
       "<table border=\"1\" class=\"dataframe\">\n",
       "  <thead>\n",
       "    <tr style=\"text-align: right;\">\n",
       "      <th>prediction</th>\n",
       "      <th>0</th>\n",
       "      <th>1</th>\n",
       "    </tr>\n",
       "    <tr>\n",
       "      <th>black</th>\n",
       "      <th></th>\n",
       "      <th></th>\n",
       "    </tr>\n",
       "  </thead>\n",
       "  <tbody>\n",
       "    <tr>\n",
       "      <th>0</th>\n",
       "      <td>27274</td>\n",
       "      <td>2163</td>\n",
       "    </tr>\n",
       "    <tr>\n",
       "      <th>1</th>\n",
       "      <td>2664</td>\n",
       "      <td>460</td>\n",
       "    </tr>\n",
       "  </tbody>\n",
       "</table>\n",
       "</div>"
      ],
      "text/plain": [
       "prediction      0     1\n",
       "black                  \n",
       "0           27274  2163\n",
       "1            2664   460"
      ]
     },
     "execution_count": 198,
     "metadata": {},
     "output_type": "execute_result"
    }
   ],
   "source": [
    "crosstab_accuracy = pd.crosstab(adult['black'],pred['prediction'])\n",
    "crosstab_accuracy"
   ]
  },
  {
   "cell_type": "code",
   "execution_count": 146,
   "metadata": {},
   "outputs": [],
   "source": [
    "from sklearn.metrics import accuracy_score, jaccard_score, roc_auc_score, roc_curve"
   ]
  },
  {
   "cell_type": "code",
   "execution_count": 147,
   "metadata": {},
   "outputs": [
    {
     "data": {
      "text/plain": [
       "0.8517551672245939"
      ]
     },
     "execution_count": 147,
     "metadata": {},
     "output_type": "execute_result"
    }
   ],
   "source": [
    "accuracy_score(adult['black'], adult['black_proxy'])"
   ]
  },
  {
   "cell_type": "code",
   "execution_count": 168,
   "metadata": {},
   "outputs": [
    {
     "data": {
      "text/plain": [
       "0.63820283074203"
      ]
     },
     "execution_count": 168,
     "metadata": {},
     "output_type": "execute_result"
    }
   ],
   "source": [
    "roc_auc_score(adult['black'], pred_proba)"
   ]
  },
  {
   "cell_type": "code",
   "execution_count": 149,
   "metadata": {},
   "outputs": [
    {
     "data": {
      "text/plain": [
       "array([0.52038146, 0.35541449, 0.60388763, ..., 0.62741719, 0.57579467,\n",
       "       0.39116335])"
      ]
     },
     "execution_count": 149,
     "metadata": {},
     "output_type": "execute_result"
    }
   ],
   "source": [
    "pred_proba"
   ]
  },
  {
   "cell_type": "code",
   "execution_count": 150,
   "metadata": {},
   "outputs": [
    {
     "data": {
      "text/plain": [
       "array([[0.47961854, 0.52038146],\n",
       "       [0.64458551, 0.35541449],\n",
       "       [0.39611237, 0.60388763],\n",
       "       ...,\n",
       "       [0.37258281, 0.62741719],\n",
       "       [0.42420533, 0.57579467],\n",
       "       [0.60883665, 0.39116335]])"
      ]
     },
     "execution_count": 150,
     "metadata": {},
     "output_type": "execute_result"
    }
   ],
   "source": [
    "model.predict_proba(X)"
   ]
  },
  {
   "cell_type": "code",
   "execution_count": null,
   "metadata": {},
   "outputs": [],
   "source": []
  },
  {
   "cell_type": "code",
   "execution_count": null,
   "metadata": {},
   "outputs": [],
   "source": []
  }
 ],
 "metadata": {
  "kernelspec": {
   "display_name": "Python 3 (ipykernel)",
   "language": "python",
   "name": "python3"
  },
  "language_info": {
   "codemirror_mode": {
    "name": "ipython",
    "version": 3
   },
   "file_extension": ".py",
   "mimetype": "text/x-python",
   "name": "python",
   "nbconvert_exporter": "python",
   "pygments_lexer": "ipython3",
   "version": "3.8.13"
  }
 },
 "nbformat": 4,
 "nbformat_minor": 1
}
