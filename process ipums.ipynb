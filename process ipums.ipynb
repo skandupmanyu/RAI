{
 "cells": [
  {
   "cell_type": "code",
   "execution_count": 1,
   "metadata": {},
   "outputs": [],
   "source": [
    "import time\n",
    "import warnings\n",
    "warnings.filterwarnings(\"ignore\")\n",
    "import pandas as pd\n",
    "import numpy as np\n",
    "import matplotlib.pyplot as plt\n",
    "from sklearn import preprocessing\n",
    "from sklearn.model_selection import GridSearchCV\n",
    "from sklearn.ensemble import RandomForestClassifier\n",
    "\n",
    "from sklearn.metrics import log_loss\n",
    "from sklearn.tree import DecisionTreeClassifier\n",
    "from sklearn.preprocessing import LabelEncoder\n",
    "from sklearn import datasets, metrics, model_selection, svm\n",
    "\n",
    "\n",
    "# from notebooks/ directory\n",
    "import sys, os\n",
    "\n",
    "# ADDITIONS:\n",
    "from src.RAI import DataBiasChecker, ModelBiasRanker, ModelBiasHandler\n"
   ]
  },
  {
   "cell_type": "code",
   "execution_count": 311,
   "metadata": {},
   "outputs": [
    {
     "name": "stdout",
     "output_type": "stream",
     "text": [
      "CPU times: user 3min 17s, sys: 48.1 s, total: 4min 5s\n",
      "Wall time: 4min 14s\n"
     ]
    }
   ],
   "source": [
    "%%time\n",
    "model_input_path = './data/raw/usa_00004.csv.gz'\n",
    "ipums_select = pd.read_csv(model_input_path, compression='gzip', header=0, sep=',', quotechar='\"', error_bad_lines=False,\n",
    "                       usecols = ['SEX','EDUC','MARST','AGE',\n",
    "                                  'YEAR','MET2013',\n",
    "                                 'RACE','INCTOT','HISPAN'])\n"
   ]
  },
  {
   "cell_type": "code",
   "execution_count": 312,
   "metadata": {
    "scrolled": true
   },
   "outputs": [
    {
     "data": {
      "text/plain": [
       "(2020, 1850)"
      ]
     },
     "execution_count": 312,
     "metadata": {},
     "output_type": "execute_result"
    }
   ],
   "source": [
    "ipums_select.YEAR.max(), ipums_select.YEAR.min()"
   ]
  },
  {
   "cell_type": "code",
   "execution_count": 305,
   "metadata": {},
   "outputs": [],
   "source": [
    "ipums_select = ipums_select[ipums_select.YEAR == 2019]\n",
    "ipums_select = ipums_select.drop(['YEAR'], axis = 1)"
   ]
  },
  {
   "cell_type": "code",
   "execution_count": 306,
   "metadata": {},
   "outputs": [],
   "source": [
    "ipums_select['MARST'] = (ipums_select['MARST'].isin([1,2])).astype('int')\n",
    "filt = ipums_select['MARST'] == 1\n",
    "ipums_select.loc[filt, 'MARST'] = 'married'\n",
    "ipums_select.loc[~filt, 'MARST'] = 'not_married'"
   ]
  },
  {
   "cell_type": "code",
   "execution_count": 307,
   "metadata": {},
   "outputs": [],
   "source": [
    "ipums_select['EDUC'] = (ipums_select['EDUC'].isin([10,11])).astype('int')\n",
    "filt = ipums_select['EDUC'] == 1\n",
    "ipums_select.loc[filt, 'EDUC'] = 'college'\n",
    "ipums_select.loc[~filt, 'EDUC'] = 'no_college'"
   ]
  },
  {
   "cell_type": "code",
   "execution_count": 308,
   "metadata": {},
   "outputs": [],
   "source": [
    "ipums_select['SEX'] = (ipums_select['SEX'].isin([1])).astype('int')\n",
    "filt = ipums_select['SEX'] == 1\n",
    "ipums_select.loc[filt, 'SEX'] = 'Male'\n",
    "ipums_select.loc[~filt, 'SEX'] = 'Female'"
   ]
  },
  {
   "cell_type": "code",
   "execution_count": 309,
   "metadata": {},
   "outputs": [
    {
     "data": {
      "text/html": [
       "<div>\n",
       "<style scoped>\n",
       "    .dataframe tbody tr th:only-of-type {\n",
       "        vertical-align: middle;\n",
       "    }\n",
       "\n",
       "    .dataframe tbody tr th {\n",
       "        vertical-align: top;\n",
       "    }\n",
       "\n",
       "    .dataframe thead th {\n",
       "        text-align: right;\n",
       "    }\n",
       "</style>\n",
       "<table border=\"1\" class=\"dataframe\">\n",
       "  <thead>\n",
       "    <tr style=\"text-align: right;\">\n",
       "      <th></th>\n",
       "      <th>MET2013</th>\n",
       "      <th>SEX</th>\n",
       "      <th>AGE</th>\n",
       "      <th>MARST</th>\n",
       "      <th>RACE</th>\n",
       "      <th>HISPAN</th>\n",
       "      <th>EDUC</th>\n",
       "      <th>INCTOT</th>\n",
       "    </tr>\n",
       "  </thead>\n",
       "  <tbody>\n",
       "    <tr>\n",
       "      <th>12708071</th>\n",
       "      <td>0</td>\n",
       "      <td>Male</td>\n",
       "      <td>39</td>\n",
       "      <td>not_married</td>\n",
       "      <td>2</td>\n",
       "      <td>0</td>\n",
       "      <td>no_college</td>\n",
       "      <td>9000</td>\n",
       "    </tr>\n",
       "    <tr>\n",
       "      <th>12708072</th>\n",
       "      <td>0</td>\n",
       "      <td>Female</td>\n",
       "      <td>21</td>\n",
       "      <td>not_married</td>\n",
       "      <td>1</td>\n",
       "      <td>0</td>\n",
       "      <td>no_college</td>\n",
       "      <td>150</td>\n",
       "    </tr>\n",
       "    <tr>\n",
       "      <th>12708073</th>\n",
       "      <td>11500</td>\n",
       "      <td>Male</td>\n",
       "      <td>19</td>\n",
       "      <td>not_married</td>\n",
       "      <td>2</td>\n",
       "      <td>0</td>\n",
       "      <td>no_college</td>\n",
       "      <td>1400</td>\n",
       "    </tr>\n",
       "    <tr>\n",
       "      <th>12708074</th>\n",
       "      <td>11500</td>\n",
       "      <td>Male</td>\n",
       "      <td>77</td>\n",
       "      <td>not_married</td>\n",
       "      <td>1</td>\n",
       "      <td>0</td>\n",
       "      <td>no_college</td>\n",
       "      <td>22700</td>\n",
       "    </tr>\n",
       "    <tr>\n",
       "      <th>12708075</th>\n",
       "      <td>33660</td>\n",
       "      <td>Male</td>\n",
       "      <td>41</td>\n",
       "      <td>not_married</td>\n",
       "      <td>2</td>\n",
       "      <td>0</td>\n",
       "      <td>no_college</td>\n",
       "      <td>0</td>\n",
       "    </tr>\n",
       "    <tr>\n",
       "      <th>...</th>\n",
       "      <td>...</td>\n",
       "      <td>...</td>\n",
       "      <td>...</td>\n",
       "      <td>...</td>\n",
       "      <td>...</td>\n",
       "      <td>...</td>\n",
       "      <td>...</td>\n",
       "      <td>...</td>\n",
       "    </tr>\n",
       "    <tr>\n",
       "      <th>15947619</th>\n",
       "      <td>0</td>\n",
       "      <td>Female</td>\n",
       "      <td>63</td>\n",
       "      <td>not_married</td>\n",
       "      <td>1</td>\n",
       "      <td>0</td>\n",
       "      <td>no_college</td>\n",
       "      <td>117000</td>\n",
       "    </tr>\n",
       "    <tr>\n",
       "      <th>15947620</th>\n",
       "      <td>0</td>\n",
       "      <td>Male</td>\n",
       "      <td>45</td>\n",
       "      <td>not_married</td>\n",
       "      <td>1</td>\n",
       "      <td>0</td>\n",
       "      <td>no_college</td>\n",
       "      <td>14000</td>\n",
       "    </tr>\n",
       "    <tr>\n",
       "      <th>15947621</th>\n",
       "      <td>0</td>\n",
       "      <td>Female</td>\n",
       "      <td>85</td>\n",
       "      <td>not_married</td>\n",
       "      <td>1</td>\n",
       "      <td>0</td>\n",
       "      <td>no_college</td>\n",
       "      <td>18500</td>\n",
       "    </tr>\n",
       "    <tr>\n",
       "      <th>15947622</th>\n",
       "      <td>0</td>\n",
       "      <td>Female</td>\n",
       "      <td>67</td>\n",
       "      <td>married</td>\n",
       "      <td>1</td>\n",
       "      <td>0</td>\n",
       "      <td>college</td>\n",
       "      <td>49900</td>\n",
       "    </tr>\n",
       "    <tr>\n",
       "      <th>15947623</th>\n",
       "      <td>0</td>\n",
       "      <td>Male</td>\n",
       "      <td>67</td>\n",
       "      <td>married</td>\n",
       "      <td>1</td>\n",
       "      <td>0</td>\n",
       "      <td>no_college</td>\n",
       "      <td>8900</td>\n",
       "    </tr>\n",
       "  </tbody>\n",
       "</table>\n",
       "<p>3239553 rows × 8 columns</p>\n",
       "</div>"
      ],
      "text/plain": [
       "          MET2013     SEX  AGE        MARST  RACE  HISPAN        EDUC  INCTOT\n",
       "12708071        0    Male   39  not_married     2       0  no_college    9000\n",
       "12708072        0  Female   21  not_married     1       0  no_college     150\n",
       "12708073    11500    Male   19  not_married     2       0  no_college    1400\n",
       "12708074    11500    Male   77  not_married     1       0  no_college   22700\n",
       "12708075    33660    Male   41  not_married     2       0  no_college       0\n",
       "...           ...     ...  ...          ...   ...     ...         ...     ...\n",
       "15947619        0  Female   63  not_married     1       0  no_college  117000\n",
       "15947620        0    Male   45  not_married     1       0  no_college   14000\n",
       "15947621        0  Female   85  not_married     1       0  no_college   18500\n",
       "15947622        0  Female   67      married     1       0     college   49900\n",
       "15947623        0    Male   67      married     1       0  no_college    8900\n",
       "\n",
       "[3239553 rows x 8 columns]"
      ]
     },
     "execution_count": 309,
     "metadata": {},
     "output_type": "execute_result"
    }
   ],
   "source": [
    "ipums_select"
   ]
  },
  {
   "cell_type": "code",
   "execution_count": 310,
   "metadata": {},
   "outputs": [],
   "source": [
    "ipums_select.to_csv('./data/raw/ipums_processed_2019.csv', index=False)"
   ]
  },
  {
   "cell_type": "code",
   "execution_count": null,
   "metadata": {},
   "outputs": [],
   "source": []
  },
  {
   "cell_type": "code",
   "execution_count": null,
   "metadata": {},
   "outputs": [],
   "source": []
  }
 ],
 "metadata": {
  "kernelspec": {
   "display_name": "Python 3 (ipykernel)",
   "language": "python",
   "name": "python3"
  },
  "language_info": {
   "codemirror_mode": {
    "name": "ipython",
    "version": 3
   },
   "file_extension": ".py",
   "mimetype": "text/x-python",
   "name": "python",
   "nbconvert_exporter": "python",
   "pygments_lexer": "ipython3",
   "version": "3.8.13"
  }
 },
 "nbformat": 4,
 "nbformat_minor": 1
}
