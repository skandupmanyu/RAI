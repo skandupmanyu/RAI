{
 "cells": [
  {
   "cell_type": "markdown",
   "metadata": {},
   "source": [
    "# Bias in income prediction - Responsible AI analysis sandbox"
   ]
  },
  {
   "cell_type": "markdown",
   "metadata": {},
   "source": [
    "### By Gleb Drobkov - BCG Responible AI"
   ]
  },
  {
   "cell_type": "markdown",
   "metadata": {},
   "source": [
    "## Introduction\n",
    "\n",
    "#### This notebook analyzes income and demographic data to understand drivers of prospertiy and income growth.\n",
    "\n",
    "Data description details can be found at the link below: <br>\n",
    "https://docs.google.com/document/d/1RVYKlNVE5pepIYnt645VSrWf_cPOJNBVhoWNKXRbKdk/edit?usp=sharing\n",
    "\n",
    "Analysis sections of this notebook: <br>\n",
    "0. Import packages, all standard + BCG RAI tool\n",
    "1. Read data and apply filters / clean-ups\n",
    "2. Build historical features\n",
    "3. Sample data and prepare features\n",
    "4. Measure historic and model bias and accuracy"
   ]
  },
  {
   "cell_type": "markdown",
   "metadata": {},
   "source": [
    "# 0. Imports"
   ]
  },
  {
   "cell_type": "code",
   "execution_count": 1,
   "metadata": {},
   "outputs": [],
   "source": [
    "# Import analysis libraries\n",
    "import time\n",
    "import warnings\n",
    "warnings.filterwarnings(\"ignore\")\n",
    "import pandas as pd\n",
    "import numpy as np\n",
    "import scipy.stats.mstats as mstats\n",
    "\n",
    "import matplotlib.pyplot as plt\n",
    "from sklearn import preprocessing\n",
    "from sklearn.model_selection import GridSearchCV\n",
    "from sklearn.ensemble import RandomForestRegressor, RandomForestClassifier\n",
    "from sklearn.linear_model import LogisticRegression\n",
    "from sklearn import ensemble\n",
    "\n",
    "from sklearn.metrics import log_loss\n",
    "from sklearn.tree import DecisionTreeClassifier\n",
    "from sklearn.preprocessing import LabelEncoder\n",
    "from sklearn import datasets, metrics, model_selection, svm\n",
    "\n",
    "from seaborn import load_dataset\n",
    "from sklearn.model_selection import train_test_split\n",
    "from lightgbm import LGBMClassifier\n",
    "import shap\n",
    "\n",
    "# from notebooks/ directory\n",
    "import sys, os\n",
    "\n",
    "# Python settings\n",
    "pd.set_option('display.max_columns', None)"
   ]
  },
  {
   "cell_type": "markdown",
   "metadata": {},
   "source": [
    "# 1. Read data and apply filters / clean-ups"
   ]
  },
  {
   "cell_type": "code",
   "execution_count": 2,
   "metadata": {},
   "outputs": [],
   "source": [
    "def read_in_income(gz_path):\n",
    "    ## Download input file from BCG Egnyte - RAI folder\n",
    "    ## https://bcg01.egnyte.com/navigate/folder/881ba5c2-8f6e-4eb6-b940-848faa78dee9\n",
    "    ipums = pd.read_csv(gz_path, compression='gzip', header=0, sep=',', quotechar='\"', error_bad_lines=False,\n",
    "                       usecols = ['INCTOT','SEX','AGE','YEAR','MET2013','RACE','HISPAN','EDUC','MARST',\n",
    "                                 'SERIAL', 'CBSERIAL', 'HHTYPE'])\n",
    "\n",
    "    print(ipums.shape)\n",
    "    # The data contains information about individuals' income, education and demographic background\n",
    "    return(ipums)"
   ]
  },
  {
   "cell_type": "markdown",
   "metadata": {},
   "source": [
    "##### Read in MSA names"
   ]
  },
  {
   "cell_type": "code",
   "execution_count": 3,
   "metadata": {},
   "outputs": [],
   "source": [
    "def read_in_msa_info():\n",
    "    ipums_metro = pd.read_csv('./data/ipums_metro_code_to_name.csv')\n",
    "    \n",
    "    # 295 unique metro areas\n",
    "#     print(len(ipums_metro.MET2013.unique()))\n",
    "    \n",
    "    return ipums_metro"
   ]
  },
  {
   "cell_type": "markdown",
   "metadata": {},
   "source": [
    "# 2. Create historical features"
   ]
  },
  {
   "cell_type": "markdown",
   "metadata": {},
   "source": [
    "##### Filter down to working age (18-80) records for which we have income"
   ]
  },
  {
   "cell_type": "code",
   "execution_count": 4,
   "metadata": {},
   "outputs": [],
   "source": [
    "def clean_age_income(model_input):\n",
    "    # Focus only on records 2013-2020\n",
    "    model_input = model_input[model_input['YEAR'] >= 2013]    \n",
    "    # Remove unemployed people\n",
    "    model_input = model_input[model_input['INCTOT'] != 9999999]\n",
    "    # Remove volunteer workers with no income\n",
    "    model_input = model_input[model_input['INCTOT'] > 0]\n",
    "    # Remove non-working age people - chose to inclue 80+ age people\n",
    "    model_input = model_input[model_input['AGE'] > 18]\n",
    "#     model_input = model_input[model_input['AGE'] < 80]\n",
    "    return(model_input)"
   ]
  },
  {
   "cell_type": "markdown",
   "metadata": {},
   "source": [
    "#### Some inequality is merited (for ex. by age / tenue) -- we create segments to control for this disparity"
   ]
  },
  {
   "cell_type": "code",
   "execution_count": 5,
   "metadata": {},
   "outputs": [],
   "source": [
    "def create_age_groupings(model_input):\n",
    "    #### Group based on age\n",
    "    conditions = [\n",
    "        (model_input.AGE >= 18) & (model_input.AGE < 26), # 1\n",
    "        (model_input.AGE >= 26) & (model_input.AGE < 36), # 2\n",
    "        (model_input.AGE >= 36) & (model_input.AGE < 46), # 3\n",
    "        (model_input.AGE >= 46) & (model_input.AGE < 56), # 4\n",
    "        (model_input.AGE >= 56) & (model_input.AGE < 66), # 5\n",
    "        (model_input.AGE >= 66) # 6\n",
    "    ]\n",
    "\n",
    "    choices = ['1 - 18-25', '2 - 26-35', '3 - 36-45', \n",
    "               '4 - 46-55', '5 - 56-65', '6 - 65+']\n",
    "    model_input['AGE_Grp'] = np.select(conditions, choices, default='Other Age')\n",
    "        \n",
    "    return(model_input)"
   ]
  },
  {
   "cell_type": "markdown",
   "metadata": {},
   "source": [
    "#### Some inequality is driven by historical biases (for ex. by age / tenue) -- we create segments to interrogate this disparity"
   ]
  },
  {
   "cell_type": "code",
   "execution_count": 6,
   "metadata": {},
   "outputs": [],
   "source": [
    "def create_race_groupings(model_input):\n",
    "    #### Group based on US Census race definitions\n",
    "\n",
    "    # Group 1: Asian\n",
    "    # Group 2: White, not Hispanic\n",
    "    # Group 3: Hispanic (any race)\n",
    "    # Group 4: Black\n",
    "\n",
    "    # by group\n",
    "    conditions = [\n",
    "        (model_input.RACE == 4) | (model_input.RACE == 5) | (model_input.RACE == 6),\n",
    "        (model_input.RACE == 1) & (model_input.HISPAN == 0),\n",
    "        (model_input.HISPAN == 1),\n",
    "        (model_input.RACE == 2)\n",
    "    ]\n",
    "\n",
    "    choices = ['Asian', 'White not Hispanic', 'Hispanic any race', 'Black']\n",
    "    model_input['RACE_Grp'] = np.select(conditions, choices, default='Other race')\n",
    "    \n",
    "    # adding indicators for bias analysis later - binary\n",
    "    model_input['non_white'] = 1 - np.where(model_input['RACE_Grp'] == 'White not Hispanic',1,0)\n",
    "    model_input['hispanic'] = np.where(model_input['RACE_Grp'] == 'Hispanic any race',1,0)\n",
    "    model_input['black'] = np.where(model_input['RACE_Grp'] == 'Black',1,0)\n",
    "    \n",
    "    return(model_input)"
   ]
  },
  {
   "cell_type": "code",
   "execution_count": 7,
   "metadata": {},
   "outputs": [],
   "source": [
    "def generate_median_income_plot(model_input):\n",
    "    \n",
    "    income_df = model_input[['RACE_Grp','YEAR', 'INCTOT']]\n",
    "    \n",
    "    # Calculate mean income by among protected groups by year\n",
    "    group_pg_year = income_df.groupby(['RACE_Grp','YEAR']).describe().stack(level=0)[['50%','mean']]\n",
    "    group_pg_year = group_pg_year.reset_index()\n",
    "\n",
    "    ### The data from IPUMS differs vs. the Census chart above presumably due to household vs. individual level\n",
    "    income_plot = group_pg_year[['RACE_Grp', 'YEAR', 'mean','50%']]\n",
    "    income_plot = income_plot.pivot(index='YEAR', columns='RACE_Grp', values='mean')\n",
    "    income_plot.plot( figsize=(12, 6))"
   ]
  },
  {
   "cell_type": "markdown",
   "metadata": {},
   "source": [
    "#### Gini Coefficient\n"
   ]
  },
  {
   "cell_type": "code",
   "execution_count": 8,
   "metadata": {},
   "outputs": [],
   "source": [
    "def gini_calc(v):\n",
    "    \n",
    "    # Credit where due to user user12446118\n",
    "    # Link: https://stackoverflow.com/questions/31416664/gini-coefficient-calculation-using-numpy\n",
    "    \n",
    "    bins = np.linspace(0., 100., 11)\n",
    "    total = float(np.sum(v))\n",
    "    yvals = []\n",
    "    for b in bins:\n",
    "        bin_vals = v[v <= np.percentile(v, b)]\n",
    "        bin_fraction = (np.sum(bin_vals) / total) * 100.0\n",
    "        yvals.append(bin_fraction)\n",
    "    # perfect equality area\n",
    "    pe_area = np.trapz(bins, x=bins)\n",
    "    # lorenz area\n",
    "    lorenz_area = np.trapz(yvals, x=bins)\n",
    "    gini_val = (pe_area - lorenz_area) / float(pe_area)\n",
    "    return bins, yvals, gini_val"
   ]
  },
  {
   "cell_type": "code",
   "execution_count": 9,
   "metadata": {},
   "outputs": [],
   "source": [
    "# Define 1st inequality metric - Gini coefficient\n",
    "def ineq_metric_extractor(model_input, group_cols, target, train_test_split_year):\n",
    "        # Subset historical training period\n",
    "        model_input_historical = model_input[model_input['YEAR'] < train_test_split_year]\n",
    "\n",
    "        # Define gini runner\n",
    "        def gini_coef(income_array):\n",
    "            bins, result, gini_val = gini_calc(income_array)\n",
    "            return gini_val\n",
    "        \n",
    "        def percentile(n):\n",
    "            def percentile_(x):\n",
    "                return np.percentile(x, n)\n",
    "            percentile_.__name__ = 'percentile_%s' % n\n",
    "            return percentile_\n",
    "        \n",
    "        # Calculate percentiles \n",
    "        out_stats = (model_input_historical.groupby(group_cols)[target]\n",
    "               .agg([np.mean, percentile(25),percentile(50), percentile(75), \n",
    "                     percentile(90), percentile(95), percentile(99), gini_coef]))\n",
    "        \n",
    "        out_stats = out_stats.reset_index()\n",
    "        out_stats.columns = ['_'.join(col).strip() for col in out_stats.columns.values]\n",
    "        \n",
    "        return(out_stats)"
   ]
  },
  {
   "cell_type": "markdown",
   "metadata": {},
   "source": [
    "##### Create MSA-level features"
   ]
  },
  {
   "cell_type": "code",
   "execution_count": 10,
   "metadata": {},
   "outputs": [],
   "source": [
    "def msa_extractor(model_input,group_cols, median_targets, mean_targets, train_test_split_year):\n",
    "    # Subset historical training period\n",
    "    model_input_historical = model_input[model_input['YEAR'] < train_test_split_year]\n",
    "\n",
    "    median_df = pd.DataFrame(model_input_historical.groupby(group_cols)[median_targets].median())\n",
    "    median_df = median_df.reset_index()\n",
    "    median_df.columns = ['MET2013','msa_INCTOT','msa_AGE']\n",
    "\n",
    "    mean_df = pd.DataFrame(model_input_historical.groupby(group_cols)[mean_targets].mean())\n",
    "    mean_df = mean_df.reset_index()\n",
    "    mean_df.columns = ['MET2013','msa_hispanic_density']\n",
    "    \n",
    "    summary_df = median_df.merge(mean_df, left_on = 'MET2013', right_on = 'MET2013', how = 'left')\n",
    "        \n",
    "    return(summary_df)"
   ]
  },
  {
   "cell_type": "code",
   "execution_count": 11,
   "metadata": {},
   "outputs": [],
   "source": [
    "def join_msa_stats(ipums_metro, model_input,out_stats, msa_summary_df):\n",
    "    # # Left join all metro area names\n",
    "    ipums_metro.columns = ['MET2013','MSA']\n",
    "\n",
    "    # create modeling data frame with individial income\n",
    "    income_df = model_input.merge(ipums_metro, left_on = 'MET2013', right_on = 'MET2013', how = 'left')\n",
    "\n",
    "    # Join MSA level stats prior to train/test period\n",
    "    income_df = income_df.merge(msa_summary_df, left_on = 'MET2013', right_on = 'MET2013', how = 'left')\n",
    "    income_df = income_df.merge(out_stats, left_on = 'MET2013', right_on = 'MET2013_', how = 'left')\n",
    "    \n",
    "    return(income_df)"
   ]
  },
  {
   "cell_type": "markdown",
   "metadata": {},
   "source": [
    "# 3. Sample data and prepare model"
   ]
  },
  {
   "cell_type": "markdown",
   "metadata": {},
   "source": [
    "#### Target (Y): \n",
    "- Y1 - Individual is in the 50th percentile income, or above\n",
    "- Y2 - Individual is in the 95th percentile income, or above"
   ]
  },
  {
   "cell_type": "markdown",
   "metadata": {},
   "source": [
    "#### Explanatory variables (X - at individual / YEAR level - prior four years): <br>\n",
    "- X1 - Age (Grouped)\n",
    "- X2 - Education\n",
    "- X3 - Marital Status\n",
    "- X4a - MSA - income\n",
    "- X4b - MSA - avg age\n",
    "- X4c - MSA - hispanic density\n",
    "- X4d - MSA - Gini Coeefficient\n",
    "\n",
    "#### We do not look at an individuals year-over-year income in this analysis - the model has no individual-level historical income data, only aggregated at the MSA (geographic) level. All variables available:"
   ]
  },
  {
   "cell_type": "markdown",
   "metadata": {},
   "source": [
    "### Clean up data - standardize education and marital status"
   ]
  },
  {
   "cell_type": "code",
   "execution_count": 12,
   "metadata": {},
   "outputs": [],
   "source": [
    "def ipums_model_prep(model_sample,num_vars,cat_vars, dep_bin):\n",
    "    \n",
    "    model_sample['EDUC'] = (model_sample['EDUC'].isin([10,11])).astype('int')\n",
    "    filt = model_sample['EDUC'] == 1\n",
    "    model_sample.loc[filt, 'EDUC'] = 'college'\n",
    "    model_sample.loc[~filt, 'EDUC'] = 'no_college'\n",
    "    \n",
    "    model_sample['MARST'] = (model_sample['MARST'].isin([1,2])).astype('int')\n",
    "    filt = model_sample['MARST'] == 1\n",
    "    model_sample.loc[filt, 'MARST'] = 'married'\n",
    "    model_sample.loc[~filt, 'MARST'] = 'not_married'\n",
    "    \n",
    "    # Option to scale all the inputs, decided to keep unscaled for interpretability\n",
    "#     model_data_norm = normalize_num(model_sample, num_vars)\n",
    "    model_data_cat = pd.get_dummies(model_sample[cat_vars])\n",
    "    model_data_num = model_sample[num_vars]\n",
    "    model_data = pd.concat([model_sample[[dep_bin]], model_data_cat, model_data_num], axis=1)\n",
    "    \n",
    "    return(model_data)"
   ]
  },
  {
   "cell_type": "code",
   "execution_count": 13,
   "metadata": {},
   "outputs": [],
   "source": [
    "def ipums_sample(income_df, pg_vars, sample_size, train_test_split_year):\n",
    "\n",
    "    # Sample and subset years for training\n",
    "    model_sample = income_df[income_df['YEAR'] < train_test_split_year]\n",
    "    model_sample = model_sample.sample(n=sample_size, random_state=42)\n",
    "\n",
    "    # Take PG vars for future bias measurement\n",
    "    pg_sample = model_sample[pg_vars]\n",
    "    pg_sample['SEX'] = np.where(pg_sample.SEX == 2, 1, 0)\n",
    "    \n",
    "    return(pg_sample, model_sample)"
   ]
  },
  {
   "cell_type": "markdown",
   "metadata": {},
   "source": [
    "##### Create a binary indicator - 95th percentile income"
   ]
  },
  {
   "cell_type": "code",
   "execution_count": 14,
   "metadata": {},
   "outputs": [],
   "source": [
    "def model_prepare(model_data, pg_sample, dep_var_binary, outcome_rate):\n",
    "    # Create a binary indicator - 95th percentile income\n",
    "    model_data_2 = model_data.copy()\n",
    "    model_data_2['high_income'] = np.where(model_data_2.INCTOT > np.percentile(model_data_2.INCTOT,100-outcome_rate),1,0)\n",
    "    \n",
    "    model_data_2 = model_data_2.drop(labels=dep_var, axis=1)\n",
    "\n",
    "    X = model_data_2.drop(labels=dep_var_binary, axis=1)\n",
    "\n",
    "    y = model_data_2[dep_var_binary]\n",
    "\n",
    "    # Split - pg_sample too for measurement\n",
    "    X_train, X_val, y_train, y_val,pg_train,pg_val = train_test_split(X,y,pg_sample,train_size=.8, random_state=42)\n",
    "    \n",
    "    return(X_train, X_val, y_train, y_val, y, pg_train,pg_val, model_data_2)"
   ]
  },
  {
   "cell_type": "markdown",
   "metadata": {},
   "source": [
    "##### Define models to run"
   ]
  },
  {
   "cell_type": "code",
   "execution_count": 15,
   "metadata": {},
   "outputs": [],
   "source": [
    "def model_build(X_train, X_val, y_train, y_val):\n",
    "    # RF model params\n",
    "    params = {\n",
    "        \"n_estimators\": 50,\n",
    "        \"max_depth\": 5,\n",
    "        \"random_state\": 777,\n",
    "        \"class_weight\": \"balanced\",\n",
    "    }\n",
    "\n",
    "    # Model 1: Logit\n",
    "    logit_full = LogisticRegression(class_weight = \"balanced\", random_state = 777)\n",
    "    logit_full.fit(X_train, y_train)\n",
    "\n",
    "    # Model 2: RF\n",
    "    rf_full = RandomForestClassifier(**params)\n",
    "    rf_full.fit(X_train, y_train)\n",
    "\n",
    "    # Model 3: LGBM\n",
    "    lg_full = LGBMClassifier(max_depth=3, n_estimators=1000, objective=\"binary\")\n",
    "    lg_full.fit(X_train,y_train, eval_set=(X_val,y_val), early_stopping_rounds=100, verbose=100) \n",
    "    \n",
    "    return(logit_full,rf_full,lg_full)"
   ]
  },
  {
   "cell_type": "markdown",
   "metadata": {},
   "source": [
    "# 4. Measure historic and model bias and accuracy"
   ]
  },
  {
   "cell_type": "markdown",
   "metadata": {},
   "source": [
    "##### Measure historical bias"
   ]
  },
  {
   "cell_type": "code",
   "execution_count": 16,
   "metadata": {},
   "outputs": [],
   "source": [
    "def historic_bias(y, pg_sample, pg_vars, dep_var_binary):\n",
    "    bias_msmt_input = pd.DataFrame([])\n",
    "\n",
    "    bias_msmt_input = pg_sample[pg_vars]\n",
    "    bias_msmt_input['high_income'] = y\n",
    "\n",
    "    pd.set_option('display.float_format', lambda x: '%.3f' % x)\n",
    "\n",
    "    hisp = bias_msmt_input[['hispanic', 'high_income']].groupby(['hispanic']).mean()\n",
    "    sex = bias_msmt_input[['SEX', 'high_income']].groupby(['SEX']).mean()\n",
    "    non_white = bias_msmt_input[['non_white', 'high_income']].groupby(['non_white']).mean()\n",
    "    black = bias_msmt_input[['black', 'high_income']].groupby(['black']).mean()\n",
    "    \n",
    "    # if we needed the average outcome rates combining across categories, we would use\n",
    "    # bias_msmt_input.groupby(['hispanic', 'SEX','non_white','black'])['high_income'].mean()\n",
    "    \n",
    "    # Instead we us binary - yes / no\n",
    "    hist_bias_stats = [sex['high_income'][0],sex['high_income'][1],\n",
    "                   non_white['high_income'][0],non_white['high_income'][1],\n",
    "                   black['high_income'][0],black['high_income'][1],\n",
    "                   hisp['high_income'][0],hisp['high_income'][1]]\n",
    "\n",
    "    return(bias_msmt_input, hist_bias_stats)"
   ]
  },
  {
   "cell_type": "markdown",
   "metadata": {},
   "source": [
    "##### Measure model bias - out of sample"
   ]
  },
  {
   "cell_type": "code",
   "execution_count": 17,
   "metadata": {
    "scrolled": true
   },
   "outputs": [],
   "source": [
    "def model_bias(X_val,y_val, pg_val, pg_vars, dep_var_binary, clf, outcome_rate):\n",
    "\n",
    "    bias_msmt_val = X_val.copy()\n",
    "    bias_msmt_val = pg_val[pg_vars]\n",
    "    bias_msmt_val['high_income'] = y_val\n",
    "    \n",
    "    # Convert ranked scores into threshold for cutoff - selection of those who will receive offer\n",
    "    outcome_rate_thresh = np.percentile(clf.predict_proba(X_val)[::,1], 100 - pd.to_numeric(outcome_rate))\n",
    "\n",
    "    bias_msmt_val['high_income_pred'] = np.where(clf.predict_proba(X_val)[::,1] > outcome_rate_thresh,1,0)\n",
    "\n",
    "\n",
    "    # Read mean outcome rates for 0 and 1 - Non-PG and PG\n",
    "    pred_black = bias_msmt_val[['black', 'high_income_pred']].groupby(['black']).mean()\n",
    "    pred_hisp = bias_msmt_val[['hispanic', 'high_income_pred']].groupby(['hispanic']).mean()\n",
    "    pred_female = bias_msmt_val[['SEX', 'high_income_pred']].groupby(['SEX']).mean()\n",
    "    pred_nonwhite = bias_msmt_val[['non_white', 'high_income_pred']].groupby(['non_white']).mean()\n",
    "    \n",
    "    pred_bias_stats = [pred_female['high_income_pred'][0], pred_female['high_income_pred'][1],\n",
    "                       pred_nonwhite['high_income_pred'][0], pred_nonwhite['high_income_pred'][1],\n",
    "                       pred_black['high_income_pred'][0], pred_black['high_income_pred'][1],\n",
    "                       pred_hisp['high_income_pred'][0], pred_hisp['high_income_pred'][1]]\n",
    "                       \n",
    "    \n",
    "    return(bias_msmt_val, pred_bias_stats)"
   ]
  },
  {
   "cell_type": "markdown",
   "metadata": {},
   "source": [
    "##### Measure model performance"
   ]
  },
  {
   "cell_type": "code",
   "execution_count": 18,
   "metadata": {},
   "outputs": [],
   "source": [
    "def model_scenario(X_val,y_val,dep_var_binary, outcome_rate, clf):\n",
    "    # Calculate AUC\n",
    "    y_pred_proba = clf.predict_proba(X_val)[::,1]\n",
    "    fpr, tpr, _ = metrics.roc_curve(y_val,  y_pred_proba)\n",
    "    auc = metrics.roc_auc_score(y_val, y_pred_proba)\n",
    "    # Calculate Jaccard Accuracy\n",
    "    acc = metrics.accuracy_score(y_val, clf.predict(X_val))\n",
    "\n",
    "    # Convert ranked scores into threshold for cutoff - selection of those who will receive offer\n",
    "    outcome_rate_thresh = np.percentile(clf.predict_proba(X_val)[::,1], 100 - pd.to_numeric(outcome_rate))\n",
    "\n",
    "    #### Update here\n",
    "    cm_percent = pd.crosstab(np.where(clf.predict_proba(X_val)[::,1] >= outcome_rate_thresh,1,0),y_val\n",
    "                            ).apply(lambda r: r/r.sum(), axis=1)\n",
    "\n",
    "    model_stats = [auc, acc,\n",
    "                   outcome_rate/100,\n",
    "                   cm_percent[1][1],\n",
    "                   cm_percent[1][1]/(outcome_rate/100)]\n",
    "\n",
    "    \n",
    "    return(model_stats)\n"
   ]
  },
  {
   "cell_type": "markdown",
   "metadata": {},
   "source": [
    "##### Append outputs into a dataset for all years run"
   ]
  },
  {
   "cell_type": "code",
   "execution_count": 19,
   "metadata": {},
   "outputs": [],
   "source": [
    "def append_stats(model_df,model_stats):\n",
    "    # clea model stats / year to DF\n",
    "    clean_stats = pd.DataFrame(model_stats)\n",
    "    # append to df for all years in run\n",
    "    model_df = pd.concat([model_df,clean_stats], axis=1)\n",
    "    return(model_df)"
   ]
  },
  {
   "attachments": {
    "Runner.png": {
     "image/png": "[encoded data removed]"
    }
   },
   "cell_type": "markdown",
   "metadata": {},
   "source": [
    "![Runner.png](attachment:Runner.png)"
   ]
  },
  {
   "cell_type": "markdown",
   "metadata": {},
   "source": [
    "# Runner - all functions"
   ]
  },
  {
   "cell_type": "markdown",
   "metadata": {},
   "source": [
    "##### Run once, load data, ~8 min on old (2021) macbook pro for ~3 GB file"
   ]
  },
  {
   "cell_type": "code",
   "execution_count": 20,
   "metadata": {},
   "outputs": [
    {
     "name": "stdout",
     "output_type": "stream",
     "text": [
      "(109658177, 12)\n"
     ]
    }
   ],
   "source": [
    "gz_path = './data/usa_00005.csv.gz'\n",
    "\n",
    "ipums_select = read_in_income(gz_path)"
   ]
  },
  {
   "cell_type": "markdown",
   "metadata": {},
   "source": [
    "##### Set all the parameters -- training / testing years will run through a loop, 2017-2020"
   ]
  },
  {
   "cell_type": "code",
   "execution_count": 21,
   "metadata": {},
   "outputs": [],
   "source": [
    "##### Set parameters for feature engineering\n",
    "# Set parameters\n",
    "train_test_split_year = 2016\n",
    "group_cols = ['MET2013']\n",
    "\n",
    "# for gini and ptiles fn\n",
    "target = ['INCTOT']\n",
    "\n",
    "# for mean and median fn\n",
    "median_targets = ['INCTOT', 'AGE']\n",
    "mean_targets = ['hispanic']\n",
    "\n",
    "##### Set parameters for classification model\n",
    "dep_var_binary = 'high_income'\n",
    "\n",
    "# Set all model target and input variables\n",
    "id_var = ['SERIAL']\n",
    "split_var = ['YEAR']\n",
    "dep_var = ['INCTOT']\n",
    "dep_bin = 'INCTOT'   \n",
    "\n",
    "# Define numeric and categorical variables\n",
    "pg_vars = ['non_white', 'hispanic', 'black', 'SEX']\n",
    "num_vars = ['msa_INCTOT', 'msa_AGE','msa_hispanic_density', 'INCTOT_gini_coef']\n",
    "cat_vars = ['AGE_Grp','EDUC','MARST', 'RACE_Grp']\n",
    "\n",
    "# to make the model super discrimantory, include\n",
    "# 'RACE_Grp'\n",
    "# 'msa_hispanic_density'\n",
    "\n",
    "sample_size = 100000\n",
    "\n",
    "# Assign a binary indicator to the highest X% of model scores - these are the proxy group\n",
    "outcome_rate = 5\n"
   ]
  },
  {
   "cell_type": "code",
   "execution_count": 22,
   "metadata": {},
   "outputs": [],
   "source": [
    "def run_all_ipums_fns(ipums_select,\n",
    "                     train_test_split_year,\n",
    "                    group_cols,\n",
    "                    target,\n",
    "                    median_targets,\n",
    "                    mean_targets,\n",
    "                    dep_var_binary,\n",
    "                    id_var,\n",
    "                    split_var,\n",
    "                    dep_var,\n",
    "                    dep_bin,\n",
    "                    pg_vars,\n",
    "                    num_vars,\n",
    "                    cat_vars,\n",
    "                    sample_size,\n",
    "                    outcome_rate):\n",
    "    \n",
    "    # Run data clean up functions\n",
    "    ipums_metro = read_in_msa_info()\n",
    "\n",
    "    model_input = clean_age_income(ipums_select)\n",
    "    model_input = create_age_groupings(model_input)\n",
    "    model_input = create_race_groupings(model_input)\n",
    "\n",
    "    # (Optional) Show results in same format as US Census\n",
    "    # generate_median_income_plot(model_input)\n",
    "\n",
    "    ##### Run feature engineering functons\n",
    "    out_stats = ineq_metric_extractor(model_input, group_cols, target, train_test_split_year)\n",
    "    msa_summary_df = msa_extractor(model_input,group_cols, median_targets, mean_targets, train_test_split_year)\n",
    "    income_df = join_msa_stats(ipums_metro, model_input,out_stats, msa_summary_df) \n",
    "    \n",
    "    ##### Run model prep functions\n",
    "    pg_sample, model_sample = ipums_sample(income_df, pg_vars, sample_size, train_test_split_year)\n",
    "    model_data = ipums_model_prep(model_sample,num_vars,cat_vars, dep_bin)\n",
    "\n",
    "    ##### Build models and measure bias / performance\n",
    "    X_train, X_val, y_train, y_val,y, pg_train,pg_val,model_data_binary = model_prepare(model_data, \n",
    "                                                                                pg_sample,\n",
    "                                                                                dep_var_binary,\n",
    "                                                                                outcome_rate)\n",
    "    logit_full,rf_full,lgbm_full = model_build(X_train, X_val, y_train, y_val)\n",
    "\n",
    "    ##### Output bias results + historical pg/non-pg rates\n",
    "    bias_msmt_input, hist_bias_stats = historic_bias(y, pg_sample, pg_vars, dep_var_binary)\n",
    "    bias_msmt_val, pred_bias_stats = model_bias(X_val,y_val, pg_val, pg_vars, dep_var_binary,lgbm_full,outcome_rate)\n",
    "\n",
    "    ##### Output model performance metrics \n",
    "    model_stats = model_scenario(X_val,y_val,dep_var_binary, outcome_rate,rf_full)\n",
    "    \n",
    "    run_mode = [train_test_split_year,\n",
    "            group_cols,\n",
    "            target,\n",
    "            median_targets,\n",
    "            mean_targets,\n",
    "            dep_var_binary,\n",
    "            id_var,\n",
    "            split_var,\n",
    "            dep_var,\n",
    "            dep_bin,\n",
    "            pg_vars,\n",
    "            num_vars,\n",
    "            cat_vars,\n",
    "            sample_size,\n",
    "            outcome_rate]\n",
    "\n",
    "    print(run_mode)\n",
    "    \n",
    "    return(run_mode,hist_bias_stats, pred_bias_stats, model_stats, income_df)"
   ]
  },
  {
   "cell_type": "markdown",
   "metadata": {},
   "source": [
    "# Run for all years 2017-2020"
   ]
  },
  {
   "cell_type": "code",
   "execution_count": 23,
   "metadata": {},
   "outputs": [],
   "source": [
    "train_test_split_years = [2017,2018,2019,2020]"
   ]
  },
  {
   "cell_type": "code",
   "execution_count": 24,
   "metadata": {},
   "outputs": [
    {
     "name": "stdout",
     "output_type": "stream",
     "text": [
      "Training until validation scores don't improve for 100 rounds\n",
      "[100]\tvalid_0's binary_logloss: 0.154051\n",
      "Early stopping, best iteration is:\n",
      "[94]\tvalid_0's binary_logloss: 0.153998\n",
      "[2017, ['MET2013'], ['INCTOT'], ['INCTOT', 'AGE'], ['hispanic'], 'high_income', ['SERIAL'], ['YEAR'], ['INCTOT'], 'INCTOT', ['non_white', 'hispanic', 'black', 'SEX'], ['msa_INCTOT', 'msa_AGE', 'msa_hispanic_density', 'INCTOT_gini_coef'], ['AGE_Grp', 'EDUC', 'MARST', 'RACE_Grp'], 100000, 5]\n",
      "Training until validation scores don't improve for 100 rounds\n",
      "[100]\tvalid_0's binary_logloss: 0.158051\n",
      "[200]\tvalid_0's binary_logloss: 0.158198\n",
      "Early stopping, best iteration is:\n",
      "[111]\tvalid_0's binary_logloss: 0.158021\n",
      "[2018, ['MET2013'], ['INCTOT'], ['INCTOT', 'AGE'], ['hispanic'], 'high_income', ['SERIAL'], ['YEAR'], ['INCTOT'], 'INCTOT', ['non_white', 'hispanic', 'black', 'SEX'], ['msa_INCTOT', 'msa_AGE', 'msa_hispanic_density', 'INCTOT_gini_coef'], ['AGE_Grp', 'EDUC', 'MARST', 'RACE_Grp'], 100000, 5]\n",
      "Training until validation scores don't improve for 100 rounds\n",
      "[100]\tvalid_0's binary_logloss: 0.16014\n",
      "[200]\tvalid_0's binary_logloss: 0.160288\n",
      "Early stopping, best iteration is:\n",
      "[139]\tvalid_0's binary_logloss: 0.160104\n",
      "[2019, ['MET2013'], ['INCTOT'], ['INCTOT', 'AGE'], ['hispanic'], 'high_income', ['SERIAL'], ['YEAR'], ['INCTOT'], 'INCTOT', ['non_white', 'hispanic', 'black', 'SEX'], ['msa_INCTOT', 'msa_AGE', 'msa_hispanic_density', 'INCTOT_gini_coef'], ['AGE_Grp', 'EDUC', 'MARST', 'RACE_Grp'], 100000, 5]\n",
      "Training until validation scores don't improve for 100 rounds\n",
      "[100]\tvalid_0's binary_logloss: 0.15491\n",
      "[200]\tvalid_0's binary_logloss: 0.154852\n",
      "[300]\tvalid_0's binary_logloss: 0.154961\n",
      "Early stopping, best iteration is:\n",
      "[201]\tvalid_0's binary_logloss: 0.154845\n",
      "[2020, ['MET2013'], ['INCTOT'], ['INCTOT', 'AGE'], ['hispanic'], 'high_income', ['SERIAL'], ['YEAR'], ['INCTOT'], 'INCTOT', ['non_white', 'hispanic', 'black', 'SEX'], ['msa_INCTOT', 'msa_AGE', 'msa_hispanic_density', 'INCTOT_gini_coef'], ['AGE_Grp', 'EDUC', 'MARST', 'RACE_Grp'], 100000, 5]\n"
     ]
    }
   ],
   "source": [
    "run_df = pd.DataFrame([])\n",
    "hist_df = pd.DataFrame([])\n",
    "pred_df = pd.DataFrame([])\n",
    "model_df = pd.DataFrame([])\n",
    "\n",
    "for train_test_split_year in train_test_split_years:\n",
    "    \n",
    "    run_mode, hist_bias_stats, pred_bias_stats, model_stats, income_df = run_all_ipums_fns(ipums_select,\n",
    "                                                         train_test_split_year,\n",
    "                                                         group_cols,\n",
    "                                                         target,\n",
    "                                                         median_targets,\n",
    "                                                         mean_targets,\n",
    "                                                         dep_var_binary,\n",
    "                                                         id_var,\n",
    "                                                         split_var,\n",
    "                                                         dep_var,\n",
    "                                                         dep_bin,\n",
    "                                                         pg_vars,\n",
    "                                                         num_vars,\n",
    "                                                         cat_vars,\n",
    "                                                         sample_size,\n",
    "                                                         outcome_rate)\n",
    "    \n",
    "    run_df = append_stats(run_df,run_mode)\n",
    "    hist_df = append_stats(hist_df,hist_bias_stats)\n",
    "    pred_df = append_stats(pred_df,pred_bias_stats)\n",
    "    model_df = append_stats(model_df,model_stats)\n"
   ]
  },
  {
   "cell_type": "markdown",
   "metadata": {},
   "source": [
    "#### Combine all DFs in a run"
   ]
  },
  {
   "cell_type": "code",
   "execution_count": 25,
   "metadata": {},
   "outputs": [],
   "source": [
    "pd.set_option('display.float_format', lambda x: '%.5f' % x)"
   ]
  },
  {
   "cell_type": "code",
   "execution_count": 27,
   "metadata": {},
   "outputs": [],
   "source": [
    "# hist_df = hist_df.drop('Incl',axis=1)"
   ]
  },
  {
   "cell_type": "code",
   "execution_count": 28,
   "metadata": {},
   "outputs": [],
   "source": [
    "def stats_comparison(stats_df):\n",
    "    \n",
    "    stats_df.columns = train_test_split_years\n",
    "    stats_df['Incl'] = [0,1,0,1,0,1,0,1]\n",
    "\n",
    "    return(stats_df)"
   ]
  },
  {
   "cell_type": "code",
   "execution_count": 29,
   "metadata": {},
   "outputs": [],
   "source": [
    "def bias_all(hist_df,pred_df):\n",
    "    \n",
    "    hist_df_clean = stats_comparison(hist_df)\n",
    "    pred_df_clean = stats_comparison(pred_df)\n",
    "    \n",
    "    hist_pg = hist_df_clean[hist_df_clean['Incl'] == 1]\n",
    "    pred_pg = pred_df_clean[pred_df_clean['Incl'] == 1]\n",
    "\n",
    "    hist_pg = hist_pg.select_dtypes(include=np.number)\n",
    "    pred_pg = pred_pg.select_dtypes(include=np.number)\n",
    "\n",
    "    bias_pg = pred_pg/hist_pg\n",
    "    bias_pg['Group'] = ['Sex','Non-W','Hisp','Black']\n",
    "\n",
    "    return(bias_pg, hist_df_clean, pred_df_clean)"
   ]
  },
  {
   "cell_type": "code",
   "execution_count": 30,
   "metadata": {},
   "outputs": [],
   "source": [
    "bias_pg, hist_df_clean, pred_df_clean = bias_all(hist_df,pred_df)"
   ]
  },
  {
   "cell_type": "code",
   "execution_count": 31,
   "metadata": {},
   "outputs": [
    {
     "data": {
      "text/html": [
       "<div>\n",
       "<style scoped>\n",
       "    .dataframe tbody tr th:only-of-type {\n",
       "        vertical-align: middle;\n",
       "    }\n",
       "\n",
       "    .dataframe tbody tr th {\n",
       "        vertical-align: top;\n",
       "    }\n",
       "\n",
       "    .dataframe thead th {\n",
       "        text-align: right;\n",
       "    }\n",
       "</style>\n",
       "<table border=\"1\" class=\"dataframe\">\n",
       "  <thead>\n",
       "    <tr style=\"text-align: right;\">\n",
       "      <th></th>\n",
       "      <th>2017</th>\n",
       "      <th>2018</th>\n",
       "      <th>2019</th>\n",
       "      <th>2020</th>\n",
       "      <th>Incl</th>\n",
       "    </tr>\n",
       "  </thead>\n",
       "  <tbody>\n",
       "    <tr>\n",
       "      <th>0</th>\n",
       "      <td>0.07520</td>\n",
       "      <td>0.07225</td>\n",
       "      <td>0.07505</td>\n",
       "      <td>0.07516</td>\n",
       "      <td>0</td>\n",
       "    </tr>\n",
       "    <tr>\n",
       "      <th>1</th>\n",
       "      <td>0.02543</td>\n",
       "      <td>0.02507</td>\n",
       "      <td>0.02511</td>\n",
       "      <td>0.02501</td>\n",
       "      <td>1</td>\n",
       "    </tr>\n",
       "    <tr>\n",
       "      <th>2</th>\n",
       "      <td>0.05767</td>\n",
       "      <td>0.05625</td>\n",
       "      <td>0.05764</td>\n",
       "      <td>0.05748</td>\n",
       "      <td>0</td>\n",
       "    </tr>\n",
       "    <tr>\n",
       "      <th>3</th>\n",
       "      <td>0.03054</td>\n",
       "      <td>0.02899</td>\n",
       "      <td>0.03003</td>\n",
       "      <td>0.03088</td>\n",
       "      <td>1</td>\n",
       "    </tr>\n",
       "    <tr>\n",
       "      <th>4</th>\n",
       "      <td>0.05357</td>\n",
       "      <td>0.05207</td>\n",
       "      <td>0.05309</td>\n",
       "      <td>0.05322</td>\n",
       "      <td>0</td>\n",
       "    </tr>\n",
       "    <tr>\n",
       "      <th>5</th>\n",
       "      <td>0.01632</td>\n",
       "      <td>0.01431</td>\n",
       "      <td>0.01835</td>\n",
       "      <td>0.01818</td>\n",
       "      <td>1</td>\n",
       "    </tr>\n",
       "    <tr>\n",
       "      <th>6</th>\n",
       "      <td>0.05278</td>\n",
       "      <td>0.05117</td>\n",
       "      <td>0.05233</td>\n",
       "      <td>0.05247</td>\n",
       "      <td>0</td>\n",
       "    </tr>\n",
       "    <tr>\n",
       "      <th>7</th>\n",
       "      <td>0.01188</td>\n",
       "      <td>0.01317</td>\n",
       "      <td>0.01610</td>\n",
       "      <td>0.01473</td>\n",
       "      <td>1</td>\n",
       "    </tr>\n",
       "  </tbody>\n",
       "</table>\n",
       "</div>"
      ],
      "text/plain": [
       "     2017    2018    2019    2020  Incl\n",
       "0 0.07520 0.07225 0.07505 0.07516     0\n",
       "1 0.02543 0.02507 0.02511 0.02501     1\n",
       "2 0.05767 0.05625 0.05764 0.05748     0\n",
       "3 0.03054 0.02899 0.03003 0.03088     1\n",
       "4 0.05357 0.05207 0.05309 0.05322     0\n",
       "5 0.01632 0.01431 0.01835 0.01818     1\n",
       "6 0.05278 0.05117 0.05233 0.05247     0\n",
       "7 0.01188 0.01317 0.01610 0.01473     1"
      ]
     },
     "execution_count": 31,
     "metadata": {},
     "output_type": "execute_result"
    }
   ],
   "source": [
    "hist_df_clean"
   ]
  },
  {
   "cell_type": "code",
   "execution_count": 32,
   "metadata": {},
   "outputs": [
    {
     "data": {
      "text/html": [
       "<div>\n",
       "<style scoped>\n",
       "    .dataframe tbody tr th:only-of-type {\n",
       "        vertical-align: middle;\n",
       "    }\n",
       "\n",
       "    .dataframe tbody tr th {\n",
       "        vertical-align: top;\n",
       "    }\n",
       "\n",
       "    .dataframe thead th {\n",
       "        text-align: right;\n",
       "    }\n",
       "</style>\n",
       "<table border=\"1\" class=\"dataframe\">\n",
       "  <thead>\n",
       "    <tr style=\"text-align: right;\">\n",
       "      <th></th>\n",
       "      <th>2017</th>\n",
       "      <th>2018</th>\n",
       "      <th>2019</th>\n",
       "      <th>2020</th>\n",
       "      <th>Incl</th>\n",
       "    </tr>\n",
       "  </thead>\n",
       "  <tbody>\n",
       "    <tr>\n",
       "      <th>0</th>\n",
       "      <td>0.05450</td>\n",
       "      <td>0.05534</td>\n",
       "      <td>0.05382</td>\n",
       "      <td>0.05400</td>\n",
       "      <td>0</td>\n",
       "    </tr>\n",
       "    <tr>\n",
       "      <th>1</th>\n",
       "      <td>0.04507</td>\n",
       "      <td>0.04465</td>\n",
       "      <td>0.04632</td>\n",
       "      <td>0.04308</td>\n",
       "      <td>1</td>\n",
       "    </tr>\n",
       "    <tr>\n",
       "      <th>2</th>\n",
       "      <td>0.05970</td>\n",
       "      <td>0.06151</td>\n",
       "      <td>0.06324</td>\n",
       "      <td>0.06028</td>\n",
       "      <td>0</td>\n",
       "    </tr>\n",
       "    <tr>\n",
       "      <th>3</th>\n",
       "      <td>0.02507</td>\n",
       "      <td>0.02158</td>\n",
       "      <td>0.01550</td>\n",
       "      <td>0.02040</td>\n",
       "      <td>1</td>\n",
       "    </tr>\n",
       "    <tr>\n",
       "      <th>4</th>\n",
       "      <td>0.05464</td>\n",
       "      <td>0.05527</td>\n",
       "      <td>0.05507</td>\n",
       "      <td>0.05341</td>\n",
       "      <td>0</td>\n",
       "    </tr>\n",
       "    <tr>\n",
       "      <th>5</th>\n",
       "      <td>0.00365</td>\n",
       "      <td>0.00000</td>\n",
       "      <td>0.00054</td>\n",
       "      <td>0.00398</td>\n",
       "      <td>1</td>\n",
       "    </tr>\n",
       "    <tr>\n",
       "      <th>6</th>\n",
       "      <td>0.05342</td>\n",
       "      <td>0.05377</td>\n",
       "      <td>0.05374</td>\n",
       "      <td>0.05188</td>\n",
       "      <td>0</td>\n",
       "    </tr>\n",
       "    <tr>\n",
       "      <th>7</th>\n",
       "      <td>0.00072</td>\n",
       "      <td>0.00069</td>\n",
       "      <td>0.00140</td>\n",
       "      <td>0.00417</td>\n",
       "      <td>1</td>\n",
       "    </tr>\n",
       "  </tbody>\n",
       "</table>\n",
       "</div>"
      ],
      "text/plain": [
       "     2017    2018    2019    2020  Incl\n",
       "0 0.05450 0.05534 0.05382 0.05400     0\n",
       "1 0.04507 0.04465 0.04632 0.04308     1\n",
       "2 0.05970 0.06151 0.06324 0.06028     0\n",
       "3 0.02507 0.02158 0.01550 0.02040     1\n",
       "4 0.05464 0.05527 0.05507 0.05341     0\n",
       "5 0.00365 0.00000 0.00054 0.00398     1\n",
       "6 0.05342 0.05377 0.05374 0.05188     0\n",
       "7 0.00072 0.00069 0.00140 0.00417     1"
      ]
     },
     "execution_count": 32,
     "metadata": {},
     "output_type": "execute_result"
    }
   ],
   "source": [
    "pred_df_clean"
   ]
  },
  {
   "cell_type": "code",
   "execution_count": 33,
   "metadata": {},
   "outputs": [
    {
     "data": {
      "text/html": [
       "<div>\n",
       "<style scoped>\n",
       "    .dataframe tbody tr th:only-of-type {\n",
       "        vertical-align: middle;\n",
       "    }\n",
       "\n",
       "    .dataframe tbody tr th {\n",
       "        vertical-align: top;\n",
       "    }\n",
       "\n",
       "    .dataframe thead th {\n",
       "        text-align: right;\n",
       "    }\n",
       "</style>\n",
       "<table border=\"1\" class=\"dataframe\">\n",
       "  <thead>\n",
       "    <tr style=\"text-align: right;\">\n",
       "      <th></th>\n",
       "      <th>2017</th>\n",
       "      <th>2018</th>\n",
       "      <th>2019</th>\n",
       "      <th>2020</th>\n",
       "      <th>Incl</th>\n",
       "      <th>Group</th>\n",
       "    </tr>\n",
       "  </thead>\n",
       "  <tbody>\n",
       "    <tr>\n",
       "      <th>1</th>\n",
       "      <td>1.77222</td>\n",
       "      <td>1.78102</td>\n",
       "      <td>1.84453</td>\n",
       "      <td>1.72274</td>\n",
       "      <td>1.00000</td>\n",
       "      <td>Sex</td>\n",
       "    </tr>\n",
       "    <tr>\n",
       "      <th>3</th>\n",
       "      <td>0.82063</td>\n",
       "      <td>0.74434</td>\n",
       "      <td>0.51615</td>\n",
       "      <td>0.66063</td>\n",
       "      <td>1.00000</td>\n",
       "      <td>Non-W</td>\n",
       "    </tr>\n",
       "    <tr>\n",
       "      <th>5</th>\n",
       "      <td>0.22356</td>\n",
       "      <td>0.00000</td>\n",
       "      <td>0.02929</td>\n",
       "      <td>0.21910</td>\n",
       "      <td>1.00000</td>\n",
       "      <td>Hisp</td>\n",
       "    </tr>\n",
       "    <tr>\n",
       "      <th>7</th>\n",
       "      <td>0.06051</td>\n",
       "      <td>0.05278</td>\n",
       "      <td>0.08687</td>\n",
       "      <td>0.28313</td>\n",
       "      <td>1.00000</td>\n",
       "      <td>Black</td>\n",
       "    </tr>\n",
       "  </tbody>\n",
       "</table>\n",
       "</div>"
      ],
      "text/plain": [
       "     2017    2018    2019    2020    Incl  Group\n",
       "1 1.77222 1.78102 1.84453 1.72274 1.00000    Sex\n",
       "3 0.82063 0.74434 0.51615 0.66063 1.00000  Non-W\n",
       "5 0.22356 0.00000 0.02929 0.21910 1.00000   Hisp\n",
       "7 0.06051 0.05278 0.08687 0.28313 1.00000  Black"
      ]
     },
     "execution_count": 33,
     "metadata": {},
     "output_type": "execute_result"
    }
   ],
   "source": [
    "bias_pg"
   ]
  },
  {
   "cell_type": "markdown",
   "metadata": {},
   "source": [
    "# Tableau Extract - MSA - Year - PG"
   ]
  },
  {
   "cell_type": "markdown",
   "metadata": {},
   "source": [
    "#### Run for 1 year - 2017"
   ]
  },
  {
   "cell_type": "code",
   "execution_count": null,
   "metadata": {},
   "outputs": [],
   "source": [
    "# train_test_split_year = 2017\n",
    "\n",
    "# run_mode, hist_bias_stats, pred_bias_stats, model_stats, income_df = run_all_ipums_fns(ipums_select,\n",
    "#                                                          train_test_split_year,\n",
    "#                                                          group_cols,\n",
    "#                                                          target,\n",
    "#                                                          median_targets,\n",
    "#                                                          mean_targets,\n",
    "#                                                          dep_var_binary,\n",
    "#                                                          id_var,\n",
    "#                                                          split_var,\n",
    "#                                                          dep_var,\n",
    "#                                                          dep_bin,\n",
    "#                                                          pg_vars,\n",
    "#                                                          num_vars,\n",
    "#                                                          cat_vars,\n",
    "#                                                          sample_size,\n",
    "#                                                          outcome_rate)"
   ]
  },
  {
   "cell_type": "markdown",
   "metadata": {},
   "source": [
    "##### Create indicator"
   ]
  },
  {
   "cell_type": "code",
   "execution_count": null,
   "metadata": {},
   "outputs": [],
   "source": [
    "# # income_df['high_income'] = np.where(model_input['INCTOT'] == 'Hispanic any race',1,0)\n",
    "# income_df.columns"
   ]
  },
  {
   "cell_type": "markdown",
   "metadata": {},
   "source": [
    "##### Create gini and other percentiles info"
   ]
  },
  {
   "cell_type": "code",
   "execution_count": null,
   "metadata": {},
   "outputs": [],
   "source": [
    "# # Define gini runner\n",
    "# def gini_coef(income_array):\n",
    "#     bins, result, gini_val = gini_calc(income_array)\n",
    "#     return gini_val\n",
    "\n",
    "# def percentile(n):\n",
    "#     def percentile_(x):\n",
    "#         return np.percentile(x, n)\n",
    "#     percentile_.__name__ = 'percentile_%s' % n\n",
    "#     return percentile_# \n",
    "\n",
    "\n",
    "# hisp = income_df[['hispanic','YEAR', 'MSA','INCTOT']].groupby(['YEAR','MSA','hispanic']).mean()\n"
   ]
  },
  {
   "cell_type": "code",
   "execution_count": null,
   "metadata": {},
   "outputs": [],
   "source": [
    "# # Define group columns\n",
    "# group_cols = ['SEX','YEAR', 'MSA']\n",
    "\n",
    "# # Calculate percentiles \n",
    "# out_stats = (income_df.groupby(group_cols)[target]\n",
    "#        .agg([np.mean, percentile(25),percentile(50), percentile(75), \n",
    "#              percentile(90), percentile(95), percentile(99), gini_coef]))\n",
    "\n",
    "# out_stats = out_stats.reset_index()\n",
    "# out_stats.columns = ['_'.join(col).strip() for col in out_stats.columns.values]\n",
    "\n",
    "# out_stats.head()\n",
    "\n",
    "# # sex = income_df[['SEX','YEAR', 'MSA','high_income']].groupby(['YEAR','MSA','SEX']).mean()\n",
    "# # non_white = income_df[['non_white', 'YEAR','MSA', 'high_income']].groupby(['YEAR','MSA','non_white']).mean()"
   ]
  },
  {
   "cell_type": "code",
   "execution_count": null,
   "metadata": {},
   "outputs": [],
   "source": [
    "# out_stats.to_csv('Tableau Exhibit 2 - Gender Pay Disparity.csv')"
   ]
  }
 ],
 "metadata": {
  "kernelspec": {
   "display_name": "Python 3",
   "language": "python",
   "name": "python3"
  },
  "language_info": {
   "codemirror_mode": {
    "name": "ipython",
    "version": 3
   },
   "file_extension": ".py",
   "mimetype": "text/x-python",
   "name": "python",
   "nbconvert_exporter": "python",
   "pygments_lexer": "ipython3",
   "version": "3.7.7"
  }
 },
 "nbformat": 4,
 "nbformat_minor": 4
}
