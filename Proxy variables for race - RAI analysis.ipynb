{
 "cells": [
  {
   "cell_type": "markdown",
   "metadata": {},
   "source": [
    "# Race prediction using demographic data"
   ]
  },
  {
   "cell_type": "markdown",
   "metadata": {},
   "source": [
    "## Introduction\n",
    "\n",
    "#### This notebook creates a model to predict whether an individual is of hispanic origin based on a number of factors available in US Census. It then builds another model to predict \"high income\" individuals, and measures the model bias using direct & proxy methods.\n",
    "\n",
    "User will have to request a data download (free) from IPUMS USA themselves - https://usa.ipums.org/usa/about.shtml\n",
    "\n",
    "Data description details can be found at the link below: <br>\n",
    "https://docs.google.com/document/d/1RVYKlNVE5pepIYnt645VSrWf_cPOJNBVhoWNKXRbKdk/edit?usp=sharing\n",
    "\n",
    "Analysis sections of this notebook: <br>\n",
    "0. Import packages\n",
    "1. Read data and apply filters / clean-ups\n",
    "2. Build MSA-level historical features\n",
    "3. Build hispanic proxy model\n",
    "4. Interpret model drivers and evaluate performance\n",
    "5. Build high income model, exclude PG variables from inputs\n",
    "6. Run fairness scenarioes to measure bias / performance tradeoff\n",
    "7. Interpret model drivers, performance and bias"
   ]
  },
  {
   "cell_type": "markdown",
   "metadata": {},
   "source": [
    "### 1. Imports"
   ]
  },
  {
   "cell_type": "code",
   "execution_count": 1,
   "metadata": {},
   "outputs": [],
   "source": [
    "# Import analysis libraries\n",
    "import time\n",
    "import warnings\n",
    "warnings.filterwarnings(\"ignore\")\n",
    "import pandas as pd\n",
    "import numpy as np\n",
    "import matplotlib.pyplot as plt\n",
    "from sklearn import preprocessing\n",
    "from sklearn.model_selection import GridSearchCV\n",
    "from sklearn.ensemble import RandomForestClassifier\n",
    "\n",
    "from sklearn.metrics import log_loss\n",
    "from sklearn.tree import DecisionTreeClassifier\n",
    "from sklearn.preprocessing import LabelEncoder\n",
    "from sklearn import datasets, metrics, model_selection, svm\n",
    "\n",
    "\n",
    "# from notebooks/ directory\n",
    "import sys, os\n",
    "\n",
    "# ADDITIONS:\n",
    "from src.RAI import DataBiasChecker, ModelBiasRanker, ModelBiasHandler\n",
    "\n",
    "# Python settings\n",
    "pd.set_option('display.max_columns', None)\n",
    "pd.set_option('display.float_format', lambda x: '%.3f' % x)\n"
   ]
  },
  {
   "cell_type": "markdown",
   "metadata": {},
   "source": [
    "### 2. Read data"
   ]
  },
  {
   "cell_type": "code",
   "execution_count": 2,
   "metadata": {},
   "outputs": [],
   "source": [
    "## Download input file from BCG Egnyte - RAI folder\n",
    "## https://bcg01.egnyte.com/navigate/folder/881ba5c2-8f6e-4eb6-b940-848faa78dee9\n",
    "model_input_path = './data/usa_IPUMS_2022.csv.gz'\n",
    "ipums_select = pd.read_csv(model_input_path, compression='gzip', header=0, sep=',', quotechar='\"', error_bad_lines=False,\n",
    "                       usecols = ['INCTOT','AGE','YEAR','MET2013','RACE','HISPAN', 'RENT','MORTGAGE',\n",
    "                     'SERIAL', 'CBSERIAL', 'NUMPREC', 'SUBSAMP', 'HHWT','HHTYPE', 'EDUC', 'MARST'])\n"
   ]
  },
  {
   "cell_type": "markdown",
   "metadata": {},
   "source": [
    "### Filter down to working age (18-80) records for which we have income"
   ]
  },
  {
   "cell_type": "code",
   "execution_count": 3,
   "metadata": {},
   "outputs": [],
   "source": [
    "def clean_age_income(model_input):\n",
    "    \n",
    "    # Remove Missing values\n",
    "    # model_input.INCTOT.max()\n",
    "    # 9999999\n",
    "    print(\"Starting individual/year records: \", model_input.shape)\n",
    "    model_input = model_input[model_input['INCTOT'] != 9999999]\n",
    "    model_input = model_input[model_input['INCTOT'] > 0]\n",
    "    print(\"Removing null income - remaining records: \", model_input.shape)\n",
    "    # model_input.INCTOT.hist(bins = 50)\n",
    "    model_input = model_input[model_input['AGE'] > 18]\n",
    "#     model_input = model_input[model_input['AGE'] < 80]\n",
    "    print(\"Removing ages <18 & >80 - remaining records: \", model_input.shape)\n",
    "    # model_input.AGE.hist(bins = 61)\n",
    "    \n",
    "    return(model_input)"
   ]
  },
  {
   "cell_type": "code",
   "execution_count": 4,
   "metadata": {},
   "outputs": [
    {
     "name": "stdout",
     "output_type": "stream",
     "text": [
      "Starting individual/year records:  (15947624, 16)\n",
      "Removing null income - remaining records:  (11607441, 16)\n",
      "Removing ages <18 & >80 - remaining records:  (11281261, 16)\n"
     ]
    }
   ],
   "source": [
    "model_input = clean_age_income(ipums_select)"
   ]
  },
  {
   "cell_type": "markdown",
   "metadata": {},
   "source": [
    "### Create a binary target variables"
   ]
  },
  {
   "cell_type": "code",
   "execution_count": 5,
   "metadata": {},
   "outputs": [
    {
     "data": {
      "text/plain": [
       "0   0.929\n",
       "1   0.071\n",
       "Name: hispanic, dtype: float64"
      ]
     },
     "execution_count": 5,
     "metadata": {},
     "output_type": "execute_result"
    }
   ],
   "source": [
    "model_input['hispanic'] = np.where(model_input.HISPAN == 1,1,0)\n",
    "model_input['hispanic'].value_counts(normalize=True)"
   ]
  },
  {
   "cell_type": "markdown",
   "metadata": {},
   "source": [
    "### 3. Create MSA Historical features"
   ]
  },
  {
   "cell_type": "code",
   "execution_count": 6,
   "metadata": {},
   "outputs": [],
   "source": [
    "# select only historical data for training\n",
    "model_input_historical = model_input[model_input['YEAR'] < 2020]\n",
    "targets = ['hispanic', 'INCTOT', 'AGE']"
   ]
  },
  {
   "cell_type": "code",
   "execution_count": 7,
   "metadata": {},
   "outputs": [],
   "source": [
    "def msa_extractor(model_input, model_input_historical, targets):\n",
    "    summary_df_yr_msa = pd.DataFrame(model_input_historical.groupby('MET2013')[targets].mean())\n",
    "    summary_df_yr_msa = summary_df_yr_msa.reset_index()\n",
    "    summary_df_yr_msa.columns = ['MET2013', 'msa_hispanic_density','msa_median_INCTOT','msa_AGE']\n",
    "    \n",
    "    model_input = model_input.merge(summary_df_yr_msa, on = 'MET2013')\n",
    "\n",
    "    print(summary_df_yr_msa.head(2))x\n",
    "    \n",
    "    return(model_input)"
   ]
  },
  {
   "cell_type": "code",
   "execution_count": 8,
   "metadata": {},
   "outputs": [
    {
     "name": "stdout",
     "output_type": "stream",
     "text": [
      "   MET2013  msa_hispanic_density  msa_median_INCTOT  msa_AGE\n",
      "0        0                 0.033          38255.515   53.050\n",
      "1    10420                 0.005          45092.570   51.564\n"
     ]
    }
   ],
   "source": [
    "model_input = msa_extractor(model_input, model_input_historical, targets)"
   ]
  },
  {
   "cell_type": "markdown",
   "metadata": {},
   "source": [
    "### Input parameters <- re-run start here"
   ]
  },
  {
   "cell_type": "code",
   "execution_count": 9,
   "metadata": {},
   "outputs": [],
   "source": [
    "# set parameters for bias check\n",
    "dependent = 'hispanic'  # dependent variable we measure\n",
    "dependent_bin = 'hispanic_origin'"
   ]
  },
  {
   "cell_type": "markdown",
   "metadata": {},
   "source": [
    "### Take sample and build model input dataframe"
   ]
  },
  {
   "cell_type": "code",
   "execution_count": 10,
   "metadata": {},
   "outputs": [],
   "source": [
    "model_sample = model_input.sample(n=200000, random_state = 42)"
   ]
  },
  {
   "cell_type": "code",
   "execution_count": 11,
   "metadata": {},
   "outputs": [],
   "source": [
    "# Encode chose parameter for disadvantaged class as binary variable\n",
    "model_sample[dependent_bin] = model_sample[dependent]\n",
    "\n",
    "##### Run functions to create dummies for categorical variables and normalize numeric\n",
    "num_vars = ['RENT','MORTGAGE', 'AGE', 'INCTOT', 'msa_hispanic_density','msa_median_INCTOT','msa_AGE']\n",
    "\n",
    "cat_vars = ['EDUC','MARST', 'HHTYPE']"
   ]
  },
  {
   "cell_type": "code",
   "execution_count": 12,
   "metadata": {},
   "outputs": [],
   "source": [
    "def normalize_num(df, num_cols):\n",
    "    \"\"\"\n",
    "    This function normalizes numeric variables\n",
    "\n",
    "    Args:\n",
    "        df: pandas df with numeric columns to normalize\n",
    "        num_cols: list of numeric column names\n",
    "\n",
    "    Result:\n",
    "        Returns same dataframe with normalized data\n",
    "    \"\"\"\n",
    "\n",
    "    x = df[num_cols].values  # returns a numpy array\n",
    "    min_max_scaler = preprocessing.MinMaxScaler()\n",
    "    x_scaled = min_max_scaler.fit_transform(x)\n",
    "    df_num = pd.DataFrame(x_scaled)\n",
    "    df_num.columns = num_cols\n",
    "    df_num = df_num.reset_index(drop=True)\n",
    "\n",
    "    df_drop = df.drop(num_cols, axis=1)\n",
    "    df_drop = df_drop.reset_index(drop=True)\n",
    "    df_final = pd.concat([df_drop, df_num], axis=1)\n",
    "\n",
    "    return df_final"
   ]
  },
  {
   "cell_type": "code",
   "execution_count": 13,
   "metadata": {},
   "outputs": [],
   "source": [
    "def model_input_build(model_sample,num_vars,cat_vars):\n",
    "\n",
    "    # This is an internal function which one-hot encodes all categorical and normalizes all numeric variables\n",
    "    model_data_norm = normalize_num(model_sample, num_vars)\n",
    "    model_data_cat = pd.get_dummies(model_sample[cat_vars], columns=cat_vars)\n",
    "    model_data_num = model_data_norm[num_vars]\n",
    "\n",
    "    # temp fix issue with multiple indices, creating more rows\n",
    "    model_data_num.index = model_sample.index\n",
    "    model_data_norm.index = model_sample.index\n",
    "    model_data_cat.index = model_sample.index\n",
    "\n",
    "    # Join\n",
    "    model_data_norm['ID'] = model_data_norm.index\n",
    "    model_data = pd.concat([model_data_norm[[dependent_bin, \"ID\"]], model_data_cat, model_data_num], axis=1)\n",
    "\n",
    "    # Print shape of final machine-learning ready data frame\n",
    "    print(\"Model data shape: \", model_data.shape)\n",
    "    \n",
    "    return(model_data)"
   ]
  },
  {
   "cell_type": "code",
   "execution_count": 14,
   "metadata": {},
   "outputs": [
    {
     "name": "stdout",
     "output_type": "stream",
     "text": [
      "Model data shape:  (200000, 35)\n"
     ]
    }
   ],
   "source": [
    "model_data = model_input_build(model_sample,num_vars,cat_vars)"
   ]
  },
  {
   "cell_type": "code",
   "execution_count": 15,
   "metadata": {},
   "outputs": [
    {
     "data": {
      "text/plain": [
       "(200000, 35)"
      ]
     },
     "execution_count": 15,
     "metadata": {},
     "output_type": "execute_result"
    }
   ],
   "source": [
    "model_data.shape"
   ]
  },
  {
   "cell_type": "markdown",
   "metadata": {},
   "source": [
    "### Build toy model - measure AUC and Accuracy"
   ]
  },
  {
   "cell_type": "code",
   "execution_count": 16,
   "metadata": {},
   "outputs": [
    {
     "name": "stdout",
     "output_type": "stream",
     "text": [
      "Training until validation scores don't improve for 100 rounds\n",
      "[100]\tvalid_0's binary_logloss: 0.168239\n",
      "[200]\tvalid_0's binary_logloss: 0.167087\n",
      "[300]\tvalid_0's binary_logloss: 0.166911\n",
      "[400]\tvalid_0's binary_logloss: 0.166841\n",
      "Early stopping, best iteration is:\n",
      "[348]\tvalid_0's binary_logloss: 0.166811\n"
     ]
    },
    {
     "data": {
      "text/plain": [
       "LGBMClassifier(max_depth=3, n_estimators=1000, objective='binary')"
      ]
     },
     "execution_count": 16,
     "metadata": {},
     "output_type": "execute_result"
    }
   ],
   "source": [
    "from seaborn import load_dataset\n",
    "from sklearn.model_selection import train_test_split\n",
    "from lightgbm import LGBMClassifier\n",
    "import shap\n",
    "\n",
    "\n",
    "X = model_data.drop(labels=[dependent_bin], axis=1)\n",
    "X = X.drop(labels=['ID'], axis=1)\n",
    "# Run once without INCTOT - see if proxy bias lower\n",
    "X = X.drop(labels=['INCTOT'], axis=1)\n",
    "\n",
    "y = model_data[dependent_bin]\n",
    "\n",
    "features = X.columns\n",
    "cat_features = []\n",
    "for cat in X.select_dtypes(exclude=\"number\"):\n",
    "    cat_features.append(cat)\n",
    "    X[cat] = X[cat].astype(\"category\").cat.codes.astype(\"category\")\n",
    "\n",
    "X_train, X_val, y_train, y_val = train_test_split(X,y,train_size=.8, random_state=42)\n",
    "\n",
    "clf = LGBMClassifier(max_depth=3, n_estimators=1000, objective=\"binary\")\n",
    "clf.fit(X_train,y_train, eval_set=(X_val,y_val), early_stopping_rounds=100, verbose=100) "
   ]
  },
  {
   "cell_type": "markdown",
   "metadata": {},
   "source": [
    "### AUC"
   ]
  },
  {
   "cell_type": "code",
   "execution_count": 17,
   "metadata": {},
   "outputs": [
    {
     "data": {
      "image/png": "[encoded data removed]",
      "text/plain": [
       "<Figure size 432x288 with 1 Axes>"
      ]
     },
     "metadata": {
      "needs_background": "light"
     },
     "output_type": "display_data"
    }
   ],
   "source": [
    "y_pred_proba = clf.predict_proba(X_val)[::,1]\n",
    "fpr, tpr, _ = metrics.roc_curve(y_val,  y_pred_proba)\n",
    "auc = metrics.roc_auc_score(y_val, y_pred_proba)\n",
    "plt.plot(fpr,tpr,label=\"Hispanic, auc=\"+str(auc))\n",
    "plt.legend(loc=4)\n",
    "plt.show()"
   ]
  },
  {
   "cell_type": "markdown",
   "metadata": {},
   "source": [
    "### Jaccard Accuracy"
   ]
  },
  {
   "cell_type": "code",
   "execution_count": 18,
   "metadata": {},
   "outputs": [
    {
     "data": {
      "text/plain": [
       "0.9399"
      ]
     },
     "execution_count": 18,
     "metadata": {},
     "output_type": "execute_result"
    }
   ],
   "source": [
    "metrics.accuracy_score(y_val, clf.predict(X_val))"
   ]
  },
  {
   "cell_type": "markdown",
   "metadata": {},
   "source": [
    "### 4. Explainability - proxy model drivers"
   ]
  },
  {
   "cell_type": "code",
   "execution_count": 19,
   "metadata": {},
   "outputs": [
    {
     "name": "stderr",
     "output_type": "stream",
     "text": [
      "LightGBM binary classifier with TreeExplainer shap values output has changed to a list of ndarray\n"
     ]
    }
   ],
   "source": [
    "explainer = shap.TreeExplainer(clf)\n",
    "shap_values = explainer.shap_values(X_train)\n",
    "sv = np.array(shap_values)\n",
    "y = clf.predict(X_train).astype(\"bool\")\n",
    "# shap values for high income\n",
    "sv_target = sv[:,y,:]\n",
    "# shap values for not high income\n",
    "sv_nontarget = sv[:,~y,:]"
   ]
  },
  {
   "cell_type": "code",
   "execution_count": 20,
   "metadata": {},
   "outputs": [
    {
     "data": {
      "image/png": "[encoded data removed]",
      "text/plain": [
       "<Figure size 576x684 with 2 Axes>"
      ]
     },
     "metadata": {
      "needs_background": "light"
     },
     "output_type": "display_data"
    }
   ],
   "source": [
    "# Variable importance plot - how to read\n",
    "# MSA_hispanic_density = percent of individuals who are hispanic in this MSA, historically\n",
    "# Age = lower age, higher chance of being hispanic\n",
    "# Educ 10 &11 = 4 years of college + graduate school = 1 = lower chance of being hispanic\n",
    "# Income = higher = lower chance of being hispanic\n",
    "shap.summary_plot(shap_values[1], X_train.astype(\"float\"))"
   ]
  },
  {
   "cell_type": "markdown",
   "metadata": {},
   "source": [
    "### Create proxy variable for Hispanic"
   ]
  },
  {
   "cell_type": "code",
   "execution_count": 21,
   "metadata": {},
   "outputs": [
    {
     "data": {
      "text/html": [
       "<div>\n",
       "<style scoped>\n",
       "    .dataframe tbody tr th:only-of-type {\n",
       "        vertical-align: middle;\n",
       "    }\n",
       "\n",
       "    .dataframe tbody tr th {\n",
       "        vertical-align: top;\n",
       "    }\n",
       "\n",
       "    .dataframe thead th {\n",
       "        text-align: right;\n",
       "    }\n",
       "</style>\n",
       "<table border=\"1\" class=\"dataframe\">\n",
       "  <thead>\n",
       "    <tr style=\"text-align: right;\">\n",
       "      <th>col_0</th>\n",
       "      <th>0</th>\n",
       "      <th>1</th>\n",
       "    </tr>\n",
       "    <tr>\n",
       "      <th>hispanic_origin</th>\n",
       "      <th></th>\n",
       "      <th></th>\n",
       "    </tr>\n",
       "  </thead>\n",
       "  <tbody>\n",
       "    <tr>\n",
       "      <th>0</th>\n",
       "      <td>178894</td>\n",
       "      <td>6887</td>\n",
       "    </tr>\n",
       "    <tr>\n",
       "      <th>1</th>\n",
       "      <td>6908</td>\n",
       "      <td>7311</td>\n",
       "    </tr>\n",
       "  </tbody>\n",
       "</table>\n",
       "</div>"
      ],
      "text/plain": [
       "col_0                 0     1\n",
       "hispanic_origin              \n",
       "0                178894  6887\n",
       "1                  6908  7311"
      ]
     },
     "execution_count": 21,
     "metadata": {},
     "output_type": "execute_result"
    }
   ],
   "source": [
    "# Assign a binary indicator to the highest 7.1% of model scores - these are the proxy group\n",
    "pg_rate = np.percentile(clf.predict_proba(X)[::,1], 100 - 7.1)\n",
    "\n",
    "# Count number of individauls labeled among 80K training set\n",
    "# np.where(clf.predict_proba(X_train)[::,1] > pg_rate,1,0).sum()\n",
    "\n",
    "# Perform cross-tab - accuracy is so so - 3.0 k 1,1 | 2.7 k 1,0, TPR < 70%\n",
    "pd.crosstab(model_data[dependent_bin], np.where(clf.predict_proba(X)[::,1] > pg_rate,1,0)) #.apply(lambda r: r/r.sum(), axis=1)"
   ]
  },
  {
   "cell_type": "markdown",
   "metadata": {},
   "source": [
    "### 5. Train second income - predict top 20% of income"
   ]
  },
  {
   "cell_type": "code",
   "execution_count": 37,
   "metadata": {},
   "outputs": [],
   "source": [
    "# set parameters for bias check\n",
    "dependent_2 = 'high_income'  # dependent variable we measure\n",
    "dependent_bin_2 = 'high_income_bin'\n",
    "\n",
    "# Positive rate\n",
    "pos_rate = 0.2"
   ]
  },
  {
   "cell_type": "code",
   "execution_count": 38,
   "metadata": {},
   "outputs": [
    {
     "name": "stdout",
     "output_type": "stream",
     "text": [
      "0   0.802\n",
      "1   0.198\n",
      "Name: high_income, dtype: float64\n"
     ]
    }
   ],
   "source": [
    "model_input_2 = model_data.copy()\n",
    "\n",
    "model_input_2['high_income'] = np.where(model_input_2.INCTOT > np.percentile(model_input_2.INCTOT,80),1,0)\n",
    "print(model_input_2['high_income'].value_counts(normalize=True))\n",
    "\n",
    "model_input_2['hispanic'] = model_data[dependent_bin]\n",
    "model_input_2['hispanic_proxy'] = np.where(clf.predict_proba(X)[::,1] > pg_rate,1,0)"
   ]
  },
  {
   "cell_type": "markdown",
   "metadata": {},
   "source": [
    "### Historical bias"
   ]
  },
  {
   "cell_type": "code",
   "execution_count": 39,
   "metadata": {},
   "outputs": [
    {
     "name": "stdout",
     "output_type": "stream",
     "text": [
      "                high_income\n",
      "hispanic_proxy             \n",
      "0                     0.208\n",
      "1                     0.077\n",
      "          high_income\n",
      "hispanic             \n",
      "0               0.206\n",
      "1               0.094\n"
     ]
    }
   ],
   "source": [
    "pd.set_option('display.float_format', lambda x: '%.3f' % x)\n",
    "\n",
    "print(model_input_2[['hispanic_proxy', 'high_income']].groupby(['hispanic_proxy']).mean())\n",
    "\n",
    "print(model_input_2[['hispanic', 'high_income']].groupby(['hispanic']).mean())"
   ]
  },
  {
   "cell_type": "markdown",
   "metadata": {},
   "source": [
    "### 6. Run RAI analysis - hispanic actual"
   ]
  },
  {
   "cell_type": "code",
   "execution_count": 40,
   "metadata": {},
   "outputs": [],
   "source": [
    "# set parameters for bias check\n",
    "protected_group = 'hispanic'\n",
    "protected_group_proxy = 'hispanic_proxy' \n",
    "outcome_advantage = 1\n",
    "pg_disadvantage = 0 "
   ]
  },
  {
   "cell_type": "code",
   "execution_count": 41,
   "metadata": {},
   "outputs": [
    {
     "name": "stdout",
     "output_type": "stream",
     "text": [
      "Fitting 5 folds for each of 12 candidates, totalling 60 fits\n"
     ]
    },
    {
     "name": "stderr",
     "output_type": "stream",
     "text": [
      "[Parallel(n_jobs=-1)]: Using backend LokyBackend with 12 concurrent workers.\n",
      "[Parallel(n_jobs=-1)]: Done   8 tasks      | elapsed:   14.3s\n",
      "[Parallel(n_jobs=-1)]: Done  58 out of  60 | elapsed:   35.1s remaining:    1.2s\n",
      "[Parallel(n_jobs=-1)]: Done  60 out of  60 | elapsed:   35.7s finished\n"
     ]
    },
    {
     "name": "stdout",
     "output_type": "stream",
     "text": [
      "{'max_depth': 4, 'n_estimators': 200}\n"
     ]
    }
   ],
   "source": [
    "y_2 = model_input_2[dependent_2]\n",
    "\n",
    "model_input_2.drop(['high_income', 'INCTOT'], axis=1, inplace=True)\n",
    "\n",
    "X_train_2, X_val_2, y_train_2, y_val_2 = train_test_split(model_input_2,y_2,train_size=.8, random_state=42)\n",
    "\n",
    "\n",
    "pg_train_2 = X_train_2[protected_group]\n",
    "pg_train_proxy_2 = X_train_2[protected_group_proxy]\n",
    "\n",
    "X_train_2.drop(['hispanic', 'hispanic_proxy'], axis=1, inplace=True)\n",
    "X_val_2.drop(['hispanic', 'hispanic_proxy'], axis=1, inplace=True)\n",
    "\n",
    "# X_train_2 = model_input_2.drop(labels=[dependent], axis=1)\n",
    "# X_train_2 = X_train_2.drop(labels=['INCTOT'], axis=1)\n",
    "# X_train_2 = X_train_2.drop(labels=[protected_group], axis=1)\n",
    "# X_train_2 = X_train_2.drop(labels=[protected_group_proxy], axis=1)\n",
    "\n",
    "\n",
    "# y_train_2 = model_input_2[dependent]\n",
    "\n",
    "grid = {\"n_estimators\": [100, 200, 400],\n",
    "        \"max_depth\": [4, 6, 8, 10]}\n",
    "\n",
    "# Earlier model\n",
    "# clf = LGBMClassifier(max_depth=3, n_estimators=1000, objective=\"binary\")\n",
    "# clf.fit(X_train,y_train, eval_set=(X_val,y_val), early_stopping_rounds=100, verbose=100) \n",
    "\n",
    "# Option 2 - RF\n",
    "# rf_clf = RandomForestClassifier(class_weight=\"balanced\", random_state=42)\n",
    "\n",
    "clf_cv = GridSearchCV(clf, grid, cv=5, scoring=\"roc_auc\", refit=True, verbose=3, n_jobs=-1)\n",
    "clf_cv.fit(X_train_2, y_train_2)\n",
    "\n",
    "best_estimator = clf_cv.best_estimator_\n",
    "best_params = clf_cv.best_params_\n",
    "print(best_params)\n",
    "\n",
    "# best_estimator = RandomForestClassifier(max_depth=10, n_estimators=400, class_weight=\"balanced\", random_state=42)\n",
    "# best_estimator.fit(X_train, y_train)"
   ]
  },
  {
   "cell_type": "code",
   "execution_count": 42,
   "metadata": {},
   "outputs": [],
   "source": [
    "bias_ranker = ModelBiasRanker(best_estimator,\n",
    "                              pos_rate= pos_rate,\n",
    "                              bias_tolerance=0.2)"
   ]
  },
  {
   "cell_type": "code",
   "execution_count": 43,
   "metadata": {},
   "outputs": [
    {
     "data": {
      "text/plain": [
       "<src.RAI._model_bias_ranker.ModelBiasRanker at 0x7fd888b22250>"
      ]
     },
     "execution_count": 43,
     "metadata": {},
     "output_type": "execute_result"
    }
   ],
   "source": [
    "bias_ranker.fit(X_train_2, y_train_2, pg_train_2)"
   ]
  },
  {
   "cell_type": "code",
   "execution_count": 44,
   "metadata": {},
   "outputs": [
    {
     "data": {
      "text/html": [
       "<div>\n",
       "<style scoped>\n",
       "    .dataframe tbody tr th:only-of-type {\n",
       "        vertical-align: middle;\n",
       "    }\n",
       "\n",
       "    .dataframe tbody tr th {\n",
       "        vertical-align: top;\n",
       "    }\n",
       "\n",
       "    .dataframe thead th {\n",
       "        text-align: right;\n",
       "    }\n",
       "</style>\n",
       "<table border=\"1\" class=\"dataframe\">\n",
       "  <thead>\n",
       "    <tr style=\"text-align: right;\">\n",
       "      <th></th>\n",
       "      <th>Bias Test</th>\n",
       "      <th>Bias Index</th>\n",
       "      <th>Accuracy</th>\n",
       "      <th>TP</th>\n",
       "      <th>FN</th>\n",
       "      <th>TN</th>\n",
       "      <th>FP</th>\n",
       "      <th>Non PG Positive Rate</th>\n",
       "      <th>PG Positive Rate</th>\n",
       "    </tr>\n",
       "  </thead>\n",
       "  <tbody>\n",
       "    <tr>\n",
       "      <th>Naive</th>\n",
       "      <td>Fail</td>\n",
       "      <td>0.174</td>\n",
       "      <td>0.831</td>\n",
       "      <td>0.634</td>\n",
       "      <td>0.366</td>\n",
       "      <td>0.855</td>\n",
       "      <td>0.145</td>\n",
       "      <td>0.117</td>\n",
       "      <td>0.020</td>\n",
       "    </tr>\n",
       "    <tr>\n",
       "      <th>Threshold Best</th>\n",
       "      <td>Fail</td>\n",
       "      <td>0.258</td>\n",
       "      <td>0.819</td>\n",
       "      <td>0.543</td>\n",
       "      <td>0.457</td>\n",
       "      <td>0.888</td>\n",
       "      <td>0.112</td>\n",
       "      <td>0.211</td>\n",
       "      <td>0.055</td>\n",
       "    </tr>\n",
       "    <tr>\n",
       "      <th>Historic Parity</th>\n",
       "      <td>Fail</td>\n",
       "      <td>0.456</td>\n",
       "      <td>0.819</td>\n",
       "      <td>0.543</td>\n",
       "      <td>0.457</td>\n",
       "      <td>0.887</td>\n",
       "      <td>0.113</td>\n",
       "      <td>0.208</td>\n",
       "      <td>0.095</td>\n",
       "    </tr>\n",
       "    <tr>\n",
       "      <th>Demographic Parity</th>\n",
       "      <td>Pass</td>\n",
       "      <td>1.000</td>\n",
       "      <td>0.816</td>\n",
       "      <td>0.535</td>\n",
       "      <td>0.465</td>\n",
       "      <td>0.886</td>\n",
       "      <td>0.114</td>\n",
       "      <td>0.200</td>\n",
       "      <td>0.200</td>\n",
       "    </tr>\n",
       "  </tbody>\n",
       "</table>\n",
       "</div>"
      ],
      "text/plain": [
       "                   Bias Test Bias Index Accuracy    TP    FN    TN    FP  \\\n",
       "Naive                   Fail      0.174    0.831 0.634 0.366 0.855 0.145   \n",
       "Threshold Best          Fail      0.258    0.819 0.543 0.457 0.888 0.112   \n",
       "Historic Parity         Fail      0.456    0.819 0.543 0.457 0.887 0.113   \n",
       "Demographic Parity      Pass      1.000    0.816 0.535 0.465 0.886 0.114   \n",
       "\n",
       "                   Non PG Positive Rate PG Positive Rate  \n",
       "Naive                             0.117            0.020  \n",
       "Threshold Best                    0.211            0.055  \n",
       "Historic Parity                   0.208            0.095  \n",
       "Demographic Parity                0.200            0.200  "
      ]
     },
     "execution_count": 44,
     "metadata": {},
     "output_type": "execute_result"
    }
   ],
   "source": [
    "bias_ranker.results_"
   ]
  },
  {
   "cell_type": "markdown",
   "metadata": {},
   "source": [
    "### 6. Run RAI analysis - hispanic proxy"
   ]
  },
  {
   "cell_type": "code",
   "execution_count": 45,
   "metadata": {},
   "outputs": [],
   "source": [
    "# y_train_2 = model_input_2[dependent]\n",
    "pg_train = model_input_2[protected_group_proxy]"
   ]
  },
  {
   "cell_type": "code",
   "execution_count": 49,
   "metadata": {},
   "outputs": [],
   "source": [
    "bias_ranker = ModelBiasRanker(best_estimator,\n",
    "                              pos_rate=pos_rate,\n",
    "                              bias_tolerance=0.2)"
   ]
  },
  {
   "cell_type": "code",
   "execution_count": 50,
   "metadata": {},
   "outputs": [
    {
     "data": {
      "text/plain": [
       "<src.RAI._model_bias_ranker.ModelBiasRanker at 0x7fd878785e90>"
      ]
     },
     "execution_count": 50,
     "metadata": {},
     "output_type": "execute_result"
    }
   ],
   "source": [
    "bias_ranker.fit(X_train_2, y_train_2, pg_train_proxy_2)"
   ]
  },
  {
   "cell_type": "code",
   "execution_count": 51,
   "metadata": {},
   "outputs": [
    {
     "data": {
      "text/html": [
       "<div>\n",
       "<style scoped>\n",
       "    .dataframe tbody tr th:only-of-type {\n",
       "        vertical-align: middle;\n",
       "    }\n",
       "\n",
       "    .dataframe tbody tr th {\n",
       "        vertical-align: top;\n",
       "    }\n",
       "\n",
       "    .dataframe thead th {\n",
       "        text-align: right;\n",
       "    }\n",
       "</style>\n",
       "<table border=\"1\" class=\"dataframe\">\n",
       "  <thead>\n",
       "    <tr style=\"text-align: right;\">\n",
       "      <th></th>\n",
       "      <th>Bias Test</th>\n",
       "      <th>Bias Index</th>\n",
       "      <th>Accuracy</th>\n",
       "      <th>TP</th>\n",
       "      <th>FN</th>\n",
       "      <th>TN</th>\n",
       "      <th>FP</th>\n",
       "      <th>Non PG Positive Rate</th>\n",
       "      <th>PG Positive Rate</th>\n",
       "    </tr>\n",
       "  </thead>\n",
       "  <tbody>\n",
       "    <tr>\n",
       "      <th>Naive</th>\n",
       "      <td>Fail</td>\n",
       "      <td>0.048</td>\n",
       "      <td>0.831</td>\n",
       "      <td>0.634</td>\n",
       "      <td>0.366</td>\n",
       "      <td>0.855</td>\n",
       "      <td>0.145</td>\n",
       "      <td>0.118</td>\n",
       "      <td>0.006</td>\n",
       "    </tr>\n",
       "    <tr>\n",
       "      <th>Threshold Best</th>\n",
       "      <td>Fail</td>\n",
       "      <td>0.101</td>\n",
       "      <td>0.819</td>\n",
       "      <td>0.543</td>\n",
       "      <td>0.457</td>\n",
       "      <td>0.888</td>\n",
       "      <td>0.112</td>\n",
       "      <td>0.214</td>\n",
       "      <td>0.021</td>\n",
       "    </tr>\n",
       "    <tr>\n",
       "      <th>Historic Parity</th>\n",
       "      <td>Fail</td>\n",
       "      <td>0.376</td>\n",
       "      <td>0.818</td>\n",
       "      <td>0.542</td>\n",
       "      <td>0.458</td>\n",
       "      <td>0.887</td>\n",
       "      <td>0.113</td>\n",
       "      <td>0.209</td>\n",
       "      <td>0.079</td>\n",
       "    </tr>\n",
       "    <tr>\n",
       "      <th>Demographic Parity</th>\n",
       "      <td>Pass</td>\n",
       "      <td>1.000</td>\n",
       "      <td>0.815</td>\n",
       "      <td>0.534</td>\n",
       "      <td>0.466</td>\n",
       "      <td>0.885</td>\n",
       "      <td>0.115</td>\n",
       "      <td>0.200</td>\n",
       "      <td>0.200</td>\n",
       "    </tr>\n",
       "  </tbody>\n",
       "</table>\n",
       "</div>"
      ],
      "text/plain": [
       "                   Bias Test Bias Index Accuracy    TP    FN    TN    FP  \\\n",
       "Naive                   Fail      0.048    0.831 0.634 0.366 0.855 0.145   \n",
       "Threshold Best          Fail      0.101    0.819 0.543 0.457 0.888 0.112   \n",
       "Historic Parity         Fail      0.376    0.818 0.542 0.458 0.887 0.113   \n",
       "Demographic Parity      Pass      1.000    0.815 0.534 0.466 0.885 0.115   \n",
       "\n",
       "                   Non PG Positive Rate PG Positive Rate  \n",
       "Naive                             0.118            0.006  \n",
       "Threshold Best                    0.214            0.021  \n",
       "Historic Parity                   0.209            0.079  \n",
       "Demographic Parity                0.200            0.200  "
      ]
     },
     "execution_count": 51,
     "metadata": {},
     "output_type": "execute_result"
    }
   ],
   "source": [
    "bias_ranker.results_"
   ]
  },
  {
   "cell_type": "markdown",
   "metadata": {},
   "source": [
    "### 7. Evaluate drivers of income models"
   ]
  },
  {
   "cell_type": "code",
   "execution_count": 34,
   "metadata": {},
   "outputs": [
    {
     "name": "stdout",
     "output_type": "stream",
     "text": [
      "Training until validation scores don't improve for 100 rounds\n",
      "[100]\tvalid_0's binary_logloss: 0.38149\n",
      "[200]\tvalid_0's binary_logloss: 0.379222\n",
      "[300]\tvalid_0's binary_logloss: 0.378585\n",
      "[400]\tvalid_0's binary_logloss: 0.378424\n",
      "[500]\tvalid_0's binary_logloss: 0.378399\n",
      "Early stopping, best iteration is:\n",
      "[409]\tvalid_0's binary_logloss: 0.378339\n"
     ]
    },
    {
     "data": {
      "text/plain": [
       "LGBMClassifier(max_depth=3, n_estimators=1000, objective='binary')"
      ]
     },
     "execution_count": 34,
     "metadata": {},
     "output_type": "execute_result"
    }
   ],
   "source": [
    "clf_2 = LGBMClassifier(max_depth=3, n_estimators=1000, objective=\"binary\")\n",
    "clf_2.fit(X_train_2,y_train_2, eval_set=(X_val_2,y_val_2), early_stopping_rounds=100, verbose=100) "
   ]
  },
  {
   "cell_type": "code",
   "execution_count": 35,
   "metadata": {},
   "outputs": [
    {
     "name": "stderr",
     "output_type": "stream",
     "text": [
      "LightGBM binary classifier with TreeExplainer shap values output has changed to a list of ndarray\n"
     ]
    }
   ],
   "source": [
    "explainer_2 = shap.TreeExplainer(clf_2)\n",
    "shap_values_2 = explainer_2.shap_values(X_train_2)\n",
    "sv_2 = np.array(shap_values_2)\n",
    "y_2 = clf_2.predict(X_train_2).astype(\"bool\")\n",
    "# shap values for high income\n",
    "sv_target_2 = sv_2[:,y_2,:]\n",
    "# shap values for not high income\n",
    "sv_nontarget_2 = sv_2[:,~y_2,:]"
   ]
  },
  {
   "cell_type": "code",
   "execution_count": 36,
   "metadata": {},
   "outputs": [
    {
     "data": {
      "image/png": "[encoded data removed]",
      "text/plain": [
       "<Figure size 576x684 with 2 Axes>"
      ]
     },
     "metadata": {
      "needs_background": "light"
     },
     "output_type": "display_data"
    }
   ],
   "source": [
    "# Variable importance plot - how to read\n",
    "shap.summary_plot(shap_values_2[1], X_train_2.astype(\"float\"))"
   ]
  }
 ],
 "metadata": {
  "kernelspec": {
   "display_name": "Python 3",
   "language": "python",
   "name": "python3"
  },
  "language_info": {
   "codemirror_mode": {
    "name": "ipython",
    "version": 3
   },
   "file_extension": ".py",
   "mimetype": "text/x-python",
   "name": "python",
   "nbconvert_exporter": "python",
   "pygments_lexer": "ipython3",
   "version": "3.7.7"
  }
 },
 "nbformat": 4,
 "nbformat_minor": 4
}
